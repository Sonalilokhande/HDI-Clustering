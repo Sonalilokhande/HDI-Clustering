{
 "cells": [
  {
   "cell_type": "markdown",
   "metadata": {},
   "source": [
    "### Subsetting HIPPIE interactions with human orthologs of mouse physical interactors of Htt protein\n",
    "#### Shirasaki et al 2013"
   ]
  },
  {
   "cell_type": "code",
   "execution_count": 2,
   "metadata": {
    "collapsed": false
   },
   "outputs": [
    {
     "data": {
      "text/html": [
       "<table>\n",
       "<thead><tr><th scope=col>ID.Interactor.A</th><th scope=col>ID.Interactor.B</th><th scope=col>Alt.IDs.Interactor.A</th><th scope=col>Alt.IDs.Interactor.B</th></tr></thead>\n",
       "<tbody>\n",
       "\t<tr><td>  216      </td><td> 216       </td><td>AL1A1_HUMAN</td><td>AL1A1_HUMAN</td></tr>\n",
       "\t<tr><td> 3679      </td><td>1134       </td><td>ITA7_HUMAN </td><td>ACHA_HUMAN </td></tr>\n",
       "\t<tr><td>55607      </td><td>  71       </td><td>NEB1_HUMAN </td><td>ACTG_HUMAN </td></tr>\n",
       "\t<tr><td> 5552      </td><td> 960       </td><td>SRGN_HUMAN </td><td>CD44_HUMAN </td></tr>\n",
       "\t<tr><td> 2886      </td><td>2064       </td><td>GRB7_HUMAN </td><td>ERBB2_HUMAN</td></tr>\n",
       "\t<tr><td> 5058      </td><td>2064       </td><td>PAK1_HUMAN </td><td>ERBB2_HUMAN</td></tr>\n",
       "\t<tr><td> 1742      </td><td>2064       </td><td>DLG4_HUMAN </td><td>ERBB2_HUMAN</td></tr>\n",
       "\t<tr><td> 5296      </td><td>2064       </td><td>P85B_HUMAN </td><td>ERBB2_HUMAN</td></tr>\n",
       "\t<tr><td>26469      </td><td>2064       </td><td>PTN18_HUMAN</td><td>ERBB2_HUMAN</td></tr>\n",
       "\t<tr><td>55914      </td><td>2064       </td><td>LAP2_HUMAN </td><td>ERBB2_HUMAN</td></tr>\n",
       "</tbody>\n",
       "</table>\n"
      ],
      "text/latex": [
       "\\begin{tabular}{r|llll}\n",
       " ID.Interactor.A & ID.Interactor.B & Alt.IDs.Interactor.A & Alt.IDs.Interactor.B\\\\\n",
       "\\hline\n",
       "\t   216         &  216          & AL1A1\\_HUMAN & AL1A1\\_HUMAN\\\\\n",
       "\t  3679         & 1134          & ITA7\\_HUMAN  & ACHA\\_HUMAN \\\\\n",
       "\t 55607         &   71          & NEB1\\_HUMAN  & ACTG\\_HUMAN \\\\\n",
       "\t  5552         &  960          & SRGN\\_HUMAN  & CD44\\_HUMAN \\\\\n",
       "\t  2886         & 2064          & GRB7\\_HUMAN  & ERBB2\\_HUMAN\\\\\n",
       "\t  5058         & 2064          & PAK1\\_HUMAN  & ERBB2\\_HUMAN\\\\\n",
       "\t  1742         & 2064          & DLG4\\_HUMAN  & ERBB2\\_HUMAN\\\\\n",
       "\t  5296         & 2064          & P85B\\_HUMAN  & ERBB2\\_HUMAN\\\\\n",
       "\t 26469         & 2064          & PTN18\\_HUMAN & ERBB2\\_HUMAN\\\\\n",
       "\t 55914         & 2064          & LAP2\\_HUMAN  & ERBB2\\_HUMAN\\\\\n",
       "\\end{tabular}\n"
      ],
      "text/markdown": [
       "\n",
       "ID.Interactor.A | ID.Interactor.B | Alt.IDs.Interactor.A | Alt.IDs.Interactor.B | \n",
       "|---|---|---|---|---|---|---|---|---|---|\n",
       "|   216       |  216        | AL1A1_HUMAN | AL1A1_HUMAN | \n",
       "|  3679       | 1134        | ITA7_HUMAN  | ACHA_HUMAN  | \n",
       "| 55607       |   71        | NEB1_HUMAN  | ACTG_HUMAN  | \n",
       "|  5552       |  960        | SRGN_HUMAN  | CD44_HUMAN  | \n",
       "|  2886       | 2064        | GRB7_HUMAN  | ERBB2_HUMAN | \n",
       "|  5058       | 2064        | PAK1_HUMAN  | ERBB2_HUMAN | \n",
       "|  1742       | 2064        | DLG4_HUMAN  | ERBB2_HUMAN | \n",
       "|  5296       | 2064        | P85B_HUMAN  | ERBB2_HUMAN | \n",
       "| 26469       | 2064        | PTN18_HUMAN | ERBB2_HUMAN | \n",
       "| 55914       | 2064        | LAP2_HUMAN  | ERBB2_HUMAN | \n",
       "\n",
       "\n"
      ],
      "text/plain": [
       "   ID.Interactor.A ID.Interactor.B Alt.IDs.Interactor.A Alt.IDs.Interactor.B\n",
       "1    216            216            AL1A1_HUMAN          AL1A1_HUMAN         \n",
       "2   3679           1134            ITA7_HUMAN           ACHA_HUMAN          \n",
       "3  55607             71            NEB1_HUMAN           ACTG_HUMAN          \n",
       "4   5552            960            SRGN_HUMAN           CD44_HUMAN          \n",
       "5   2886           2064            GRB7_HUMAN           ERBB2_HUMAN         \n",
       "6   5058           2064            PAK1_HUMAN           ERBB2_HUMAN         \n",
       "7   1742           2064            DLG4_HUMAN           ERBB2_HUMAN         \n",
       "8   5296           2064            P85B_HUMAN           ERBB2_HUMAN         \n",
       "9  26469           2064            PTN18_HUMAN          ERBB2_HUMAN         \n",
       "10 55914           2064            LAP2_HUMAN           ERBB2_HUMAN         "
      ]
     },
     "metadata": {},
     "output_type": "display_data"
    },
    {
     "data": {
      "text/html": [
       "<ol class=list-inline>\n",
       "\t<li>161735</li>\n",
       "\t<li>20</li>\n",
       "</ol>\n"
      ],
      "text/latex": [
       "\\begin{enumerate*}\n",
       "\\item 161735\n",
       "\\item 20\n",
       "\\end{enumerate*}\n"
      ],
      "text/markdown": [
       "1. 161735\n",
       "2. 20\n",
       "\n",
       "\n"
      ],
      "text/plain": [
       "[1] 161735     20"
      ]
     },
     "metadata": {},
     "output_type": "display_data"
    },
    {
     "data": {
      "text/html": [
       "<ol class=list-inline>\n",
       "\t<li>564</li>\n",
       "\t<li>6</li>\n",
       "</ol>\n"
      ],
      "text/latex": [
       "\\begin{enumerate*}\n",
       "\\item 564\n",
       "\\item 6\n",
       "\\end{enumerate*}\n"
      ],
      "text/markdown": [
       "1. 564\n",
       "2. 6\n",
       "\n",
       "\n"
      ],
      "text/plain": [
       "[1] 564   6"
      ]
     },
     "metadata": {},
     "output_type": "display_data"
    },
    {
     "data": {
      "text/html": [
       "<ol class=list-inline>\n",
       "\t<li>28226</li>\n",
       "\t<li>20</li>\n",
       "</ol>\n"
      ],
      "text/latex": [
       "\\begin{enumerate*}\n",
       "\\item 28226\n",
       "\\item 20\n",
       "\\end{enumerate*}\n"
      ],
      "text/markdown": [
       "1. 28226\n",
       "2. 20\n",
       "\n",
       "\n"
      ],
      "text/plain": [
       "[1] 28226    20"
      ]
     },
     "metadata": {},
     "output_type": "display_data"
    },
    {
     "data": {
      "text/html": [
       "<table>\n",
       "<thead><tr><th></th><th scope=col>ID.Interactor.A</th><th scope=col>ID.Interactor.B</th><th scope=col>Alt.IDs.Interactor.A</th><th scope=col>Alt.IDs.Interactor.B</th></tr></thead>\n",
       "<tbody>\n",
       "\t<tr><th scope=row>1</th><td> 216       </td><td> 216       </td><td>AL1A1_HUMAN</td><td>AL1A1_HUMAN</td></tr>\n",
       "\t<tr><th scope=row>33</th><td>5594       </td><td>7409       </td><td>MK01_HUMAN </td><td>VAV_HUMAN  </td></tr>\n",
       "\t<tr><th scope=row>45</th><td>2185       </td><td>7409       </td><td>FAK2_HUMAN </td><td>VAV_HUMAN  </td></tr>\n",
       "\t<tr><th scope=row>108</th><td>3815       </td><td>3815       </td><td>KIT_HUMAN  </td><td>KIT_HUMAN  </td></tr>\n",
       "\t<tr><th scope=row>109</th><td>4067       </td><td>3815       </td><td>LYN_HUMAN  </td><td>KIT_HUMAN  </td></tr>\n",
       "\t<tr><th scope=row>110</th><td>5295       </td><td>3815       </td><td>P85A_HUMAN </td><td>KIT_HUMAN  </td></tr>\n",
       "\t<tr><th scope=row>111</th><td>5335       </td><td>3815       </td><td>PLCG1_HUMAN</td><td>KIT_HUMAN  </td></tr>\n",
       "\t<tr><th scope=row>112</th><td>5781       </td><td>3815       </td><td>PTN11_HUMAN</td><td>KIT_HUMAN  </td></tr>\n",
       "\t<tr><th scope=row>115</th><td>5777       </td><td>3815       </td><td>PTN6_HUMAN </td><td>KIT_HUMAN  </td></tr>\n",
       "\t<tr><th scope=row>116</th><td>5578       </td><td>3815       </td><td>KPCA_HUMAN </td><td>KIT_HUMAN  </td></tr>\n",
       "</tbody>\n",
       "</table>\n"
      ],
      "text/latex": [
       "\\begin{tabular}{r|llll}\n",
       "  & ID.Interactor.A & ID.Interactor.B & Alt.IDs.Interactor.A & Alt.IDs.Interactor.B\\\\\n",
       "\\hline\n",
       "\t1 &  216          &  216          & AL1A1\\_HUMAN & AL1A1\\_HUMAN\\\\\n",
       "\t33 & 5594          & 7409          & MK01\\_HUMAN  & VAV\\_HUMAN  \\\\\n",
       "\t45 & 2185          & 7409          & FAK2\\_HUMAN  & VAV\\_HUMAN  \\\\\n",
       "\t108 & 3815          & 3815          & KIT\\_HUMAN   & KIT\\_HUMAN  \\\\\n",
       "\t109 & 4067          & 3815          & LYN\\_HUMAN   & KIT\\_HUMAN  \\\\\n",
       "\t110 & 5295          & 3815          & P85A\\_HUMAN  & KIT\\_HUMAN  \\\\\n",
       "\t111 & 5335          & 3815          & PLCG1\\_HUMAN & KIT\\_HUMAN  \\\\\n",
       "\t112 & 5781          & 3815          & PTN11\\_HUMAN & KIT\\_HUMAN  \\\\\n",
       "\t115 & 5777          & 3815          & PTN6\\_HUMAN  & KIT\\_HUMAN  \\\\\n",
       "\t116 & 5578          & 3815          & KPCA\\_HUMAN  & KIT\\_HUMAN  \\\\\n",
       "\\end{tabular}\n"
      ],
      "text/markdown": [
       "\n",
       "| <!--/--> | ID.Interactor.A | ID.Interactor.B | Alt.IDs.Interactor.A | Alt.IDs.Interactor.B | \n",
       "|---|---|---|---|---|---|---|---|---|---|\n",
       "| 1 |  216        |  216        | AL1A1_HUMAN | AL1A1_HUMAN | \n",
       "| 33 | 5594        | 7409        | MK01_HUMAN  | VAV_HUMAN   | \n",
       "| 45 | 2185        | 7409        | FAK2_HUMAN  | VAV_HUMAN   | \n",
       "| 108 | 3815        | 3815        | KIT_HUMAN   | KIT_HUMAN   | \n",
       "| 109 | 4067        | 3815        | LYN_HUMAN   | KIT_HUMAN   | \n",
       "| 110 | 5295        | 3815        | P85A_HUMAN  | KIT_HUMAN   | \n",
       "| 111 | 5335        | 3815        | PLCG1_HUMAN | KIT_HUMAN   | \n",
       "| 112 | 5781        | 3815        | PTN11_HUMAN | KIT_HUMAN   | \n",
       "| 115 | 5777        | 3815        | PTN6_HUMAN  | KIT_HUMAN   | \n",
       "| 116 | 5578        | 3815        | KPCA_HUMAN  | KIT_HUMAN   | \n",
       "\n",
       "\n"
      ],
      "text/plain": [
       "    ID.Interactor.A ID.Interactor.B Alt.IDs.Interactor.A Alt.IDs.Interactor.B\n",
       "1    216             216            AL1A1_HUMAN          AL1A1_HUMAN         \n",
       "33  5594            7409            MK01_HUMAN           VAV_HUMAN           \n",
       "45  2185            7409            FAK2_HUMAN           VAV_HUMAN           \n",
       "108 3815            3815            KIT_HUMAN            KIT_HUMAN           \n",
       "109 4067            3815            LYN_HUMAN            KIT_HUMAN           \n",
       "110 5295            3815            P85A_HUMAN           KIT_HUMAN           \n",
       "111 5335            3815            PLCG1_HUMAN          KIT_HUMAN           \n",
       "112 5781            3815            PTN11_HUMAN          KIT_HUMAN           \n",
       "115 5777            3815            PTN6_HUMAN           KIT_HUMAN           \n",
       "116 5578            3815            KPCA_HUMAN           KIT_HUMAN           "
      ]
     },
     "metadata": {},
     "output_type": "display_data"
    },
    {
     "data": {
      "text/plain": [
       "R version 3.3.1 (2016-06-21)\n",
       "Platform: x86_64-w64-mingw32/x64 (64-bit)\n",
       "Running under: Windows 10 x64 (build 14393)\n",
       "\n",
       "locale:\n",
       "[1] LC_COLLATE=English_United States.1252 \n",
       "[2] LC_CTYPE=English_United States.1252   \n",
       "[3] LC_MONETARY=English_United States.1252\n",
       "[4] LC_NUMERIC=C                          \n",
       "[5] LC_TIME=English_United States.1252    \n",
       "\n",
       "attached base packages:\n",
       "[1] stats     graphics  grDevices utils     datasets  methods   base     \n",
       "\n",
       "loaded via a namespace (and not attached):\n",
       " [1] R6_2.2.0            magrittr_1.5        IRdisplay_0.4.4    \n",
       " [4] pbdZMQ_0.2-5        tools_3.3.1         crayon_1.3.2       \n",
       " [7] uuid_0.1-2          stringi_1.1.5       IRkernel_0.8.6.9000\n",
       "[10] jsonlite_1.4        stringr_1.2.0       digest_0.6.12      \n",
       "[13] repr_0.12.0         evaluate_0.10      "
      ]
     },
     "metadata": {},
     "output_type": "display_data"
    }
   ],
   "source": [
    "##################################################################\n",
    "## Hippie Dataset subset with Shirasaki2012 - Human orthologs ###\n",
    "##################################################################\n",
    "\n",
    "####################################################################################\n",
    "### If you have query data (df2) and want to match it with entries \n",
    "## in both columns of your original data frame (foreg. df1$A and df2$B\n",
    "##############################################################################\n",
    "path <- \"C:/Users/Sonali/Box Sync/Huntington Interactome/MutantHTT_Interactors/Mouse\"\n",
    "setwd(path)\n",
    "\n",
    "\n",
    "####################################################################################\n",
    "### Read the Hippie dataset ###\n",
    "### example: df1 <- data.frame(A=sample(1:10, 10), B=sample(1:10, 10)) ## sample data frame 1\n",
    "####################################################################################\n",
    "df1 <- read.delim(file= \"HIPPIE_lastupdated090514_cleaned.txt\", header = TRUE, sep= \"\\t\") ## Hippie Data set\n",
    "df1[1:10,1:4] ## the first 10 rows and 4 columns of your dataframe.\n",
    "#df1$ID.Interactor.A\n",
    "\n",
    "\n",
    "####################################################################################\n",
    "### Read the dataframe which contains the Entrez Gene IDs of the human orthologs\n",
    "### example:  df2 <- data.frame(C=1:5) # sample data frame 2\n",
    "####################################################################################\n",
    "df2 <- read.delim(file= \"ShirasakiHumanOrthologs.txt\", header = TRUE, sep= \"\\t\") ## Data frame containing entrez gene IDs\n",
    "\n",
    "dim(df1)\n",
    "dim(df2)\n",
    "\n",
    "########################################################################################\n",
    "### Intersection function - main function doing the job!\n",
    "### WILL GIVE YOU THE INTERSECTION OF THE COLUMN A WITH YOUR DATA COLUMN C FROM YOUR QUERY DATA FRAME###\n",
    "### REMEMBER THIS IS A LOGICAL VECTOR.SO YOU WILL GET A BUNCH OF TRUE AND FALSE VALUES#######\n",
    "##########################################################################################\n",
    "selectedRows <- (df1$ID.Interactor.A %in% df2$entrezgene | df1$ID.Interactor.B %in% df2$entrezgene) ## the main function that does the work!! ###\n",
    "\n",
    "###################################################################################################################\n",
    "### Now get the resultant dataframe we are looking for with corresponding columns from your huge Hippie dataset!\n",
    "##################################################################################################################\n",
    "\n",
    "dfReduced <- df1[selectedRows,] ## dataframe containing your results.\n",
    "dim(dfReduced) # dimensions of the dataframe\n",
    "dfReduced[1:10,1:4] # view the first 10 and first 4 columns of the dataframe\n",
    "\n",
    "#dfReduced ## have a look at the result.\n",
    "## class(dfReduced)\n",
    "\n",
    "#write.table(dfReduced, file=\"Shirasaki_Hip_Interactns.txt\", sep=\"\\t\", col.names = NA) ### export file in text format to the folder.\n",
    "\n",
    "sessionInfo()\n",
    "\n",
    "\n",
    "\n",
    "\n"
   ]
  }
 ],
 "metadata": {
  "kernelspec": {
   "display_name": "R",
   "language": "R",
   "name": "ir"
  },
  "language_info": {
   "codemirror_mode": "r",
   "file_extension": ".r",
   "mimetype": "text/x-r-source",
   "name": "R",
   "pygments_lexer": "r",
   "version": "3.3.1"
  }
 },
 "nbformat": 4,
 "nbformat_minor": 2
}
