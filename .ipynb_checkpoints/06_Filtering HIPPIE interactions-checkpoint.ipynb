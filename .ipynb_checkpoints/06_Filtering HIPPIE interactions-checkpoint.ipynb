{
 "cells": [
  {
   "cell_type": "markdown",
   "metadata": {},
   "source": [
    "### Filtering out HIPPIE interactions with confidence score of 0.4"
   ]
  },
  {
   "cell_type": "code",
   "execution_count": 2,
   "metadata": {
    "collapsed": false
   },
   "outputs": [
    {
     "data": {
      "text/html": [
       "<ol class=list-inline>\n",
       "\t<li>31995</li>\n",
       "\t<li>22</li>\n",
       "</ol>\n"
      ],
      "text/latex": [
       "\\begin{enumerate*}\n",
       "\\item 31995\n",
       "\\item 22\n",
       "\\end{enumerate*}\n"
      ],
      "text/markdown": [
       "1. 31995\n",
       "2. 22\n",
       "\n",
       "\n"
      ],
      "text/plain": [
       "[1] 31995    22"
      ]
     },
     "metadata": {},
     "output_type": "display_data"
    },
    {
     "ename": "ERROR",
     "evalue": "Error in eval(expr, envir, enclos): object 'x' not found\n",
     "output_type": "error",
     "traceback": [
      "Error in eval(expr, envir, enclos): object 'x' not found\nTraceback:\n"
     ]
    }
   ],
   "source": [
    "#####\n",
    "## Remove all entries with NA in the entrezid and alt id columns\n",
    "#####\n",
    "path <- \"C:/Users/Sonali/Box Sync/Huntington Interactome/MutantHTT_Interactors\"\n",
    "setwd(path)\n",
    "\n",
    "y <- read.table(file= \"FinalHippieInteractns.txt\", sep = \"\\t\", header = TRUE)\n",
    "#y <- read.delim (\"clipboard\" , header = T) # read the file \n",
    "\n",
    "# TEST$UNIT[is.na(TEST$UNIT)] <- as.character(TEST$STATUS[is.na(TEST$UNIT)])\n",
    "y <- y$\n",
    "\n",
    "#mydf <- y[complete.cases(y[,4,5]),] # remove rows that have NA in the Alt interactor A and B columns..so that we have a complete list of Uniprot IDs. \n",
    "dim(mydf)\n",
    "#write.table(mydf, file = \"FinalHippieInteractions_UniprotNAsRemoved.txt\", sep = \"\\t\", col.names = NA)\n",
    "\n",
    "\n",
    "### Filter out protein interactions with confidence values less than 3.0\n",
    "####################################################\n",
    "#getwd()\n",
    "#setwd(\"J:/Huntington interactome/MutantHTT_Interactors\")\n",
    "# x <- read.delim(file = \"FinalHippieInteractions_UniprotNAsRemoved.txt\", header = TRUE, sep = \"\\t\")\n",
    "x[1:5, 15:17]\n",
    "dim(x)\n",
    "class (x)\n",
    "length(x$Confidence.Value)\n",
    "\n",
    "threshold <- 0.3\n",
    "myfilteredHippieInteractns <- subset (x,x[,17] > threshold)\n",
    "myfilteredHippieInteractns1 <- myfilteredHippieInteractns[,c(5,6,17)]\n",
    "notduplicated <- myfilteredHippieInteractns1[!duplicated(myfilteredHippieInteractns1),] # 860 duplicate interactions removed\n",
    "uniquedf <- notduplicated[!duplicated(notduplicated[,1:2]),]\n",
    "\n",
    "# to remove rows that have the same values in column 1 and 2 # basically removing self loops \n",
    "rows = apply(uniquedf[, 1:2], 1, function(i) length(unique(i)) > 1)\n",
    "mydf <- uniquedf[rows,] # 199 self loops removed.\n",
    "# dim of mydf is 31185 rows (interactions)\n",
    "\n",
    "###########\n",
    "### Export file to directory\n",
    "##########################\n",
    "write.table(myfilteredHippieInteractns, file = \"filteredHippieInteractions_0pt3.txt\",sep = \"\\t\", col.names = NA)\n",
    "write.table(mydf, file = \"Clusterone_input_HippieInteractions_0pt3.txt\",sep = \"\\t\", col.names = NA)\n",
    "\n",
    "sessionInfo()\n"
   ]
  },
  {
   "cell_type": "code",
   "execution_count": null,
   "metadata": {
    "collapsed": true
   },
   "outputs": [],
   "source": []
  }
 ],
 "metadata": {
  "kernelspec": {
   "display_name": "R",
   "language": "R",
   "name": "ir"
  },
  "language_info": {
   "codemirror_mode": "r",
   "file_extension": ".r",
   "mimetype": "text/x-r-source",
   "name": "R",
   "pygments_lexer": "r",
   "version": "3.3.1"
  }
 },
 "nbformat": 4,
 "nbformat_minor": 2
}
