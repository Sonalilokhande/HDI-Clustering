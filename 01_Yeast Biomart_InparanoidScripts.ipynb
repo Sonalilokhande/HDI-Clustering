{
 "cells": [
  {
   "cell_type": "markdown",
   "metadata": {},
   "source": [
    "### Detecting human orthologs for yeast genetic interactors of Huntingtin protein.\n",
    "#### Mason etal_2013"
   ]
  },
  {
   "cell_type": "code",
   "execution_count": 1,
   "metadata": {
    "collapsed": false
   },
   "outputs": [
    {
     "name": "stderr",
     "output_type": "stream",
     "text": [
      "Warning message:\n",
      "\"package 'AnnotationDbi' was built under R version 3.3.2\"Loading required package: stats4\n",
      "Loading required package: BiocGenerics\n",
      "Loading required package: parallel\n",
      "\n",
      "Attaching package: 'BiocGenerics'\n",
      "\n",
      "The following objects are masked from 'package:parallel':\n",
      "\n",
      "    clusterApply, clusterApplyLB, clusterCall, clusterEvalQ,\n",
      "    clusterExport, clusterMap, parApply, parCapply, parLapply,\n",
      "    parLapplyLB, parRapply, parSapply, parSapplyLB\n",
      "\n",
      "The following objects are masked from 'package:stats':\n",
      "\n",
      "    IQR, mad, xtabs\n",
      "\n",
      "The following objects are masked from 'package:base':\n",
      "\n",
      "    anyDuplicated, append, as.data.frame, cbind, colnames, do.call,\n",
      "    duplicated, eval, evalq, Filter, Find, get, grep, grepl, intersect,\n",
      "    is.unsorted, lapply, lengths, Map, mapply, match, mget, order,\n",
      "    paste, pmax, pmax.int, pmin, pmin.int, Position, rank, rbind,\n",
      "    Reduce, rownames, sapply, setdiff, sort, table, tapply, union,\n",
      "    unique, unsplit, which, which.max, which.min\n",
      "\n",
      "Loading required package: Biobase\n",
      "Welcome to Bioconductor\n",
      "\n",
      "    Vignettes contain introductory material; view with\n",
      "    'browseVignettes()'. To cite Bioconductor, see\n",
      "    'citation(\"Biobase\")', and for packages 'citation(\"pkgname\")'.\n",
      "\n",
      "Loading required package: IRanges\n",
      "Warning message:\n",
      "\"package 'IRanges' was built under R version 3.3.3\"Loading required package: S4Vectors\n",
      "Warning message:\n",
      "\"package 'S4Vectors' was built under R version 3.3.3\"\n",
      "Attaching package: 'S4Vectors'\n",
      "\n",
      "The following objects are masked from 'package:base':\n",
      "\n",
      "    colMeans, colSums, expand.grid, rowMeans, rowSums\n",
      "\n",
      "\n",
      "\n",
      "Attaching package: 'plyr'\n",
      "\n",
      "The following object is masked from 'package:IRanges':\n",
      "\n",
      "    desc\n",
      "\n",
      "The following object is masked from 'package:S4Vectors':\n",
      "\n",
      "    rename\n",
      "\n",
      "Bioconductor version 3.4 (BiocInstaller 1.24.0), ?biocLite for help\n",
      "BioC_mirror: https://bioconductor.org\n",
      "Using Bioconductor 3.4 (BiocInstaller 1.24.0), R 3.3.1 (2016-06-21).\n",
      "Installing package(s) 'biomaRt'\n",
      "Warning message:\n",
      "\"package 'biomaRt' is in use and will not be installed\"installation path not writeable, unable to update packages: cluster, codetools,\n",
      "  foreign, lattice, Matrix, mgcv, nlme, survival\n",
      "Old packages: 'assertthat', 'curl', 'matrixStats', 'party', 'zoo'\n",
      "Bioconductor version 3.4 (BiocInstaller 1.24.0), ?biocLite for help\n",
      "BioC_mirror: https://bioconductor.org\n",
      "Using Bioconductor 3.4 (BiocInstaller 1.24.0), R 3.3.1 (2016-06-21).\n",
      "Installing package(s) 'hom.Sc.inp.db'\n",
      "installing the source package 'hom.Sc.inp.db'\n",
      "\n",
      "installation path not writeable, unable to update packages: cluster, codetools,\n",
      "  foreign, lattice, Matrix, mgcv, nlme, survival\n",
      "Old packages: 'assertthat', 'curl', 'matrixStats', 'party', 'zoo'\n"
     ]
    },
    {
     "data": {
      "text/html": [
       "<table>\n",
       "<thead><tr><th scope=col>name</th><th scope=col>description</th></tr></thead>\n",
       "<tbody>\n",
       "\t<tr><td>chromosome_name                                          </td><td>Chromosome name                                          </td></tr>\n",
       "\t<tr><td>start                                                    </td><td>Gene Start (bp)                                          </td></tr>\n",
       "\t<tr><td>end                                                      </td><td>Gene End (bp)                                            </td></tr>\n",
       "\t<tr><td>strand                                                   </td><td>Strand                                                   </td></tr>\n",
       "\t<tr><td>chromosomal_region                                       </td><td>Chromosome Regions (e.g 1:100:10000:-1,1:100000:200000:1)</td></tr>\n",
       "</tbody>\n",
       "</table>\n"
      ],
      "text/latex": [
       "\\begin{tabular}{r|ll}\n",
       " name & description\\\\\n",
       "\\hline\n",
       "\t chromosome\\_name                                         & Chromosome name                                          \\\\\n",
       "\t start                                                     & Gene Start (bp)                                          \\\\\n",
       "\t end                                                       & Gene End (bp)                                            \\\\\n",
       "\t strand                                                    & Strand                                                   \\\\\n",
       "\t chromosomal\\_region                                      & Chromosome Regions (e.g 1:100:10000:-1,1:100000:200000:1)\\\\\n",
       "\\end{tabular}\n"
      ],
      "text/markdown": [
       "\n",
       "name | description | \n",
       "|---|---|---|---|---|\n",
       "| chromosome_name                                           | Chromosome name                                           | \n",
       "| start                                                     | Gene Start (bp)                                           | \n",
       "| end                                                       | Gene End (bp)                                             | \n",
       "| strand                                                    | Strand                                                    | \n",
       "| chromosomal_region                                        | Chromosome Regions (e.g 1:100:10000:-1,1:100000:200000:1) | \n",
       "\n",
       "\n"
      ],
      "text/plain": [
       "  name               description                                              \n",
       "1 chromosome_name    Chromosome name                                          \n",
       "2 start              Gene Start (bp)                                          \n",
       "3 end                Gene End (bp)                                            \n",
       "4 strand             Strand                                                   \n",
       "5 chromosomal_region Chromosome Regions (e.g 1:100:10000:-1,1:100000:200000:1)"
      ]
     },
     "metadata": {},
     "output_type": "display_data"
    },
    {
     "data": {
      "text/html": [
       "<table>\n",
       "<thead><tr><th scope=col>name</th><th scope=col>description</th><th scope=col>page</th></tr></thead>\n",
       "<tbody>\n",
       "\t<tr><td>ensembl_gene_id      </td><td>Ensembl Gene ID      </td><td>feature_page         </td></tr>\n",
       "\t<tr><td>ensembl_transcript_id</td><td>Ensembl Transcript ID</td><td>feature_page         </td></tr>\n",
       "\t<tr><td>ensembl_peptide_id   </td><td>Ensembl Protein ID   </td><td>feature_page         </td></tr>\n",
       "\t<tr><td>ensembl_exon_id      </td><td>Ensembl Exon ID      </td><td>feature_page         </td></tr>\n",
       "\t<tr><td>description          </td><td>Description          </td><td>feature_page         </td></tr>\n",
       "</tbody>\n",
       "</table>\n"
      ],
      "text/latex": [
       "\\begin{tabular}{r|lll}\n",
       " name & description & page\\\\\n",
       "\\hline\n",
       "\t ensembl\\_gene\\_id       & Ensembl Gene ID           & feature\\_page           \\\\\n",
       "\t ensembl\\_transcript\\_id & Ensembl Transcript ID     & feature\\_page           \\\\\n",
       "\t ensembl\\_peptide\\_id    & Ensembl Protein ID        & feature\\_page           \\\\\n",
       "\t ensembl\\_exon\\_id       & Ensembl Exon ID           & feature\\_page           \\\\\n",
       "\t description           & Description           & feature\\_page       \\\\\n",
       "\\end{tabular}\n"
      ],
      "text/markdown": [
       "\n",
       "name | description | page | \n",
       "|---|---|---|---|---|\n",
       "| ensembl_gene_id       | Ensembl Gene ID       | feature_page          | \n",
       "| ensembl_transcript_id | Ensembl Transcript ID | feature_page          | \n",
       "| ensembl_peptide_id    | Ensembl Protein ID    | feature_page          | \n",
       "| ensembl_exon_id       | Ensembl Exon ID       | feature_page          | \n",
       "| description           | Description           | feature_page          | \n",
       "\n",
       "\n"
      ],
      "text/plain": [
       "  name                  description           page        \n",
       "1 ensembl_gene_id       Ensembl Gene ID       feature_page\n",
       "2 ensembl_transcript_id Ensembl Transcript ID feature_page\n",
       "3 ensembl_peptide_id    Ensembl Protein ID    feature_page\n",
       "4 ensembl_exon_id       Ensembl Exon ID       feature_page\n",
       "5 description           Description           feature_page"
      ]
     },
     "metadata": {},
     "output_type": "display_data"
    },
    {
     "data": {
      "text/html": [
       "3"
      ],
      "text/latex": [
       "3"
      ],
      "text/markdown": [
       "3"
      ],
      "text/plain": [
       "[1] 3"
      ]
     },
     "metadata": {},
     "output_type": "display_data"
    },
    {
     "data": {
      "text/html": [
       "<ol class=list-inline>\n",
       "\t<li>211</li>\n",
       "\t<li>3</li>\n",
       "</ol>\n"
      ],
      "text/latex": [
       "\\begin{enumerate*}\n",
       "\\item 211\n",
       "\\item 3\n",
       "\\end{enumerate*}\n"
      ],
      "text/markdown": [
       "1. 211\n",
       "2. 3\n",
       "\n",
       "\n"
      ],
      "text/plain": [
       "[1] 211   3"
      ]
     },
     "metadata": {},
     "output_type": "display_data"
    },
    {
     "data": {
      "text/html": [
       "'data.frame'"
      ],
      "text/latex": [
       "'data.frame'"
      ],
      "text/markdown": [
       "'data.frame'"
      ],
      "text/plain": [
       "[1] \"data.frame\""
      ]
     },
     "metadata": {},
     "output_type": "display_data"
    },
    {
     "data": {
      "text/html": [
       "<ol class=list-inline>\n",
       "\t<li>211</li>\n",
       "\t<li>3</li>\n",
       "</ol>\n"
      ],
      "text/latex": [
       "\\begin{enumerate*}\n",
       "\\item 211\n",
       "\\item 3\n",
       "\\end{enumerate*}\n"
      ],
      "text/markdown": [
       "1. 211\n",
       "2. 3\n",
       "\n",
       "\n"
      ],
      "text/plain": [
       "[1] 211   3"
      ]
     },
     "metadata": {},
     "output_type": "display_data"
    },
    {
     "data": {
      "text/html": [
       "'list'"
      ],
      "text/latex": [
       "'list'"
      ],
      "text/markdown": [
       "'list'"
      ],
      "text/plain": [
       "[1] \"list\""
      ]
     },
     "metadata": {},
     "output_type": "display_data"
    },
    {
     "data": {
      "text/html": [
       "63"
      ],
      "text/latex": [
       "63"
      ],
      "text/markdown": [
       "63"
      ],
      "text/plain": [
       "[1] 63"
      ]
     },
     "metadata": {},
     "output_type": "display_data"
    },
    {
     "data": {
      "text/html": [
       "<table>\n",
       "<thead><tr><th scope=col>ensembl_gene_id</th><th scope=col>hgnc_symbol</th><th scope=col>ensembl_peptide_id</th><th scope=col>entrezgene</th></tr></thead>\n",
       "<tbody>\n",
       "\t<tr><td>ENSG00000058799</td><td>YIPF1          </td><td>ENSP00000072644</td><td>    54432      </td></tr>\n",
       "\t<tr><td>ENSG00000077009</td><td>NMRK2          </td><td>ENSP00000168977</td><td>    27231      </td></tr>\n",
       "\t<tr><td>ENSG00000100206</td><td>DMC1           </td><td>ENSP00000216024</td><td>    11144      </td></tr>\n",
       "\t<tr><td>ENSG00000239900</td><td>ADSL           </td><td>ENSP00000216194</td><td>      158      </td></tr>\n",
       "\t<tr><td>ENSG00000101464</td><td>PIGU           </td><td>ENSP00000217446</td><td>   128869      </td></tr>\n",
       "\t<tr><td>ENSG00000104231</td><td>ZFAND1         </td><td>ENSP00000220669</td><td>    79752      </td></tr>\n",
       "\t<tr><td>ENSG00000077348</td><td>EXOSC5         </td><td>ENSP00000221233</td><td>    56915      </td></tr>\n",
       "\t<tr><td>ENSG00000065268</td><td>WDR18          </td><td>ENSP00000251289</td><td>    57418      </td></tr>\n",
       "\t<tr><td>ENSG00000130204</td><td>TOMM40         </td><td>ENSP00000252487</td><td>    10452      </td></tr>\n",
       "\t<tr><td>ENSG00000130733</td><td>YIPF2          </td><td>ENSP00000253031</td><td>    78992      </td></tr>\n",
       "\t<tr><td>ENSG00000131100</td><td>ATP6V1E1       </td><td>ENSP00000253413</td><td>      529      </td></tr>\n",
       "\t<tr><td>ENSG00000132541</td><td>HRSP12         </td><td>ENSP00000254878</td><td>    10247      </td></tr>\n",
       "\t<tr><td>ENSG00000134809</td><td>TIMM10         </td><td>ENSP00000257245</td><td>    26519      </td></tr>\n",
       "\t<tr><td>ENSG00000136371</td><td>MTHFS          </td><td>ENSP00000258874</td><td>    10588      </td></tr>\n",
       "\t<tr><td>ENSG00000136942</td><td>RPL35          </td><td>ENSP00000259469</td><td>    11224      </td></tr>\n",
       "\t<tr><td>ENSG00000138413</td><td>IDH1           </td><td>ENSP00000260985</td><td>     3417      </td></tr>\n",
       "\t<tr><td>ENSG00000138495</td><td>COX17          </td><td>ENSP00000261070</td><td>    10063      </td></tr>\n",
       "\t<tr><td>ENSG00000128059</td><td>PPAT           </td><td>ENSP00000264220</td><td>     5471      </td></tr>\n",
       "\t<tr><td>ENSG00000128050</td><td>PAICS          </td><td>ENSP00000264221</td><td>    10606      </td></tr>\n",
       "\t<tr><td>ENSG00000128050</td><td>PAICS          </td><td>ENSP00000264221</td><td>102725410      </td></tr>\n",
       "\t<tr><td>ENSG00000037241</td><td>RPL26L1        </td><td>ENSP00000265100</td><td>    51121      </td></tr>\n",
       "\t<tr><td>ENSG00000071462</td><td>WBSCR22        </td><td>ENSP00000265758</td><td>   114049      </td></tr>\n",
       "\t<tr><td>ENSG00000139343</td><td>SNRPF          </td><td>ENSP00000266735</td><td>     6636      </td></tr>\n",
       "\t<tr><td>ENSG00000140374</td><td>ETFA           </td><td>ENSP00000267950</td><td>     2108      </td></tr>\n",
       "\t<tr><td>ENSG00000140612</td><td>SEC11A         </td><td>ENSP00000268220</td><td>    23478      </td></tr>\n",
       "\t<tr><td>ENSG00000140612</td><td>SEC11A         </td><td>ENSP00000268220</td><td>102723931      </td></tr>\n",
       "\t<tr><td>ENSG00000144580</td><td>RQCD1          </td><td>ENSP00000273064</td><td>     9125      </td></tr>\n",
       "\t<tr><td>ENSG00000151465</td><td>CDC123         </td><td>ENSP00000281141</td><td>     8872      </td></tr>\n",
       "\t<tr><td>ENSG00000213920</td><td>MDP1           </td><td>ENSP00000288087</td><td>   145553      </td></tr>\n",
       "\t<tr><td>ENSG00000164237</td><td>CMBL           </td><td>ENSP00000296658</td><td>   134147      </td></tr>\n",
       "\t<tr><td>...</td><td>...</td><td>...</td><td>...</td></tr>\n",
       "\t<tr><td>ENSG00000177556</td><td>ATOX1          </td><td>ENSP00000316854</td><td>   475         </td></tr>\n",
       "\t<tr><td>ENSG00000177370</td><td>TIMM22         </td><td>ENSP00000320236</td><td> 29928         </td></tr>\n",
       "\t<tr><td>ENSG00000133313</td><td>CNDP2          </td><td>ENSP00000325548</td><td> 55748         </td></tr>\n",
       "\t<tr><td>ENSG00000114503</td><td>NCBP2          </td><td>ENSP00000326806</td><td> 22916         </td></tr>\n",
       "\t<tr><td>ENSG00000182054</td><td>IDH2           </td><td>ENSP00000331897</td><td>  3418         </td></tr>\n",
       "\t<tr><td>ENSG00000138670</td><td>RASGEF1B       </td><td>ENSP00000338437</td><td>153020         </td></tr>\n",
       "\t<tr><td>ENSG00000163754</td><td>GYG1           </td><td>ENSP00000340736</td><td>  2992         </td></tr>\n",
       "\t<tr><td>ENSG00000122026</td><td>RPL21          </td><td>ENSP00000346027</td><td>  6144         </td></tr>\n",
       "\t<tr><td>ENSG00000122026</td><td>RPL21          </td><td>ENSP00000346027</td><td> 26771         </td></tr>\n",
       "\t<tr><td>ENSG00000122026</td><td>RPL21          </td><td>ENSP00000346027</td><td>619499         </td></tr>\n",
       "\t<tr><td>ENSG00000004455</td><td>AK2            </td><td>ENSP00000346921</td><td>   204         </td></tr>\n",
       "\t<tr><td>ENSG00000152904</td><td>GGPS1          </td><td>ENSP00000351852</td><td>  9453         </td></tr>\n",
       "\t<tr><td>ENSG00000197958</td><td>RPL12          </td><td>ENSP00000354739</td><td>  6136         </td></tr>\n",
       "\t<tr><td>ENSG00000198938</td><td>MT-CO3         </td><td>ENSP00000354982</td><td>  4514         </td></tr>\n",
       "\t<tr><td>ENSG00000198918</td><td>RPL39          </td><td>ENSP00000355315</td><td>  6170         </td></tr>\n",
       "\t<tr><td>ENSG00000035687</td><td>ADSS           </td><td>ENSP00000355493</td><td>   159         </td></tr>\n",
       "\t<tr><td>ENSG00000173726</td><td>TOMM20         </td><td>ENSP00000355566</td><td>  9804         </td></tr>\n",
       "\t<tr><td>ENSG00000177954</td><td>RPS27          </td><td>ENSP00000357555</td><td>  6232         </td></tr>\n",
       "\t<tr><td>ENSG00000172315</td><td>TP53RK         </td><td>ENSP00000361186</td><td>112858         </td></tr>\n",
       "\t<tr><td>ENSG00000138326</td><td>RPS24          </td><td>ENSP00000361435</td><td>  6229         </td></tr>\n",
       "\t<tr><td>ENSG00000094841</td><td>UPRT           </td><td>ENSP00000362481</td><td>139596         </td></tr>\n",
       "\t<tr><td>ENSG00000198034</td><td>RPS4X          </td><td>ENSP00000362744</td><td>  6191         </td></tr>\n",
       "\t<tr><td>ENSG00000213930</td><td>GALT           </td><td>ENSP00000368119</td><td>  2592         </td></tr>\n",
       "\t<tr><td>ENSG00000124535</td><td>WRNIP1         </td><td>ENSP00000370150</td><td> 56897         </td></tr>\n",
       "\t<tr><td>ENSG00000134851</td><td>TMEM165        </td><td>ENSP00000370736</td><td> 55858         </td></tr>\n",
       "\t<tr><td>ENSG00000126267</td><td>COX6B1         </td><td>ENSP00000376037</td><td>  1340         </td></tr>\n",
       "\t<tr><td>ENSG00000170946</td><td>DNAJC24        </td><td>ENSP00000379279</td><td>120526         </td></tr>\n",
       "\t<tr><td>ENSG00000056998</td><td>GYG2           </td><td>ENSP00000381786</td><td>  8908         </td></tr>\n",
       "\t<tr><td>ENSG00000186132</td><td>C2orf76        </td><td>ENSP00000386302</td><td>130355         </td></tr>\n",
       "\t<tr><td>ENSG00000155368</td><td>DBI            </td><td>ENSP00000386486</td><td>  1622         </td></tr>\n",
       "</tbody>\n",
       "</table>\n"
      ],
      "text/latex": [
       "\\begin{tabular}{r|llll}\n",
       " ensembl\\_gene\\_id & hgnc\\_symbol & ensembl\\_peptide\\_id & entrezgene\\\\\n",
       "\\hline\n",
       "\t ENSG00000058799 & YIPF1           & ENSP00000072644 &     54432      \\\\\n",
       "\t ENSG00000077009 & NMRK2           & ENSP00000168977 &     27231      \\\\\n",
       "\t ENSG00000100206 & DMC1            & ENSP00000216024 &     11144      \\\\\n",
       "\t ENSG00000239900 & ADSL            & ENSP00000216194 &       158      \\\\\n",
       "\t ENSG00000101464 & PIGU            & ENSP00000217446 &    128869      \\\\\n",
       "\t ENSG00000104231 & ZFAND1          & ENSP00000220669 &     79752      \\\\\n",
       "\t ENSG00000077348 & EXOSC5          & ENSP00000221233 &     56915      \\\\\n",
       "\t ENSG00000065268 & WDR18           & ENSP00000251289 &     57418      \\\\\n",
       "\t ENSG00000130204 & TOMM40          & ENSP00000252487 &     10452      \\\\\n",
       "\t ENSG00000130733 & YIPF2           & ENSP00000253031 &     78992      \\\\\n",
       "\t ENSG00000131100 & ATP6V1E1        & ENSP00000253413 &       529      \\\\\n",
       "\t ENSG00000132541 & HRSP12          & ENSP00000254878 &     10247      \\\\\n",
       "\t ENSG00000134809 & TIMM10          & ENSP00000257245 &     26519      \\\\\n",
       "\t ENSG00000136371 & MTHFS           & ENSP00000258874 &     10588      \\\\\n",
       "\t ENSG00000136942 & RPL35           & ENSP00000259469 &     11224      \\\\\n",
       "\t ENSG00000138413 & IDH1            & ENSP00000260985 &      3417      \\\\\n",
       "\t ENSG00000138495 & COX17           & ENSP00000261070 &     10063      \\\\\n",
       "\t ENSG00000128059 & PPAT            & ENSP00000264220 &      5471      \\\\\n",
       "\t ENSG00000128050 & PAICS           & ENSP00000264221 &     10606      \\\\\n",
       "\t ENSG00000128050 & PAICS           & ENSP00000264221 & 102725410      \\\\\n",
       "\t ENSG00000037241 & RPL26L1         & ENSP00000265100 &     51121      \\\\\n",
       "\t ENSG00000071462 & WBSCR22         & ENSP00000265758 &    114049      \\\\\n",
       "\t ENSG00000139343 & SNRPF           & ENSP00000266735 &      6636      \\\\\n",
       "\t ENSG00000140374 & ETFA            & ENSP00000267950 &      2108      \\\\\n",
       "\t ENSG00000140612 & SEC11A          & ENSP00000268220 &     23478      \\\\\n",
       "\t ENSG00000140612 & SEC11A          & ENSP00000268220 & 102723931      \\\\\n",
       "\t ENSG00000144580 & RQCD1           & ENSP00000273064 &      9125      \\\\\n",
       "\t ENSG00000151465 & CDC123          & ENSP00000281141 &      8872      \\\\\n",
       "\t ENSG00000213920 & MDP1            & ENSP00000288087 &    145553      \\\\\n",
       "\t ENSG00000164237 & CMBL            & ENSP00000296658 &    134147      \\\\\n",
       "\t ... & ... & ... & ...\\\\\n",
       "\t ENSG00000177556 & ATOX1           & ENSP00000316854 &    475         \\\\\n",
       "\t ENSG00000177370 & TIMM22          & ENSP00000320236 &  29928         \\\\\n",
       "\t ENSG00000133313 & CNDP2           & ENSP00000325548 &  55748         \\\\\n",
       "\t ENSG00000114503 & NCBP2           & ENSP00000326806 &  22916         \\\\\n",
       "\t ENSG00000182054 & IDH2            & ENSP00000331897 &   3418         \\\\\n",
       "\t ENSG00000138670 & RASGEF1B        & ENSP00000338437 & 153020         \\\\\n",
       "\t ENSG00000163754 & GYG1            & ENSP00000340736 &   2992         \\\\\n",
       "\t ENSG00000122026 & RPL21           & ENSP00000346027 &   6144         \\\\\n",
       "\t ENSG00000122026 & RPL21           & ENSP00000346027 &  26771         \\\\\n",
       "\t ENSG00000122026 & RPL21           & ENSP00000346027 & 619499         \\\\\n",
       "\t ENSG00000004455 & AK2             & ENSP00000346921 &    204         \\\\\n",
       "\t ENSG00000152904 & GGPS1           & ENSP00000351852 &   9453         \\\\\n",
       "\t ENSG00000197958 & RPL12           & ENSP00000354739 &   6136         \\\\\n",
       "\t ENSG00000198938 & MT-CO3          & ENSP00000354982 &   4514         \\\\\n",
       "\t ENSG00000198918 & RPL39           & ENSP00000355315 &   6170         \\\\\n",
       "\t ENSG00000035687 & ADSS            & ENSP00000355493 &    159         \\\\\n",
       "\t ENSG00000173726 & TOMM20          & ENSP00000355566 &   9804         \\\\\n",
       "\t ENSG00000177954 & RPS27           & ENSP00000357555 &   6232         \\\\\n",
       "\t ENSG00000172315 & TP53RK          & ENSP00000361186 & 112858         \\\\\n",
       "\t ENSG00000138326 & RPS24           & ENSP00000361435 &   6229         \\\\\n",
       "\t ENSG00000094841 & UPRT            & ENSP00000362481 & 139596         \\\\\n",
       "\t ENSG00000198034 & RPS4X           & ENSP00000362744 &   6191         \\\\\n",
       "\t ENSG00000213930 & GALT            & ENSP00000368119 &   2592         \\\\\n",
       "\t ENSG00000124535 & WRNIP1          & ENSP00000370150 &  56897         \\\\\n",
       "\t ENSG00000134851 & TMEM165         & ENSP00000370736 &  55858         \\\\\n",
       "\t ENSG00000126267 & COX6B1          & ENSP00000376037 &   1340         \\\\\n",
       "\t ENSG00000170946 & DNAJC24         & ENSP00000379279 & 120526         \\\\\n",
       "\t ENSG00000056998 & GYG2            & ENSP00000381786 &   8908         \\\\\n",
       "\t ENSG00000186132 & C2orf76         & ENSP00000386302 & 130355         \\\\\n",
       "\t ENSG00000155368 & DBI             & ENSP00000386486 &   1622         \\\\\n",
       "\\end{tabular}\n"
      ],
      "text/markdown": [
       "\n",
       "ensembl_gene_id | hgnc_symbol | ensembl_peptide_id | entrezgene | \n",
       "|---|---|---|---|---|---|---|---|---|---|---|---|---|---|---|---|---|---|---|---|---|---|---|---|---|---|---|---|---|---|---|---|---|---|---|---|---|---|---|---|---|---|---|---|---|---|---|---|---|---|---|---|---|---|---|---|---|---|---|---|---|\n",
       "| ENSG00000058799 | YIPF1           | ENSP00000072644 |     54432       | \n",
       "| ENSG00000077009 | NMRK2           | ENSP00000168977 |     27231       | \n",
       "| ENSG00000100206 | DMC1            | ENSP00000216024 |     11144       | \n",
       "| ENSG00000239900 | ADSL            | ENSP00000216194 |       158       | \n",
       "| ENSG00000101464 | PIGU            | ENSP00000217446 |    128869       | \n",
       "| ENSG00000104231 | ZFAND1          | ENSP00000220669 |     79752       | \n",
       "| ENSG00000077348 | EXOSC5          | ENSP00000221233 |     56915       | \n",
       "| ENSG00000065268 | WDR18           | ENSP00000251289 |     57418       | \n",
       "| ENSG00000130204 | TOMM40          | ENSP00000252487 |     10452       | \n",
       "| ENSG00000130733 | YIPF2           | ENSP00000253031 |     78992       | \n",
       "| ENSG00000131100 | ATP6V1E1        | ENSP00000253413 |       529       | \n",
       "| ENSG00000132541 | HRSP12          | ENSP00000254878 |     10247       | \n",
       "| ENSG00000134809 | TIMM10          | ENSP00000257245 |     26519       | \n",
       "| ENSG00000136371 | MTHFS           | ENSP00000258874 |     10588       | \n",
       "| ENSG00000136942 | RPL35           | ENSP00000259469 |     11224       | \n",
       "| ENSG00000138413 | IDH1            | ENSP00000260985 |      3417       | \n",
       "| ENSG00000138495 | COX17           | ENSP00000261070 |     10063       | \n",
       "| ENSG00000128059 | PPAT            | ENSP00000264220 |      5471       | \n",
       "| ENSG00000128050 | PAICS           | ENSP00000264221 |     10606       | \n",
       "| ENSG00000128050 | PAICS           | ENSP00000264221 | 102725410       | \n",
       "| ENSG00000037241 | RPL26L1         | ENSP00000265100 |     51121       | \n",
       "| ENSG00000071462 | WBSCR22         | ENSP00000265758 |    114049       | \n",
       "| ENSG00000139343 | SNRPF           | ENSP00000266735 |      6636       | \n",
       "| ENSG00000140374 | ETFA            | ENSP00000267950 |      2108       | \n",
       "| ENSG00000140612 | SEC11A          | ENSP00000268220 |     23478       | \n",
       "| ENSG00000140612 | SEC11A          | ENSP00000268220 | 102723931       | \n",
       "| ENSG00000144580 | RQCD1           | ENSP00000273064 |      9125       | \n",
       "| ENSG00000151465 | CDC123          | ENSP00000281141 |      8872       | \n",
       "| ENSG00000213920 | MDP1            | ENSP00000288087 |    145553       | \n",
       "| ENSG00000164237 | CMBL            | ENSP00000296658 |    134147       | \n",
       "| ... | ... | ... | ... | \n",
       "| ENSG00000177556 | ATOX1           | ENSP00000316854 |    475          | \n",
       "| ENSG00000177370 | TIMM22          | ENSP00000320236 |  29928          | \n",
       "| ENSG00000133313 | CNDP2           | ENSP00000325548 |  55748          | \n",
       "| ENSG00000114503 | NCBP2           | ENSP00000326806 |  22916          | \n",
       "| ENSG00000182054 | IDH2            | ENSP00000331897 |   3418          | \n",
       "| ENSG00000138670 | RASGEF1B        | ENSP00000338437 | 153020          | \n",
       "| ENSG00000163754 | GYG1            | ENSP00000340736 |   2992          | \n",
       "| ENSG00000122026 | RPL21           | ENSP00000346027 |   6144          | \n",
       "| ENSG00000122026 | RPL21           | ENSP00000346027 |  26771          | \n",
       "| ENSG00000122026 | RPL21           | ENSP00000346027 | 619499          | \n",
       "| ENSG00000004455 | AK2             | ENSP00000346921 |    204          | \n",
       "| ENSG00000152904 | GGPS1           | ENSP00000351852 |   9453          | \n",
       "| ENSG00000197958 | RPL12           | ENSP00000354739 |   6136          | \n",
       "| ENSG00000198938 | MT-CO3          | ENSP00000354982 |   4514          | \n",
       "| ENSG00000198918 | RPL39           | ENSP00000355315 |   6170          | \n",
       "| ENSG00000035687 | ADSS            | ENSP00000355493 |    159          | \n",
       "| ENSG00000173726 | TOMM20          | ENSP00000355566 |   9804          | \n",
       "| ENSG00000177954 | RPS27           | ENSP00000357555 |   6232          | \n",
       "| ENSG00000172315 | TP53RK          | ENSP00000361186 | 112858          | \n",
       "| ENSG00000138326 | RPS24           | ENSP00000361435 |   6229          | \n",
       "| ENSG00000094841 | UPRT            | ENSP00000362481 | 139596          | \n",
       "| ENSG00000198034 | RPS4X           | ENSP00000362744 |   6191          | \n",
       "| ENSG00000213930 | GALT            | ENSP00000368119 |   2592          | \n",
       "| ENSG00000124535 | WRNIP1          | ENSP00000370150 |  56897          | \n",
       "| ENSG00000134851 | TMEM165         | ENSP00000370736 |  55858          | \n",
       "| ENSG00000126267 | COX6B1          | ENSP00000376037 |   1340          | \n",
       "| ENSG00000170946 | DNAJC24         | ENSP00000379279 | 120526          | \n",
       "| ENSG00000056998 | GYG2            | ENSP00000381786 |   8908          | \n",
       "| ENSG00000186132 | C2orf76         | ENSP00000386302 | 130355          | \n",
       "| ENSG00000155368 | DBI             | ENSP00000386486 |   1622          | \n",
       "\n",
       "\n"
      ],
      "text/plain": [
       "    ensembl_gene_id hgnc_symbol ensembl_peptide_id entrezgene\n",
       "1   ENSG00000058799 YIPF1       ENSP00000072644        54432 \n",
       "2   ENSG00000077009 NMRK2       ENSP00000168977        27231 \n",
       "3   ENSG00000100206 DMC1        ENSP00000216024        11144 \n",
       "4   ENSG00000239900 ADSL        ENSP00000216194          158 \n",
       "5   ENSG00000101464 PIGU        ENSP00000217446       128869 \n",
       "6   ENSG00000104231 ZFAND1      ENSP00000220669        79752 \n",
       "7   ENSG00000077348 EXOSC5      ENSP00000221233        56915 \n",
       "8   ENSG00000065268 WDR18       ENSP00000251289        57418 \n",
       "9   ENSG00000130204 TOMM40      ENSP00000252487        10452 \n",
       "10  ENSG00000130733 YIPF2       ENSP00000253031        78992 \n",
       "11  ENSG00000131100 ATP6V1E1    ENSP00000253413          529 \n",
       "12  ENSG00000132541 HRSP12      ENSP00000254878        10247 \n",
       "13  ENSG00000134809 TIMM10      ENSP00000257245        26519 \n",
       "14  ENSG00000136371 MTHFS       ENSP00000258874        10588 \n",
       "15  ENSG00000136942 RPL35       ENSP00000259469        11224 \n",
       "16  ENSG00000138413 IDH1        ENSP00000260985         3417 \n",
       "17  ENSG00000138495 COX17       ENSP00000261070        10063 \n",
       "18  ENSG00000128059 PPAT        ENSP00000264220         5471 \n",
       "19  ENSG00000128050 PAICS       ENSP00000264221        10606 \n",
       "20  ENSG00000128050 PAICS       ENSP00000264221    102725410 \n",
       "21  ENSG00000037241 RPL26L1     ENSP00000265100        51121 \n",
       "22  ENSG00000071462 WBSCR22     ENSP00000265758       114049 \n",
       "23  ENSG00000139343 SNRPF       ENSP00000266735         6636 \n",
       "24  ENSG00000140374 ETFA        ENSP00000267950         2108 \n",
       "25  ENSG00000140612 SEC11A      ENSP00000268220        23478 \n",
       "26  ENSG00000140612 SEC11A      ENSP00000268220    102723931 \n",
       "27  ENSG00000144580 RQCD1       ENSP00000273064         9125 \n",
       "28  ENSG00000151465 CDC123      ENSP00000281141         8872 \n",
       "29  ENSG00000213920 MDP1        ENSP00000288087       145553 \n",
       "30  ENSG00000164237 CMBL        ENSP00000296658       134147 \n",
       "... ...             ...         ...                ...       \n",
       "33  ENSG00000177556 ATOX1       ENSP00000316854       475    \n",
       "34  ENSG00000177370 TIMM22      ENSP00000320236     29928    \n",
       "35  ENSG00000133313 CNDP2       ENSP00000325548     55748    \n",
       "36  ENSG00000114503 NCBP2       ENSP00000326806     22916    \n",
       "37  ENSG00000182054 IDH2        ENSP00000331897      3418    \n",
       "38  ENSG00000138670 RASGEF1B    ENSP00000338437    153020    \n",
       "39  ENSG00000163754 GYG1        ENSP00000340736      2992    \n",
       "40  ENSG00000122026 RPL21       ENSP00000346027      6144    \n",
       "41  ENSG00000122026 RPL21       ENSP00000346027     26771    \n",
       "42  ENSG00000122026 RPL21       ENSP00000346027    619499    \n",
       "43  ENSG00000004455 AK2         ENSP00000346921       204    \n",
       "44  ENSG00000152904 GGPS1       ENSP00000351852      9453    \n",
       "45  ENSG00000197958 RPL12       ENSP00000354739      6136    \n",
       "46  ENSG00000198938 MT-CO3      ENSP00000354982      4514    \n",
       "47  ENSG00000198918 RPL39       ENSP00000355315      6170    \n",
       "48  ENSG00000035687 ADSS        ENSP00000355493       159    \n",
       "49  ENSG00000173726 TOMM20      ENSP00000355566      9804    \n",
       "50  ENSG00000177954 RPS27       ENSP00000357555      6232    \n",
       "51  ENSG00000172315 TP53RK      ENSP00000361186    112858    \n",
       "52  ENSG00000138326 RPS24       ENSP00000361435      6229    \n",
       "53  ENSG00000094841 UPRT        ENSP00000362481    139596    \n",
       "54  ENSG00000198034 RPS4X       ENSP00000362744      6191    \n",
       "55  ENSG00000213930 GALT        ENSP00000368119      2592    \n",
       "56  ENSG00000124535 WRNIP1      ENSP00000370150     56897    \n",
       "57  ENSG00000134851 TMEM165     ENSP00000370736     55858    \n",
       "58  ENSG00000126267 COX6B1      ENSP00000376037      1340    \n",
       "59  ENSG00000170946 DNAJC24     ENSP00000379279    120526    \n",
       "60  ENSG00000056998 GYG2        ENSP00000381786      8908    \n",
       "61  ENSG00000186132 C2orf76     ENSP00000386302    130355    \n",
       "62  ENSG00000155368 DBI         ENSP00000386486      1622    "
      ]
     },
     "metadata": {},
     "output_type": "display_data"
    },
    {
     "data": {
      "text/html": [
       "<ol class=list-inline>\n",
       "\t<li>62</li>\n",
       "\t<li>4</li>\n",
       "</ol>\n"
      ],
      "text/latex": [
       "\\begin{enumerate*}\n",
       "\\item 62\n",
       "\\item 4\n",
       "\\end{enumerate*}\n"
      ],
      "text/markdown": [
       "1. 62\n",
       "2. 4\n",
       "\n",
       "\n"
      ],
      "text/plain": [
       "[1] 62  4"
      ]
     },
     "metadata": {},
     "output_type": "display_data"
    },
    {
     "data": {
      "text/plain": [
       "R version 3.3.1 (2016-06-21)\n",
       "Platform: x86_64-w64-mingw32/x64 (64-bit)\n",
       "Running under: Windows 10 x64 (build 14393)\n",
       "\n",
       "locale:\n",
       "[1] LC_COLLATE=English_United States.1252 \n",
       "[2] LC_CTYPE=English_United States.1252   \n",
       "[3] LC_MONETARY=English_United States.1252\n",
       "[4] LC_NUMERIC=C                          \n",
       "[5] LC_TIME=English_United States.1252    \n",
       "\n",
       "attached base packages:\n",
       "[1] parallel  stats4    stats     graphics  grDevices utils     datasets \n",
       "[8] methods   base     \n",
       "\n",
       "other attached packages:\n",
       "[1] BiocInstaller_1.24.0 plyr_1.8.4           biomaRt_2.30.0      \n",
       "[4] hom.Sc.inp.db_3.1.2  AnnotationDbi_1.36.2 IRanges_2.8.2       \n",
       "[7] S4Vectors_0.12.2     Biobase_2.34.0       BiocGenerics_0.20.0 \n",
       "\n",
       "loaded via a namespace (and not attached):\n",
       " [1] Rcpp_0.12.10        magrittr_1.5        uuid_0.1-2         \n",
       " [4] R6_2.2.0            stringr_1.2.0       tools_3.3.1        \n",
       " [7] DBI_0.6-1           digest_0.6.12       crayon_1.3.2       \n",
       "[10] IRdisplay_0.4.4     repr_0.12.0         bitops_1.0-6       \n",
       "[13] RCurl_1.95-4.8      IRkernel_0.8.6.9000 memoise_1.0.0      \n",
       "[16] evaluate_0.10       RSQLite_1.1-2       pbdZMQ_0.2-5       \n",
       "[19] stringi_1.1.5       XML_3.98-1.6        jsonlite_1.4       "
      ]
     },
     "metadata": {},
     "output_type": "display_data"
    }
   ],
   "source": [
    "path <- \"C:/Users/Sonali/Box Sync/Huntington Interactome/MutantHTT_Interactors/Yeast/MutantHttSuppressors_green\"\n",
    "setwd(path)\n",
    "\n",
    "#####################################################\n",
    "### Get the required libararies\n",
    "#####################################################\n",
    "library(\"AnnotationDbi\")\n",
    "library(\"hom.Sc.inp.db\")\n",
    "library(\"biomaRt\")\n",
    "library (\"plyr\") #### just in case.\n",
    "\n",
    "########################################\n",
    "###Biomart package installation####\n",
    "#######################################\n",
    "source(\"http://bioconductor.org/biocLite.R\")\n",
    "biocLite(\"biomaRt\")\n",
    "source(\"https://bioconductor.org/biocLite.R\")\n",
    "biocLite(\"hom.Sc.inp.db\")\n",
    "# \n",
    "# #########################################\n",
    "# ##To view documentation for the version of this package ###\n",
    "# ############################################################\n",
    "# browseVignettes(\"biomaRt\")\n",
    "# \n",
    "# ###################################################\n",
    "# ### code chunk number 2: biomaRt\n",
    "# ###################################################\n",
    "# library(\"biomaRt\")\n",
    "# listMarts()\n",
    "# \n",
    "# \n",
    "# \n",
    "# ###################################################\n",
    "# ### code chunk number 4: listDatasets\n",
    "# ###################################################\n",
    "# listDatasets(ensembl)\n",
    "\n",
    "#############################################################\n",
    "### Read the file containing the gene symbols of the organism\n",
    "###############################################################\n",
    "\n",
    "yeastEGIds <- read.table(file= \"R_Input_Mason_etal2013.txt\", sep = \"\\t\", header = TRUE)\n",
    "\n",
    "# convert your Gene Symbols to ensemble gene id and ensembl protein id for your organism\n",
    "\n",
    "yeast = useMart(host='dec2014.archive.ensembl.org',biomart = 'ENSEMBL_MART_ENSEMBL', dataset = \"scerevisiae_gene_ensembl\") ### specify the dataset to use \n",
    "\n",
    "###################################################\n",
    "### filters for the yeast dataset\n",
    "###################################################\n",
    "filters = listFilters(yeast)\n",
    "filters[1:5,]\n",
    "#listFilters(yeast)\n",
    "\n",
    "###################################################\n",
    "### attributes for yeast dataset\n",
    "###################################################\n",
    "attributes = listAttributes(yeast)\n",
    "\n",
    "attributes[1:5,]\n",
    "#listAttributes(yeast, page=\"feature_page\")\n",
    "\n",
    "\n",
    "########################################\n",
    "## Get the attributes for yeast dataset \n",
    "#######################################\n",
    "\n",
    "\n",
    "rawMasonENSProtIds <- getBM(c('ensembl_gene_id', 'external_gene_name', 'ensembl_peptide_id'), filters='wikigene_name', 'external_gene_name', values= yeastEGIds$AssociatedGeneName, mart=yeast) # convert Gene Symbol to ensemble gene id and ensembl protein id for your organism\n",
    "length (rawMasonENSProtIds)\n",
    "dim (rawMasonENSProtIds)\n",
    "class(rawMasonENSProtIds)\n",
    "#rawMasonENSProtIds\n",
    "\n",
    "\n",
    "#########################################\n",
    "# remove duplicate values from the ensembl protein id column\n",
    "#######################################\n",
    "\n",
    "MasonENSProtIds <- rawMasonENSProtIds[!duplicated(rawMasonENSProtIds[,3]),]\n",
    "#MasonENSProtIds\n",
    "dim(MasonENSProtIds)\n",
    " \n",
    "##############################################\n",
    "# Using the Inparanoid function to find human orthologs in form of human ensembl protein IDs#\n",
    "##################################################\n",
    "\n",
    "rawHumanProtIds <- mget(unlist(MasonENSProtIds$ensembl_peptide_id) ,hom.Sc.inpHOMSA,ifnotfound=NA)\n",
    "\n",
    "#rawHumanProtIds\n",
    "class(rawHumanProtIds)\n",
    "HumanProtIds <- rawHumanProtIds[!is.na(rawHumanProtIds)] ## remove all the NA values from the list\n",
    "#HumanProtIds\n",
    "length(HumanProtIds)\n",
    "\n",
    "##########################################################################\n",
    "## Find the ensembl gene id annd hgnc symbols for your human ensembl peptide id \n",
    "## using the getBM function and the human ensembl dataset\n",
    "#######################################################################\n",
    "\n",
    "human = useMart(host='dec2014.archive.ensembl.org',biomart = 'ENSEMBL_MART_ENSEMBL', dataset = \"hsapiens_gene_ensembl\")\n",
    "Humanorthologs <- getBM(c('ensembl_gene_id', 'hgnc_symbol', 'ensembl_peptide_id', 'entrezgene'), filters='ensembl_peptide_id', values=HumanProtIds, mart=human) # convert Gene Symbol to ensemble gene id and ensembl protein id for your organism\n",
    "Humanorthologs\n",
    "dim(Humanorthologs)\n",
    "\n",
    "## run the line below if need output in text file.\n",
    "\n",
    "# write.table(Humanorthologs, file=\"MasonHumanOrthologs.txt\", sep=\"\\t\", col.names = NA) ### export file in text format to the folder.\n",
    "\n",
    "\n",
    "##############################################################################################\n",
    "##########END ################################################################################\n",
    "#############################################################################################\n",
    "\n",
    "sessionInfo()\n",
    "\n"
   ]
  },
  {
   "cell_type": "markdown",
   "metadata": {},
   "source": [
    "#### Giorgini et al_2005"
   ]
  },
  {
   "cell_type": "code",
   "execution_count": 2,
   "metadata": {
    "collapsed": false
   },
   "outputs": [
    {
     "data": {
      "text/html": [
       "<table>\n",
       "<thead><tr><th scope=col>name</th><th scope=col>description</th></tr></thead>\n",
       "<tbody>\n",
       "\t<tr><td>chromosome_name                                          </td><td>Chromosome name                                          </td></tr>\n",
       "\t<tr><td>start                                                    </td><td>Gene Start (bp)                                          </td></tr>\n",
       "\t<tr><td>end                                                      </td><td>Gene End (bp)                                            </td></tr>\n",
       "\t<tr><td>strand                                                   </td><td>Strand                                                   </td></tr>\n",
       "\t<tr><td>chromosomal_region                                       </td><td>Chromosome Regions (e.g 1:100:10000:-1,1:100000:200000:1)</td></tr>\n",
       "</tbody>\n",
       "</table>\n"
      ],
      "text/latex": [
       "\\begin{tabular}{r|ll}\n",
       " name & description\\\\\n",
       "\\hline\n",
       "\t chromosome\\_name                                         & Chromosome name                                          \\\\\n",
       "\t start                                                     & Gene Start (bp)                                          \\\\\n",
       "\t end                                                       & Gene End (bp)                                            \\\\\n",
       "\t strand                                                    & Strand                                                   \\\\\n",
       "\t chromosomal\\_region                                      & Chromosome Regions (e.g 1:100:10000:-1,1:100000:200000:1)\\\\\n",
       "\\end{tabular}\n"
      ],
      "text/markdown": [
       "\n",
       "name | description | \n",
       "|---|---|---|---|---|\n",
       "| chromosome_name                                           | Chromosome name                                           | \n",
       "| start                                                     | Gene Start (bp)                                           | \n",
       "| end                                                       | Gene End (bp)                                             | \n",
       "| strand                                                    | Strand                                                    | \n",
       "| chromosomal_region                                        | Chromosome Regions (e.g 1:100:10000:-1,1:100000:200000:1) | \n",
       "\n",
       "\n"
      ],
      "text/plain": [
       "  name               description                                              \n",
       "1 chromosome_name    Chromosome name                                          \n",
       "2 start              Gene Start (bp)                                          \n",
       "3 end                Gene End (bp)                                            \n",
       "4 strand             Strand                                                   \n",
       "5 chromosomal_region Chromosome Regions (e.g 1:100:10000:-1,1:100000:200000:1)"
      ]
     },
     "metadata": {},
     "output_type": "display_data"
    },
    {
     "data": {
      "text/html": [
       "<table>\n",
       "<thead><tr><th scope=col>name</th><th scope=col>description</th><th scope=col>page</th></tr></thead>\n",
       "<tbody>\n",
       "\t<tr><td>ensembl_gene_id      </td><td>Ensembl Gene ID      </td><td>feature_page         </td></tr>\n",
       "\t<tr><td>ensembl_transcript_id</td><td>Ensembl Transcript ID</td><td>feature_page         </td></tr>\n",
       "\t<tr><td>ensembl_peptide_id   </td><td>Ensembl Protein ID   </td><td>feature_page         </td></tr>\n",
       "\t<tr><td>ensembl_exon_id      </td><td>Ensembl Exon ID      </td><td>feature_page         </td></tr>\n",
       "\t<tr><td>description          </td><td>Description          </td><td>feature_page         </td></tr>\n",
       "</tbody>\n",
       "</table>\n"
      ],
      "text/latex": [
       "\\begin{tabular}{r|lll}\n",
       " name & description & page\\\\\n",
       "\\hline\n",
       "\t ensembl\\_gene\\_id       & Ensembl Gene ID           & feature\\_page           \\\\\n",
       "\t ensembl\\_transcript\\_id & Ensembl Transcript ID     & feature\\_page           \\\\\n",
       "\t ensembl\\_peptide\\_id    & Ensembl Protein ID        & feature\\_page           \\\\\n",
       "\t ensembl\\_exon\\_id       & Ensembl Exon ID           & feature\\_page           \\\\\n",
       "\t description           & Description           & feature\\_page       \\\\\n",
       "\\end{tabular}\n"
      ],
      "text/markdown": [
       "\n",
       "name | description | page | \n",
       "|---|---|---|---|---|\n",
       "| ensembl_gene_id       | Ensembl Gene ID       | feature_page          | \n",
       "| ensembl_transcript_id | Ensembl Transcript ID | feature_page          | \n",
       "| ensembl_peptide_id    | Ensembl Protein ID    | feature_page          | \n",
       "| ensembl_exon_id       | Ensembl Exon ID       | feature_page          | \n",
       "| description           | Description           | feature_page          | \n",
       "\n",
       "\n"
      ],
      "text/plain": [
       "  name                  description           page        \n",
       "1 ensembl_gene_id       Ensembl Gene ID       feature_page\n",
       "2 ensembl_transcript_id Ensembl Transcript ID feature_page\n",
       "3 ensembl_peptide_id    Ensembl Protein ID    feature_page\n",
       "4 ensembl_exon_id       Ensembl Exon ID       feature_page\n",
       "5 description           Description           feature_page"
      ]
     },
     "metadata": {},
     "output_type": "display_data"
    },
    {
     "data": {
      "text/html": [
       "3"
      ],
      "text/latex": [
       "3"
      ],
      "text/markdown": [
       "3"
      ],
      "text/plain": [
       "[1] 3"
      ]
     },
     "metadata": {},
     "output_type": "display_data"
    },
    {
     "data": {
      "text/html": [
       "<ol class=list-inline>\n",
       "\t<li>22</li>\n",
       "\t<li>3</li>\n",
       "</ol>\n"
      ],
      "text/latex": [
       "\\begin{enumerate*}\n",
       "\\item 22\n",
       "\\item 3\n",
       "\\end{enumerate*}\n"
      ],
      "text/markdown": [
       "1. 22\n",
       "2. 3\n",
       "\n",
       "\n"
      ],
      "text/plain": [
       "[1] 22  3"
      ]
     },
     "metadata": {},
     "output_type": "display_data"
    },
    {
     "data": {
      "text/html": [
       "'data.frame'"
      ],
      "text/latex": [
       "'data.frame'"
      ],
      "text/markdown": [
       "'data.frame'"
      ],
      "text/plain": [
       "[1] \"data.frame\""
      ]
     },
     "metadata": {},
     "output_type": "display_data"
    },
    {
     "data": {
      "text/html": [
       "<ol class=list-inline>\n",
       "\t<li>22</li>\n",
       "\t<li>3</li>\n",
       "</ol>\n"
      ],
      "text/latex": [
       "\\begin{enumerate*}\n",
       "\\item 22\n",
       "\\item 3\n",
       "\\end{enumerate*}\n"
      ],
      "text/markdown": [
       "1. 22\n",
       "2. 3\n",
       "\n",
       "\n"
      ],
      "text/plain": [
       "[1] 22  3"
      ]
     },
     "metadata": {},
     "output_type": "display_data"
    },
    {
     "data": {
      "text/html": [
       "'list'"
      ],
      "text/latex": [
       "'list'"
      ],
      "text/markdown": [
       "'list'"
      ],
      "text/plain": [
       "[1] \"list\""
      ]
     },
     "metadata": {},
     "output_type": "display_data"
    },
    {
     "data": {
      "text/html": [
       "5"
      ],
      "text/latex": [
       "5"
      ],
      "text/markdown": [
       "5"
      ],
      "text/plain": [
       "[1] 5"
      ]
     },
     "metadata": {},
     "output_type": "display_data"
    },
    {
     "data": {
      "text/html": [
       "<table>\n",
       "<thead><tr><th scope=col>ensembl_gene_id</th><th scope=col>hgnc_symbol</th><th scope=col>ensembl_peptide_id</th><th scope=col>entrezgene</th></tr></thead>\n",
       "<tbody>\n",
       "\t<tr><td>ENSG00000006712</td><td>PAF1           </td><td>ENSP00000221265</td><td>54623          </td></tr>\n",
       "\t<tr><td>ENSG00000107223</td><td>EDF1           </td><td>ENSP00000224073</td><td> 8721          </td></tr>\n",
       "\t<tr><td>ENSG00000146830</td><td>GIGYF1         </td><td>ENSP00000275732</td><td>64599          </td></tr>\n",
       "\t<tr><td>ENSG00000117009</td><td>KMO            </td><td>ENSP00000355517</td><td> 8564          </td></tr>\n",
       "\t<tr><td>ENSG00000141252</td><td>VPS53          </td><td>ENSP00000373692</td><td>55275          </td></tr>\n",
       "</tbody>\n",
       "</table>\n"
      ],
      "text/latex": [
       "\\begin{tabular}{r|llll}\n",
       " ensembl\\_gene\\_id & hgnc\\_symbol & ensembl\\_peptide\\_id & entrezgene\\\\\n",
       "\\hline\n",
       "\t ENSG00000006712 & PAF1            & ENSP00000221265 & 54623          \\\\\n",
       "\t ENSG00000107223 & EDF1            & ENSP00000224073 &  8721          \\\\\n",
       "\t ENSG00000146830 & GIGYF1          & ENSP00000275732 & 64599          \\\\\n",
       "\t ENSG00000117009 & KMO             & ENSP00000355517 &  8564          \\\\\n",
       "\t ENSG00000141252 & VPS53           & ENSP00000373692 & 55275          \\\\\n",
       "\\end{tabular}\n"
      ],
      "text/markdown": [
       "\n",
       "ensembl_gene_id | hgnc_symbol | ensembl_peptide_id | entrezgene | \n",
       "|---|---|---|---|---|\n",
       "| ENSG00000006712 | PAF1            | ENSP00000221265 | 54623           | \n",
       "| ENSG00000107223 | EDF1            | ENSP00000224073 |  8721           | \n",
       "| ENSG00000146830 | GIGYF1          | ENSP00000275732 | 64599           | \n",
       "| ENSG00000117009 | KMO             | ENSP00000355517 |  8564           | \n",
       "| ENSG00000141252 | VPS53           | ENSP00000373692 | 55275           | \n",
       "\n",
       "\n"
      ],
      "text/plain": [
       "  ensembl_gene_id hgnc_symbol ensembl_peptide_id entrezgene\n",
       "1 ENSG00000006712 PAF1        ENSP00000221265    54623     \n",
       "2 ENSG00000107223 EDF1        ENSP00000224073     8721     \n",
       "3 ENSG00000146830 GIGYF1      ENSP00000275732    64599     \n",
       "4 ENSG00000117009 KMO         ENSP00000355517     8564     \n",
       "5 ENSG00000141252 VPS53       ENSP00000373692    55275     "
      ]
     },
     "metadata": {},
     "output_type": "display_data"
    },
    {
     "data": {
      "text/html": [
       "<ol class=list-inline>\n",
       "\t<li>5</li>\n",
       "\t<li>4</li>\n",
       "</ol>\n"
      ],
      "text/latex": [
       "\\begin{enumerate*}\n",
       "\\item 5\n",
       "\\item 4\n",
       "\\end{enumerate*}\n"
      ],
      "text/markdown": [
       "1. 5\n",
       "2. 4\n",
       "\n",
       "\n"
      ],
      "text/plain": [
       "[1] 5 4"
      ]
     },
     "metadata": {},
     "output_type": "display_data"
    },
    {
     "data": {
      "text/plain": [
       "R version 3.3.1 (2016-06-21)\n",
       "Platform: x86_64-w64-mingw32/x64 (64-bit)\n",
       "Running under: Windows 10 x64 (build 14393)\n",
       "\n",
       "locale:\n",
       "[1] LC_COLLATE=English_United States.1252 \n",
       "[2] LC_CTYPE=English_United States.1252   \n",
       "[3] LC_MONETARY=English_United States.1252\n",
       "[4] LC_NUMERIC=C                          \n",
       "[5] LC_TIME=English_United States.1252    \n",
       "\n",
       "attached base packages:\n",
       "[1] parallel  stats4    stats     graphics  grDevices utils     datasets \n",
       "[8] methods   base     \n",
       "\n",
       "other attached packages:\n",
       "[1] BiocInstaller_1.24.0 plyr_1.8.4           biomaRt_2.30.0      \n",
       "[4] hom.Sc.inp.db_3.1.2  AnnotationDbi_1.36.2 IRanges_2.8.2       \n",
       "[7] S4Vectors_0.12.2     Biobase_2.34.0       BiocGenerics_0.20.0 \n",
       "\n",
       "loaded via a namespace (and not attached):\n",
       " [1] Rcpp_0.12.10        magrittr_1.5        uuid_0.1-2         \n",
       " [4] R6_2.2.0            stringr_1.2.0       tools_3.3.1        \n",
       " [7] DBI_0.6-1           digest_0.6.12       crayon_1.3.2       \n",
       "[10] IRdisplay_0.4.4     repr_0.12.0         bitops_1.0-6       \n",
       "[13] RCurl_1.95-4.8      IRkernel_0.8.6.9000 memoise_1.0.0      \n",
       "[16] evaluate_0.10       RSQLite_1.1-2       pbdZMQ_0.2-5       \n",
       "[19] stringi_1.1.5       XML_3.98-1.6        jsonlite_1.4       "
      ]
     },
     "metadata": {},
     "output_type": "display_data"
    }
   ],
   "source": [
    "path <- \"C:/Users/Sonali/Box Sync/Huntington Interactome/MutantHTT_Interactors/Yeast/MutantHttSuppressors_green\"\n",
    "setwd(path)\n",
    "\n",
    "#####################################################\n",
    "### Get the required libararies\n",
    "#####################################################\n",
    "library(\"AnnotationDbi\")\n",
    "library(\"hom.Sc.inp.db\")\n",
    "library(\"biomaRt\")\n",
    "library (\"plyr\") #### just in case.\n",
    "\n",
    "########################################\n",
    "###Biomart package installation####\n",
    "#######################################\n",
    "# source(\"http://bioconductor.org/biocLite.R\")\n",
    "# biocLite(\"biomaRt\")\n",
    "# \n",
    "# #########################################\n",
    "# ##To view documentation for the version of this package ###\n",
    "# ############################################################\n",
    "# browseVignettes(\"biomaRt\")\n",
    "# \n",
    "# ###################################################\n",
    "# ### code chunk number 2: biomaRt\n",
    "# ###################################################\n",
    "# library(\"biomaRt\")\n",
    "# listMarts()\n",
    "# \n",
    "# \n",
    "# \n",
    "# ###################################################\n",
    "# ### code chunk number 4: listDatasets\n",
    "# ###################################################\n",
    "# listDatasets(ensembl)\n",
    "\n",
    "#############################################################\n",
    "### Read the file containing the gene symbols of the organism\n",
    "###############################################################\n",
    "\n",
    "yeastEGIds <- read.table(file= \"R_Input_Giorgini_etal2005.txt\", sep = \"\\t\", header = TRUE)\n",
    "\n",
    "# convert your Gene Symbols to ensemble gene id and ensembl protein id for your organism\n",
    "\n",
    "yeast = useMart(host='dec2014.archive.ensembl.org',biomart = 'ENSEMBL_MART_ENSEMBL', dataset = \"scerevisiae_gene_ensembl\") ### specify the dataset to use \n",
    "\n",
    "###################################################\n",
    "### filters for the yeast dataset\n",
    "###################################################\n",
    "filters = listFilters(yeast)\n",
    "filters[1:5,]\n",
    "#listFilters(yeast)\n",
    "\n",
    "###################################################\n",
    "### attributes for yeast dataset\n",
    "###################################################\n",
    "attributes = listAttributes(yeast)\n",
    "\n",
    "attributes[1:5,]\n",
    "#listAttributes(yeast, page=\"feature_page\")\n",
    "\n",
    "\n",
    "########################################\n",
    "## Get the attributes for yeast dataset \n",
    "#######################################\n",
    "\n",
    "\n",
    "rawGiorginiENSProtIds <- getBM(c('ensembl_gene_id', 'external_gene_name', 'ensembl_peptide_id'), filters='wikigene_name', 'external_gene_name', values= yeastEGIds$Suppressors, mart=yeast) # convert Gene Symbol to ensemble gene id and ensembl protein id for your organism\n",
    "length (rawGiorginiENSProtIds)\n",
    "dim (rawGiorginiENSProtIds)\n",
    "class(rawGiorginiENSProtIds)\n",
    "#rawGiorginiENSProtIds\n",
    "\n",
    "\n",
    "#########################################\n",
    "# remove duplicate values from the ensembl protein id column\n",
    "#######################################\n",
    "\n",
    "GiorginiENSProtIds <- rawGiorginiENSProtIds[!duplicated(rawGiorginiENSProtIds[,3]),]\n",
    "#GiorginiENSProtIds\n",
    "dim(GiorginiENSProtIds)\n",
    " \n",
    "##############################################\n",
    "# Using the Inparanoid function to find human orthologs in form of human ensembl protein IDs#\n",
    "##################################################\n",
    "\n",
    "rawHumanProtIds <- mget(unlist(GiorginiENSProtIds$ensembl_peptide_id) ,hom.Sc.inpHOMSA,ifnotfound=NA)\n",
    "\n",
    "#rawHumanProtIds\n",
    "class(rawHumanProtIds)\n",
    "HumanProtIds <- rawHumanProtIds[!is.na(rawHumanProtIds)] ## remove all the NA values from the list\n",
    "#HumanProtIds\n",
    "length(HumanProtIds)\n",
    "\n",
    "##########################################################################\n",
    "## Find the ensembl gene id annd hgnc symbols for your human ensembl peptide id \n",
    "## using the getBM function and the human ensembl dataset\n",
    "#######################################################################\n",
    "\n",
    "human = useMart(host='dec2014.archive.ensembl.org',biomart = 'ENSEMBL_MART_ENSEMBL', dataset = \"hsapiens_gene_ensembl\")\n",
    "Humanorthologs <- getBM(c('ensembl_gene_id', 'hgnc_symbol', 'ensembl_peptide_id', 'entrezgene'), filters='ensembl_peptide_id', values=HumanProtIds, mart=human) # convert Gene Symbol to ensemble gene id and ensembl protein id for your organism\n",
    "Humanorthologs\n",
    "dim(Humanorthologs)\n",
    "\n",
    "## run the line below if need output in text file.\n",
    "# write.table(Humanorthologs, file=\"GiorginiHumanOrthologs.txt\", sep=\"\\t\", col.names = NA) ### export file in text format to the folder.\n",
    "\n",
    "\n",
    "##############################################################################################\n",
    "##########END ################################################################################\n",
    "#############################################################################################\n",
    "\n",
    "sessionInfo()\n"
   ]
  },
  {
   "cell_type": "markdown",
   "metadata": {},
   "source": [
    "### Chatterjee et al 2013"
   ]
  },
  {
   "cell_type": "code",
   "execution_count": 3,
   "metadata": {
    "collapsed": false
   },
   "outputs": [
    {
     "data": {
      "text/html": [
       "<table>\n",
       "<thead><tr><th scope=col>name</th><th scope=col>description</th></tr></thead>\n",
       "<tbody>\n",
       "\t<tr><td>chromosome_name                                          </td><td>Chromosome name                                          </td></tr>\n",
       "\t<tr><td>start                                                    </td><td>Gene Start (bp)                                          </td></tr>\n",
       "\t<tr><td>end                                                      </td><td>Gene End (bp)                                            </td></tr>\n",
       "\t<tr><td>strand                                                   </td><td>Strand                                                   </td></tr>\n",
       "\t<tr><td>chromosomal_region                                       </td><td>Chromosome Regions (e.g 1:100:10000:-1,1:100000:200000:1)</td></tr>\n",
       "</tbody>\n",
       "</table>\n"
      ],
      "text/latex": [
       "\\begin{tabular}{r|ll}\n",
       " name & description\\\\\n",
       "\\hline\n",
       "\t chromosome\\_name                                         & Chromosome name                                          \\\\\n",
       "\t start                                                     & Gene Start (bp)                                          \\\\\n",
       "\t end                                                       & Gene End (bp)                                            \\\\\n",
       "\t strand                                                    & Strand                                                   \\\\\n",
       "\t chromosomal\\_region                                      & Chromosome Regions (e.g 1:100:10000:-1,1:100000:200000:1)\\\\\n",
       "\\end{tabular}\n"
      ],
      "text/markdown": [
       "\n",
       "name | description | \n",
       "|---|---|---|---|---|\n",
       "| chromosome_name                                           | Chromosome name                                           | \n",
       "| start                                                     | Gene Start (bp)                                           | \n",
       "| end                                                       | Gene End (bp)                                             | \n",
       "| strand                                                    | Strand                                                    | \n",
       "| chromosomal_region                                        | Chromosome Regions (e.g 1:100:10000:-1,1:100000:200000:1) | \n",
       "\n",
       "\n"
      ],
      "text/plain": [
       "  name               description                                              \n",
       "1 chromosome_name    Chromosome name                                          \n",
       "2 start              Gene Start (bp)                                          \n",
       "3 end                Gene End (bp)                                            \n",
       "4 strand             Strand                                                   \n",
       "5 chromosomal_region Chromosome Regions (e.g 1:100:10000:-1,1:100000:200000:1)"
      ]
     },
     "metadata": {},
     "output_type": "display_data"
    },
    {
     "data": {
      "text/html": [
       "<table>\n",
       "<thead><tr><th scope=col>name</th><th scope=col>description</th><th scope=col>page</th></tr></thead>\n",
       "<tbody>\n",
       "\t<tr><td>ensembl_gene_id      </td><td>Ensembl Gene ID      </td><td>feature_page         </td></tr>\n",
       "\t<tr><td>ensembl_transcript_id</td><td>Ensembl Transcript ID</td><td>feature_page         </td></tr>\n",
       "\t<tr><td>ensembl_peptide_id   </td><td>Ensembl Protein ID   </td><td>feature_page         </td></tr>\n",
       "\t<tr><td>ensembl_exon_id      </td><td>Ensembl Exon ID      </td><td>feature_page         </td></tr>\n",
       "\t<tr><td>description          </td><td>Description          </td><td>feature_page         </td></tr>\n",
       "</tbody>\n",
       "</table>\n"
      ],
      "text/latex": [
       "\\begin{tabular}{r|lll}\n",
       " name & description & page\\\\\n",
       "\\hline\n",
       "\t ensembl\\_gene\\_id       & Ensembl Gene ID           & feature\\_page           \\\\\n",
       "\t ensembl\\_transcript\\_id & Ensembl Transcript ID     & feature\\_page           \\\\\n",
       "\t ensembl\\_peptide\\_id    & Ensembl Protein ID        & feature\\_page           \\\\\n",
       "\t ensembl\\_exon\\_id       & Ensembl Exon ID           & feature\\_page           \\\\\n",
       "\t description           & Description           & feature\\_page       \\\\\n",
       "\\end{tabular}\n"
      ],
      "text/markdown": [
       "\n",
       "name | description | page | \n",
       "|---|---|---|---|---|\n",
       "| ensembl_gene_id       | Ensembl Gene ID       | feature_page          | \n",
       "| ensembl_transcript_id | Ensembl Transcript ID | feature_page          | \n",
       "| ensembl_peptide_id    | Ensembl Protein ID    | feature_page          | \n",
       "| ensembl_exon_id       | Ensembl Exon ID       | feature_page          | \n",
       "| description           | Description           | feature_page          | \n",
       "\n",
       "\n"
      ],
      "text/plain": [
       "  name                  description           page        \n",
       "1 ensembl_gene_id       Ensembl Gene ID       feature_page\n",
       "2 ensembl_transcript_id Ensembl Transcript ID feature_page\n",
       "3 ensembl_peptide_id    Ensembl Protein ID    feature_page\n",
       "4 ensembl_exon_id       Ensembl Exon ID       feature_page\n",
       "5 description           Description           feature_page"
      ]
     },
     "metadata": {},
     "output_type": "display_data"
    },
    {
     "data": {
      "text/html": [
       "3"
      ],
      "text/latex": [
       "3"
      ],
      "text/markdown": [
       "3"
      ],
      "text/plain": [
       "[1] 3"
      ]
     },
     "metadata": {},
     "output_type": "display_data"
    },
    {
     "data": {
      "text/html": [
       "<ol class=list-inline>\n",
       "\t<li>43</li>\n",
       "\t<li>3</li>\n",
       "</ol>\n"
      ],
      "text/latex": [
       "\\begin{enumerate*}\n",
       "\\item 43\n",
       "\\item 3\n",
       "\\end{enumerate*}\n"
      ],
      "text/markdown": [
       "1. 43\n",
       "2. 3\n",
       "\n",
       "\n"
      ],
      "text/plain": [
       "[1] 43  3"
      ]
     },
     "metadata": {},
     "output_type": "display_data"
    },
    {
     "data": {
      "text/html": [
       "'data.frame'"
      ],
      "text/latex": [
       "'data.frame'"
      ],
      "text/markdown": [
       "'data.frame'"
      ],
      "text/plain": [
       "[1] \"data.frame\""
      ]
     },
     "metadata": {},
     "output_type": "display_data"
    },
    {
     "data": {
      "text/html": [
       "<ol class=list-inline>\n",
       "\t<li>43</li>\n",
       "\t<li>3</li>\n",
       "</ol>\n"
      ],
      "text/latex": [
       "\\begin{enumerate*}\n",
       "\\item 43\n",
       "\\item 3\n",
       "\\end{enumerate*}\n"
      ],
      "text/markdown": [
       "1. 43\n",
       "2. 3\n",
       "\n",
       "\n"
      ],
      "text/plain": [
       "[1] 43  3"
      ]
     },
     "metadata": {},
     "output_type": "display_data"
    },
    {
     "data": {
      "text/html": [
       "'list'"
      ],
      "text/latex": [
       "'list'"
      ],
      "text/markdown": [
       "'list'"
      ],
      "text/plain": [
       "[1] \"list\""
      ]
     },
     "metadata": {},
     "output_type": "display_data"
    },
    {
     "data": {
      "text/html": [
       "28"
      ],
      "text/latex": [
       "28"
      ],
      "text/markdown": [
       "28"
      ],
      "text/plain": [
       "[1] 28"
      ]
     },
     "metadata": {},
     "output_type": "display_data"
    },
    {
     "data": {
      "text/html": [
       "<table>\n",
       "<thead><tr><th scope=col>ensembl_gene_id</th><th scope=col>hgnc_symbol</th><th scope=col>ensembl_peptide_id</th><th scope=col>entrezgene</th></tr></thead>\n",
       "<tbody>\n",
       "\t<tr><td>ENSG00000096150</td><td>RPS18          </td><td>ENSP00000211372</td><td>     6222      </td></tr>\n",
       "\t<tr><td>ENSG00000108298</td><td>RPL19          </td><td>ENSP00000225430</td><td>     6143      </td></tr>\n",
       "\t<tr><td>ENSG00000130255</td><td>RPL36          </td><td>ENSP00000252543</td><td>    25873      </td></tr>\n",
       "\t<tr><td>ENSG00000131469</td><td>RPL27          </td><td>ENSP00000253788</td><td>     6155      </td></tr>\n",
       "\t<tr><td>ENSG00000136942</td><td>RPL35          </td><td>ENSP00000259469</td><td>    11224      </td></tr>\n",
       "\t<tr><td>ENSG00000170889</td><td>RPS9           </td><td>ENSP00000302896</td><td>     6203      </td></tr>\n",
       "\t<tr><td>ENSG00000167526</td><td>RPL13          </td><td>ENSP00000307889</td><td>     6137      </td></tr>\n",
       "\t<tr><td>ENSG00000167526</td><td>RPL13          </td><td>ENSP00000307889</td><td>   606500      </td></tr>\n",
       "\t<tr><td>ENSG00000134419</td><td>RPS15A         </td><td>ENSP00000318646</td><td>     6210      </td></tr>\n",
       "\t<tr><td>ENSG00000089157</td><td>RPLP0          </td><td>ENSP00000339027</td><td>     6175      </td></tr>\n",
       "\t<tr><td>ENSG00000197958</td><td>RPL12          </td><td>ENSP00000354739</td><td>     6136      </td></tr>\n",
       "\t<tr><td>ENSG00000138326</td><td>RPS24          </td><td>ENSP00000361435</td><td>     6229      </td></tr>\n",
       "\t<tr><td>ENSG00000137154</td><td>RPS6           </td><td>ENSP00000369757</td><td>     6194      </td></tr>\n",
       "\t<tr><td>ENSG00000112651</td><td>MRPL2          </td><td>ENSP00000373404</td><td>    51069      </td></tr>\n",
       "\t<tr><td>ENSG00000114391</td><td>RPL24          </td><td>ENSP00000377640</td><td>     6152      </td></tr>\n",
       "\t<tr><td>ENSG00000198242</td><td>RPL23A         </td><td>ENSP00000378396</td><td>     6147      </td></tr>\n",
       "\t<tr><td>ENSG00000198242</td><td>RPL23A         </td><td>ENSP00000378396</td><td>    26809      </td></tr>\n",
       "\t<tr><td>ENSG00000213741</td><td>RPS29          </td><td>ENSP00000379339</td><td>     6235      </td></tr>\n",
       "\t<tr><td>ENSG00000213741</td><td>RPS29          </td><td>ENSP00000379339</td><td>100288910      </td></tr>\n",
       "</tbody>\n",
       "</table>\n"
      ],
      "text/latex": [
       "\\begin{tabular}{r|llll}\n",
       " ensembl\\_gene\\_id & hgnc\\_symbol & ensembl\\_peptide\\_id & entrezgene\\\\\n",
       "\\hline\n",
       "\t ENSG00000096150 & RPS18           & ENSP00000211372 &      6222      \\\\\n",
       "\t ENSG00000108298 & RPL19           & ENSP00000225430 &      6143      \\\\\n",
       "\t ENSG00000130255 & RPL36           & ENSP00000252543 &     25873      \\\\\n",
       "\t ENSG00000131469 & RPL27           & ENSP00000253788 &      6155      \\\\\n",
       "\t ENSG00000136942 & RPL35           & ENSP00000259469 &     11224      \\\\\n",
       "\t ENSG00000170889 & RPS9            & ENSP00000302896 &      6203      \\\\\n",
       "\t ENSG00000167526 & RPL13           & ENSP00000307889 &      6137      \\\\\n",
       "\t ENSG00000167526 & RPL13           & ENSP00000307889 &    606500      \\\\\n",
       "\t ENSG00000134419 & RPS15A          & ENSP00000318646 &      6210      \\\\\n",
       "\t ENSG00000089157 & RPLP0           & ENSP00000339027 &      6175      \\\\\n",
       "\t ENSG00000197958 & RPL12           & ENSP00000354739 &      6136      \\\\\n",
       "\t ENSG00000138326 & RPS24           & ENSP00000361435 &      6229      \\\\\n",
       "\t ENSG00000137154 & RPS6            & ENSP00000369757 &      6194      \\\\\n",
       "\t ENSG00000112651 & MRPL2           & ENSP00000373404 &     51069      \\\\\n",
       "\t ENSG00000114391 & RPL24           & ENSP00000377640 &      6152      \\\\\n",
       "\t ENSG00000198242 & RPL23A          & ENSP00000378396 &      6147      \\\\\n",
       "\t ENSG00000198242 & RPL23A          & ENSP00000378396 &     26809      \\\\\n",
       "\t ENSG00000213741 & RPS29           & ENSP00000379339 &      6235      \\\\\n",
       "\t ENSG00000213741 & RPS29           & ENSP00000379339 & 100288910      \\\\\n",
       "\\end{tabular}\n"
      ],
      "text/markdown": [
       "\n",
       "ensembl_gene_id | hgnc_symbol | ensembl_peptide_id | entrezgene | \n",
       "|---|---|---|---|---|---|---|---|---|---|---|---|---|---|---|---|---|---|---|\n",
       "| ENSG00000096150 | RPS18           | ENSP00000211372 |      6222       | \n",
       "| ENSG00000108298 | RPL19           | ENSP00000225430 |      6143       | \n",
       "| ENSG00000130255 | RPL36           | ENSP00000252543 |     25873       | \n",
       "| ENSG00000131469 | RPL27           | ENSP00000253788 |      6155       | \n",
       "| ENSG00000136942 | RPL35           | ENSP00000259469 |     11224       | \n",
       "| ENSG00000170889 | RPS9            | ENSP00000302896 |      6203       | \n",
       "| ENSG00000167526 | RPL13           | ENSP00000307889 |      6137       | \n",
       "| ENSG00000167526 | RPL13           | ENSP00000307889 |    606500       | \n",
       "| ENSG00000134419 | RPS15A          | ENSP00000318646 |      6210       | \n",
       "| ENSG00000089157 | RPLP0           | ENSP00000339027 |      6175       | \n",
       "| ENSG00000197958 | RPL12           | ENSP00000354739 |      6136       | \n",
       "| ENSG00000138326 | RPS24           | ENSP00000361435 |      6229       | \n",
       "| ENSG00000137154 | RPS6            | ENSP00000369757 |      6194       | \n",
       "| ENSG00000112651 | MRPL2           | ENSP00000373404 |     51069       | \n",
       "| ENSG00000114391 | RPL24           | ENSP00000377640 |      6152       | \n",
       "| ENSG00000198242 | RPL23A          | ENSP00000378396 |      6147       | \n",
       "| ENSG00000198242 | RPL23A          | ENSP00000378396 |     26809       | \n",
       "| ENSG00000213741 | RPS29           | ENSP00000379339 |      6235       | \n",
       "| ENSG00000213741 | RPS29           | ENSP00000379339 | 100288910       | \n",
       "\n",
       "\n"
      ],
      "text/plain": [
       "   ensembl_gene_id hgnc_symbol ensembl_peptide_id entrezgene\n",
       "1  ENSG00000096150 RPS18       ENSP00000211372         6222 \n",
       "2  ENSG00000108298 RPL19       ENSP00000225430         6143 \n",
       "3  ENSG00000130255 RPL36       ENSP00000252543        25873 \n",
       "4  ENSG00000131469 RPL27       ENSP00000253788         6155 \n",
       "5  ENSG00000136942 RPL35       ENSP00000259469        11224 \n",
       "6  ENSG00000170889 RPS9        ENSP00000302896         6203 \n",
       "7  ENSG00000167526 RPL13       ENSP00000307889         6137 \n",
       "8  ENSG00000167526 RPL13       ENSP00000307889       606500 \n",
       "9  ENSG00000134419 RPS15A      ENSP00000318646         6210 \n",
       "10 ENSG00000089157 RPLP0       ENSP00000339027         6175 \n",
       "11 ENSG00000197958 RPL12       ENSP00000354739         6136 \n",
       "12 ENSG00000138326 RPS24       ENSP00000361435         6229 \n",
       "13 ENSG00000137154 RPS6        ENSP00000369757         6194 \n",
       "14 ENSG00000112651 MRPL2       ENSP00000373404        51069 \n",
       "15 ENSG00000114391 RPL24       ENSP00000377640         6152 \n",
       "16 ENSG00000198242 RPL23A      ENSP00000378396         6147 \n",
       "17 ENSG00000198242 RPL23A      ENSP00000378396        26809 \n",
       "18 ENSG00000213741 RPS29       ENSP00000379339         6235 \n",
       "19 ENSG00000213741 RPS29       ENSP00000379339    100288910 "
      ]
     },
     "metadata": {},
     "output_type": "display_data"
    },
    {
     "data": {
      "text/html": [
       "<ol class=list-inline>\n",
       "\t<li>19</li>\n",
       "\t<li>4</li>\n",
       "</ol>\n"
      ],
      "text/latex": [
       "\\begin{enumerate*}\n",
       "\\item 19\n",
       "\\item 4\n",
       "\\end{enumerate*}\n"
      ],
      "text/markdown": [
       "1. 19\n",
       "2. 4\n",
       "\n",
       "\n"
      ],
      "text/plain": [
       "[1] 19  4"
      ]
     },
     "metadata": {},
     "output_type": "display_data"
    },
    {
     "data": {
      "text/plain": [
       "R version 3.3.1 (2016-06-21)\n",
       "Platform: x86_64-w64-mingw32/x64 (64-bit)\n",
       "Running under: Windows 10 x64 (build 14393)\n",
       "\n",
       "locale:\n",
       "[1] LC_COLLATE=English_United States.1252 \n",
       "[2] LC_CTYPE=English_United States.1252   \n",
       "[3] LC_MONETARY=English_United States.1252\n",
       "[4] LC_NUMERIC=C                          \n",
       "[5] LC_TIME=English_United States.1252    \n",
       "\n",
       "attached base packages:\n",
       "[1] parallel  stats4    stats     graphics  grDevices utils     datasets \n",
       "[8] methods   base     \n",
       "\n",
       "other attached packages:\n",
       "[1] BiocInstaller_1.24.0 plyr_1.8.4           biomaRt_2.30.0      \n",
       "[4] hom.Sc.inp.db_3.1.2  AnnotationDbi_1.36.2 IRanges_2.8.2       \n",
       "[7] S4Vectors_0.12.2     Biobase_2.34.0       BiocGenerics_0.20.0 \n",
       "\n",
       "loaded via a namespace (and not attached):\n",
       " [1] Rcpp_0.12.10        magrittr_1.5        uuid_0.1-2         \n",
       " [4] R6_2.2.0            stringr_1.2.0       tools_3.3.1        \n",
       " [7] DBI_0.6-1           digest_0.6.12       crayon_1.3.2       \n",
       "[10] IRdisplay_0.4.4     repr_0.12.0         bitops_1.0-6       \n",
       "[13] RCurl_1.95-4.8      IRkernel_0.8.6.9000 memoise_1.0.0      \n",
       "[16] evaluate_0.10       RSQLite_1.1-2       pbdZMQ_0.2-5       \n",
       "[19] stringi_1.1.5       XML_3.98-1.6        jsonlite_1.4       "
      ]
     },
     "metadata": {},
     "output_type": "display_data"
    }
   ],
   "source": [
    "path <- \"C:/Users/Sonali/Box Sync/Huntington Interactome/MutantHTT_Interactors/Yeast/MutantHttSuppressors_green\"\n",
    "setwd(path)\n",
    "\n",
    "#####################################################\n",
    "### Get the required libararies\n",
    "#####################################################\n",
    "library(\"AnnotationDbi\")\n",
    "library(\"hom.Sc.inp.db\")\n",
    "library(\"biomaRt\")\n",
    "library (\"plyr\")\n",
    "\n",
    "########################################\n",
    "###Biomart package installation####\n",
    "#######################################\n",
    "# source(\"http://bioconductor.org/biocLite.R\")\n",
    "# biocLite(\"biomaRt\")\n",
    "# \n",
    "# #########################################\n",
    "# ##To view documentation for the version of this package ###\n",
    "# ############################################################\n",
    "# browseVignettes(\"biomaRt\")\n",
    "# \n",
    "# ###################################################\n",
    "# ### code chunk number 2: biomaRt\n",
    "# ###################################################\n",
    "# library(\"biomaRt\")\n",
    "# listMarts()\n",
    "# \n",
    "# \n",
    "# \n",
    "# ###################################################\n",
    "# ### code chunk number 4: listDatasets\n",
    "# ###################################################\n",
    "# listDatasets(ensembl)\n",
    "\n",
    "#############################################################\n",
    "### Read the file containing the gene symbols of the organism\n",
    "###############################################################\n",
    "\n",
    "yeastEGIds <- read.table(file= \"R_Input_Chatterjee_etal2013.txt\", sep = \"\\t\", header = TRUE)\n",
    "\n",
    "# convert your Gene Symbols to ensemble gene id and ensembl protein id for your organism\n",
    "\n",
    "yeast = useMart(host='dec2014.archive.ensembl.org',biomart = 'ENSEMBL_MART_ENSEMBL', dataset = \"scerevisiae_gene_ensembl\") ### specify the dataset to use \n",
    "\n",
    "###################################################\n",
    "### filters for the yeast dataset\n",
    "###################################################\n",
    "filters = listFilters(yeast)\n",
    "filters[1:5,]\n",
    "#listFilters(yeast)\n",
    "\n",
    "###################################################\n",
    "### attributes for yeast dataset\n",
    "###################################################\n",
    "attributes = listAttributes(yeast)\n",
    "\n",
    "attributes[1:5,]\n",
    "#listAttributes(yeast, page=\"feature_page\")\n",
    "\n",
    "\n",
    "########################################\n",
    "## Get the attributes for yeast dataset \n",
    "#######################################\n",
    "\n",
    "\n",
    "rawChatterjeeENSProtIds <- getBM(c('ensembl_gene_id', 'external_gene_name', 'ensembl_peptide_id'), filters='wikigene_name', 'external_gene_name', values= yeastEGIds$ConfirmedSuppressorGenes, mart=yeast) # convert Gene Symbol to ensemble gene id and ensembl protein id for your organism\n",
    "length (rawChatterjeeENSProtIds)\n",
    "dim (rawChatterjeeENSProtIds)\n",
    "class(rawChatterjeeENSProtIds)\n",
    "#rawChatterjeeENSProtIds\n",
    "\n",
    "\n",
    "#########################################\n",
    "# remove duplicate values from the ensembl protein id column\n",
    "#######################################\n",
    "\n",
    "ChatterjeeENSProtIds <- rawChatterjeeENSProtIds[!duplicated(rawChatterjeeENSProtIds[,3]),]\n",
    "#ChatterjeeENSProtIds\n",
    "dim(ChatterjeeENSProtIds)\n",
    " \n",
    "##############################################\n",
    "# Using the Inparanoid function to find human orthologs in form of human ensembl protein IDs#\n",
    "##################################################\n",
    "\n",
    "rawHumanProtIds <- mget(unlist(ChatterjeeENSProtIds$ensembl_peptide_id) ,hom.Sc.inpHOMSA,ifnotfound=NA)\n",
    "\n",
    "#rawHumanProtIds\n",
    "class(rawHumanProtIds)\n",
    "HumanProtIds <- rawHumanProtIds[!is.na(rawHumanProtIds)] ## remove all the NA values from the list\n",
    "#HumanProtIds\n",
    "length(HumanProtIds)\n",
    "\n",
    "##########################################################################\n",
    "## Find the ensembl gene id annd hgnc symbols for your human ensembl peptide id \n",
    "## using the getBM function and the human ensembl dataset\n",
    "#######################################################################\n",
    "\n",
    "human = useMart(host='dec2014.archive.ensembl.org',biomart = 'ENSEMBL_MART_ENSEMBL', dataset = \"hsapiens_gene_ensembl\")\n",
    "Humanorthologs <- getBM(c('ensembl_gene_id', 'hgnc_symbol', 'ensembl_peptide_id', 'entrezgene'), filters='ensembl_peptide_id', values=HumanProtIds, mart=human) # convert Gene Symbol to ensemble gene id and ensembl protein id for your organism\n",
    "Humanorthologs\n",
    "dim(Humanorthologs)\n",
    "\n",
    "## run the line below if need output in text file.\n",
    "#write.table(Humanorthologs, file=\"ChatterjeeHumanOrthologs.txt\", sep=\"\\t\", col.names = NA) ### export file in text format to the folder.\n",
    "\n",
    "\n",
    "##############################################################################################\n",
    "##########END ################################################################################\n",
    "#############################################################################################\n",
    "\n",
    "sessionInfo()\n"
   ]
  },
  {
   "cell_type": "markdown",
   "metadata": {},
   "source": [
    "#### Willingham etal_2003"
   ]
  },
  {
   "cell_type": "code",
   "execution_count": 4,
   "metadata": {
    "collapsed": false
   },
   "outputs": [
    {
     "data": {
      "text/html": [
       "<table>\n",
       "<thead><tr><th scope=col>name</th><th scope=col>description</th></tr></thead>\n",
       "<tbody>\n",
       "\t<tr><td>chromosome_name                                          </td><td>Chromosome name                                          </td></tr>\n",
       "\t<tr><td>start                                                    </td><td>Gene Start (bp)                                          </td></tr>\n",
       "\t<tr><td>end                                                      </td><td>Gene End (bp)                                            </td></tr>\n",
       "\t<tr><td>strand                                                   </td><td>Strand                                                   </td></tr>\n",
       "\t<tr><td>chromosomal_region                                       </td><td>Chromosome Regions (e.g 1:100:10000:-1,1:100000:200000:1)</td></tr>\n",
       "</tbody>\n",
       "</table>\n"
      ],
      "text/latex": [
       "\\begin{tabular}{r|ll}\n",
       " name & description\\\\\n",
       "\\hline\n",
       "\t chromosome\\_name                                         & Chromosome name                                          \\\\\n",
       "\t start                                                     & Gene Start (bp)                                          \\\\\n",
       "\t end                                                       & Gene End (bp)                                            \\\\\n",
       "\t strand                                                    & Strand                                                   \\\\\n",
       "\t chromosomal\\_region                                      & Chromosome Regions (e.g 1:100:10000:-1,1:100000:200000:1)\\\\\n",
       "\\end{tabular}\n"
      ],
      "text/markdown": [
       "\n",
       "name | description | \n",
       "|---|---|---|---|---|\n",
       "| chromosome_name                                           | Chromosome name                                           | \n",
       "| start                                                     | Gene Start (bp)                                           | \n",
       "| end                                                       | Gene End (bp)                                             | \n",
       "| strand                                                    | Strand                                                    | \n",
       "| chromosomal_region                                        | Chromosome Regions (e.g 1:100:10000:-1,1:100000:200000:1) | \n",
       "\n",
       "\n"
      ],
      "text/plain": [
       "  name               description                                              \n",
       "1 chromosome_name    Chromosome name                                          \n",
       "2 start              Gene Start (bp)                                          \n",
       "3 end                Gene End (bp)                                            \n",
       "4 strand             Strand                                                   \n",
       "5 chromosomal_region Chromosome Regions (e.g 1:100:10000:-1,1:100000:200000:1)"
      ]
     },
     "metadata": {},
     "output_type": "display_data"
    },
    {
     "data": {
      "text/html": [
       "<table>\n",
       "<thead><tr><th scope=col>name</th><th scope=col>description</th><th scope=col>page</th></tr></thead>\n",
       "<tbody>\n",
       "\t<tr><td>ensembl_gene_id      </td><td>Ensembl Gene ID      </td><td>feature_page         </td></tr>\n",
       "\t<tr><td>ensembl_transcript_id</td><td>Ensembl Transcript ID</td><td>feature_page         </td></tr>\n",
       "\t<tr><td>ensembl_peptide_id   </td><td>Ensembl Protein ID   </td><td>feature_page         </td></tr>\n",
       "\t<tr><td>ensembl_exon_id      </td><td>Ensembl Exon ID      </td><td>feature_page         </td></tr>\n",
       "\t<tr><td>description          </td><td>Description          </td><td>feature_page         </td></tr>\n",
       "</tbody>\n",
       "</table>\n"
      ],
      "text/latex": [
       "\\begin{tabular}{r|lll}\n",
       " name & description & page\\\\\n",
       "\\hline\n",
       "\t ensembl\\_gene\\_id       & Ensembl Gene ID           & feature\\_page           \\\\\n",
       "\t ensembl\\_transcript\\_id & Ensembl Transcript ID     & feature\\_page           \\\\\n",
       "\t ensembl\\_peptide\\_id    & Ensembl Protein ID        & feature\\_page           \\\\\n",
       "\t ensembl\\_exon\\_id       & Ensembl Exon ID           & feature\\_page           \\\\\n",
       "\t description           & Description           & feature\\_page       \\\\\n",
       "\\end{tabular}\n"
      ],
      "text/markdown": [
       "\n",
       "name | description | page | \n",
       "|---|---|---|---|---|\n",
       "| ensembl_gene_id       | Ensembl Gene ID       | feature_page          | \n",
       "| ensembl_transcript_id | Ensembl Transcript ID | feature_page          | \n",
       "| ensembl_peptide_id    | Ensembl Protein ID    | feature_page          | \n",
       "| ensembl_exon_id       | Ensembl Exon ID       | feature_page          | \n",
       "| description           | Description           | feature_page          | \n",
       "\n",
       "\n"
      ],
      "text/plain": [
       "  name                  description           page        \n",
       "1 ensembl_gene_id       Ensembl Gene ID       feature_page\n",
       "2 ensembl_transcript_id Ensembl Transcript ID feature_page\n",
       "3 ensembl_peptide_id    Ensembl Protein ID    feature_page\n",
       "4 ensembl_exon_id       Ensembl Exon ID       feature_page\n",
       "5 description           Description           feature_page"
      ]
     },
     "metadata": {},
     "output_type": "display_data"
    },
    {
     "data": {
      "text/html": [
       "3"
      ],
      "text/latex": [
       "3"
      ],
      "text/markdown": [
       "3"
      ],
      "text/plain": [
       "[1] 3"
      ]
     },
     "metadata": {},
     "output_type": "display_data"
    },
    {
     "data": {
      "text/html": [
       "<ol class=list-inline>\n",
       "\t<li>41</li>\n",
       "\t<li>3</li>\n",
       "</ol>\n"
      ],
      "text/latex": [
       "\\begin{enumerate*}\n",
       "\\item 41\n",
       "\\item 3\n",
       "\\end{enumerate*}\n"
      ],
      "text/markdown": [
       "1. 41\n",
       "2. 3\n",
       "\n",
       "\n"
      ],
      "text/plain": [
       "[1] 41  3"
      ]
     },
     "metadata": {},
     "output_type": "display_data"
    },
    {
     "data": {
      "text/html": [
       "'data.frame'"
      ],
      "text/latex": [
       "'data.frame'"
      ],
      "text/markdown": [
       "'data.frame'"
      ],
      "text/plain": [
       "[1] \"data.frame\""
      ]
     },
     "metadata": {},
     "output_type": "display_data"
    },
    {
     "data": {
      "text/html": [
       "<ol class=list-inline>\n",
       "\t<li>41</li>\n",
       "\t<li>3</li>\n",
       "</ol>\n"
      ],
      "text/latex": [
       "\\begin{enumerate*}\n",
       "\\item 41\n",
       "\\item 3\n",
       "\\end{enumerate*}\n"
      ],
      "text/markdown": [
       "1. 41\n",
       "2. 3\n",
       "\n",
       "\n"
      ],
      "text/plain": [
       "[1] 41  3"
      ]
     },
     "metadata": {},
     "output_type": "display_data"
    },
    {
     "data": {
      "text/html": [
       "'list'"
      ],
      "text/latex": [
       "'list'"
      ],
      "text/markdown": [
       "'list'"
      ],
      "text/plain": [
       "[1] \"list\""
      ]
     },
     "metadata": {},
     "output_type": "display_data"
    },
    {
     "data": {
      "text/html": [
       "3"
      ],
      "text/latex": [
       "3"
      ],
      "text/markdown": [
       "3"
      ],
      "text/plain": [
       "[1] 3"
      ]
     },
     "metadata": {},
     "output_type": "display_data"
    },
    {
     "data": {
      "text/html": [
       "<table>\n",
       "<thead><tr><th scope=col>ensembl_gene_id</th><th scope=col>hgnc_symbol</th><th scope=col>ensembl_peptide_id</th><th scope=col>entrezgene</th></tr></thead>\n",
       "<tbody>\n",
       "\t<tr><td>ENSG00000021488</td><td>SLC7A9         </td><td>ENSP00000023064</td><td> 11136         </td></tr>\n",
       "\t<tr><td>ENSG00000100983</td><td>GSS            </td><td>ENSP00000216951</td><td>  2937         </td></tr>\n",
       "\t<tr><td>ENSG00000162877</td><td>PM20D1         </td><td>ENSP00000356104</td><td>148811         </td></tr>\n",
       "</tbody>\n",
       "</table>\n"
      ],
      "text/latex": [
       "\\begin{tabular}{r|llll}\n",
       " ensembl\\_gene\\_id & hgnc\\_symbol & ensembl\\_peptide\\_id & entrezgene\\\\\n",
       "\\hline\n",
       "\t ENSG00000021488 & SLC7A9          & ENSP00000023064 &  11136         \\\\\n",
       "\t ENSG00000100983 & GSS             & ENSP00000216951 &   2937         \\\\\n",
       "\t ENSG00000162877 & PM20D1          & ENSP00000356104 & 148811         \\\\\n",
       "\\end{tabular}\n"
      ],
      "text/markdown": [
       "\n",
       "ensembl_gene_id | hgnc_symbol | ensembl_peptide_id | entrezgene | \n",
       "|---|---|---|\n",
       "| ENSG00000021488 | SLC7A9          | ENSP00000023064 |  11136          | \n",
       "| ENSG00000100983 | GSS             | ENSP00000216951 |   2937          | \n",
       "| ENSG00000162877 | PM20D1          | ENSP00000356104 | 148811          | \n",
       "\n",
       "\n"
      ],
      "text/plain": [
       "  ensembl_gene_id hgnc_symbol ensembl_peptide_id entrezgene\n",
       "1 ENSG00000021488 SLC7A9      ENSP00000023064     11136    \n",
       "2 ENSG00000100983 GSS         ENSP00000216951      2937    \n",
       "3 ENSG00000162877 PM20D1      ENSP00000356104    148811    "
      ]
     },
     "metadata": {},
     "output_type": "display_data"
    },
    {
     "data": {
      "text/html": [
       "<ol class=list-inline>\n",
       "\t<li>3</li>\n",
       "\t<li>4</li>\n",
       "</ol>\n"
      ],
      "text/latex": [
       "\\begin{enumerate*}\n",
       "\\item 3\n",
       "\\item 4\n",
       "\\end{enumerate*}\n"
      ],
      "text/markdown": [
       "1. 3\n",
       "2. 4\n",
       "\n",
       "\n"
      ],
      "text/plain": [
       "[1] 3 4"
      ]
     },
     "metadata": {},
     "output_type": "display_data"
    },
    {
     "data": {
      "text/plain": [
       "R version 3.3.1 (2016-06-21)\n",
       "Platform: x86_64-w64-mingw32/x64 (64-bit)\n",
       "Running under: Windows 10 x64 (build 14393)\n",
       "\n",
       "locale:\n",
       "[1] LC_COLLATE=English_United States.1252 \n",
       "[2] LC_CTYPE=English_United States.1252   \n",
       "[3] LC_MONETARY=English_United States.1252\n",
       "[4] LC_NUMERIC=C                          \n",
       "[5] LC_TIME=English_United States.1252    \n",
       "\n",
       "attached base packages:\n",
       "[1] parallel  stats4    stats     graphics  grDevices utils     datasets \n",
       "[8] methods   base     \n",
       "\n",
       "other attached packages:\n",
       "[1] BiocInstaller_1.24.0 plyr_1.8.4           biomaRt_2.30.0      \n",
       "[4] hom.Sc.inp.db_3.1.2  AnnotationDbi_1.36.2 IRanges_2.8.2       \n",
       "[7] S4Vectors_0.12.2     Biobase_2.34.0       BiocGenerics_0.20.0 \n",
       "\n",
       "loaded via a namespace (and not attached):\n",
       " [1] Rcpp_0.12.10        magrittr_1.5        uuid_0.1-2         \n",
       " [4] R6_2.2.0            stringr_1.2.0       tools_3.3.1        \n",
       " [7] DBI_0.6-1           digest_0.6.12       crayon_1.3.2       \n",
       "[10] IRdisplay_0.4.4     repr_0.12.0         bitops_1.0-6       \n",
       "[13] RCurl_1.95-4.8      IRkernel_0.8.6.9000 memoise_1.0.0      \n",
       "[16] evaluate_0.10       RSQLite_1.1-2       pbdZMQ_0.2-5       \n",
       "[19] stringi_1.1.5       XML_3.98-1.6        jsonlite_1.4       "
      ]
     },
     "metadata": {},
     "output_type": "display_data"
    }
   ],
   "source": [
    "path <- \"C:/Users/Sonali/Box Sync/Huntington Interactome/MutantHTT_Interactors/Yeast/MutantHttEnhancers_red\"\n",
    "setwd(path)\n",
    "\n",
    "#####################################################\n",
    "### Get the required libararies\n",
    "#####################################################\n",
    "library(\"AnnotationDbi\")\n",
    "library(\"hom.Sc.inp.db\")\n",
    "library(\"biomaRt\")\n",
    "library (\"plyr\") #### just in case.\n",
    "\n",
    "########################################\n",
    "###Biomart package installation####\n",
    "#######################################\n",
    "# source(\"http://bioconductor.org/biocLite.R\")\n",
    "# biocLite(\"biomaRt\")\n",
    "# \n",
    "# #########################################\n",
    "# ##To view documentation for the version of this package ###\n",
    "# ############################################################\n",
    "# browseVignettes(\"biomaRt\")\n",
    "# \n",
    "# ###################################################\n",
    "# ### code chunk number 2: biomaRt\n",
    "# ###################################################\n",
    "# library(\"biomaRt\")\n",
    "# listMarts()\n",
    "# \n",
    "# \n",
    "# \n",
    "# ###################################################\n",
    "# ### code chunk number 4: listDatasets\n",
    "# ###################################################\n",
    "# listDatasets(ensembl)\n",
    "\n",
    "#############################################################\n",
    "### Read the file containing the gene symbols of the organism\n",
    "###############################################################\n",
    "\n",
    "yeastEGIds <- read.table(file= \"R_Input_Willingham_etal2003.txt\", sep = \"\\t\", header = TRUE)\n",
    "\n",
    "# convert your Gene Symbols to ensemble gene id and ensembl protein id for your organism\n",
    "\n",
    "yeast = useMart(host='dec2014.archive.ensembl.org',biomart = 'ENSEMBL_MART_ENSEMBL', dataset = \"scerevisiae_gene_ensembl\") ### specify the dataset to use \n",
    "\n",
    "###################################################\n",
    "### filters for the yeast dataset\n",
    "###################################################\n",
    "filters = listFilters(yeast)\n",
    "filters[1:5,]\n",
    "#listFilters(yeast)\n",
    "\n",
    "###################################################\n",
    "### attributes for yeast dataset\n",
    "###################################################\n",
    "attributes = listAttributes(yeast)\n",
    "\n",
    "attributes[1:5,]\n",
    "#listAttributes(yeast, page=\"feature_page\")\n",
    "\n",
    "\n",
    "########################################\n",
    "## Get the attributes for yeast dataset \n",
    "#######################################\n",
    "\n",
    "\n",
    "rawWillinghamENSProtIds <- getBM(c('ensembl_gene_id', 'external_gene_name', 'ensembl_peptide_id'), filters='wikigene_name', 'external_gene_name', values= yeastEGIds$HttEnhancergenes, mart=yeast) # convert Gene Symbol to ensemble gene id and ensembl protein id for your organism\n",
    "length (rawWillinghamENSProtIds)\n",
    "dim (rawWillinghamENSProtIds)\n",
    "class(rawWillinghamENSProtIds)\n",
    "#rawWillinghamENSProtIds\n",
    "\n",
    "\n",
    "#########################################\n",
    "# remove duplicate values from the ensembl protein id column\n",
    "#######################################\n",
    "\n",
    "WillinghamENSProtIds <- rawWillinghamENSProtIds[!duplicated(rawWillinghamENSProtIds[,3]),]\n",
    "#WillinghamENSProtIds\n",
    "dim(WillinghamENSProtIds)\n",
    "\n",
    "##############################################\n",
    "# Using the Inparanoid function to find human orthologs in form of human ensembl protein IDs#\n",
    "##################################################\n",
    "\n",
    "rawHumanProtIds <- mget(unlist(WillinghamENSProtIds$ensembl_peptide_id) ,hom.Sc.inpHOMSA,ifnotfound=NA)\n",
    "\n",
    "#rawHumanProtIds\n",
    "class(rawHumanProtIds)\n",
    "HumanProtIds <- rawHumanProtIds[!is.na(rawHumanProtIds)] ## remove all the NA values from the list\n",
    "#HumanProtIds\n",
    "length(HumanProtIds)\n",
    "\n",
    "##########################################################################\n",
    "## Find the ensembl gene id annd hgnc symbols for your human ensembl peptide id \n",
    "## using the getBM function and the human ensembl dataset\n",
    "#######################################################################\n",
    "\n",
    "human = useMart(host='dec2014.archive.ensembl.org',biomart = 'ENSEMBL_MART_ENSEMBL', dataset = \"hsapiens_gene_ensembl\")\n",
    "Humanorthologs <- getBM(c('ensembl_gene_id', 'hgnc_symbol', 'ensembl_peptide_id', 'entrezgene'), filters='ensembl_peptide_id', values=HumanProtIds, mart=human) # convert Gene Symbol to ensemble gene id and ensembl protein id for your organism\n",
    "Humanorthologs\n",
    "dim(Humanorthologs)\n",
    "\n",
    "## run the line below if need output in text file.\n",
    "#write.table(Humanorthologs, file=\"WillinghamHumanOrthologs.txt\", sep=\"\\t\", col.names = NA) ### export file in text format to the folder.\n",
    "\n",
    "\n",
    "##############################################################################################\n",
    "##########END ################################################################################\n",
    "#############################################################################################\n",
    "\n",
    "sessionInfo()\n"
   ]
  },
  {
   "cell_type": "code",
   "execution_count": null,
   "metadata": {
    "collapsed": true
   },
   "outputs": [],
   "source": []
  }
 ],
 "metadata": {
  "kernelspec": {
   "display_name": "R",
   "language": "R",
   "name": "ir"
  },
  "language_info": {
   "codemirror_mode": "r",
   "file_extension": ".r",
   "mimetype": "text/x-r-source",
   "name": "R",
   "pygments_lexer": "r",
   "version": "3.3.1"
  }
 },
 "nbformat": 4,
 "nbformat_minor": 2
}
