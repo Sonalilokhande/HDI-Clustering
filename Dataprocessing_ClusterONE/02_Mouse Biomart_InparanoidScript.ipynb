{
 "cells": [
  {
   "cell_type": "markdown",
   "metadata": {},
   "source": [
    "### Detecting human orthologs of mouse physical interactors of Huntingtin protein.\n",
    "#### Shirasaki et al_2012"
   ]
  },
  {
   "cell_type": "code",
   "execution_count": 2,
   "metadata": {
    "collapsed": false
   },
   "outputs": [
    {
     "name": "stderr",
     "output_type": "stream",
     "text": [
      "Bioconductor version 3.4 (BiocInstaller 1.24.0), ?biocLite for help\n",
      "BioC_mirror: https://bioconductor.org\n",
      "Using Bioconductor 3.4 (BiocInstaller 1.24.0), R 3.3.1 (2016-06-21).\n",
      "Installing package(s) 'biomaRt'\n",
      "Warning message:\n",
      "\"package 'biomaRt' is in use and will not be installed\"installation path not writeable, unable to update packages: cluster, codetools,\n",
      "  foreign, lattice, Matrix, mgcv, nlme, survival\n",
      "Old packages: 'assertthat', 'curl', 'matrixStats', 'party', 'zoo'\n",
      "BioC_mirror: https://bioconductor.org\n",
      "Using Bioconductor 3.4 (BiocInstaller 1.24.0), R 3.3.1 (2016-06-21).\n",
      "Installing package(s) 'hom.Mm.inp.db'\n",
      "installing the source package 'hom.Mm.inp.db'\n",
      "\n",
      "installation path not writeable, unable to update packages: cluster, codetools,\n",
      "  foreign, lattice, Matrix, mgcv, nlme, survival\n",
      "Old packages: 'assertthat', 'curl', 'matrixStats', 'party', 'zoo'\n"
     ]
    },
    {
     "data": {
      "text/html": [
       "<table>\n",
       "<thead><tr><th scope=col>name</th><th scope=col>description</th></tr></thead>\n",
       "<tbody>\n",
       "\t<tr><td>chromosome_name</td><td>Chromosome name</td></tr>\n",
       "\t<tr><td>start          </td><td>Gene Start (bp)</td></tr>\n",
       "\t<tr><td>end            </td><td>Gene End (bp)  </td></tr>\n",
       "\t<tr><td>band_start     </td><td>Band Start     </td></tr>\n",
       "\t<tr><td>band_end       </td><td>Band End       </td></tr>\n",
       "</tbody>\n",
       "</table>\n"
      ],
      "text/latex": [
       "\\begin{tabular}{r|ll}\n",
       " name & description\\\\\n",
       "\\hline\n",
       "\t chromosome\\_name & Chromosome name  \\\\\n",
       "\t start           & Gene Start (bp)\\\\\n",
       "\t end             & Gene End (bp)  \\\\\n",
       "\t band\\_start      & Band Start       \\\\\n",
       "\t band\\_end        & Band End         \\\\\n",
       "\\end{tabular}\n"
      ],
      "text/markdown": [
       "\n",
       "name | description | \n",
       "|---|---|---|---|---|\n",
       "| chromosome_name | Chromosome name | \n",
       "| start           | Gene Start (bp) | \n",
       "| end             | Gene End (bp)   | \n",
       "| band_start      | Band Start      | \n",
       "| band_end        | Band End        | \n",
       "\n",
       "\n"
      ],
      "text/plain": [
       "  name            description    \n",
       "1 chromosome_name Chromosome name\n",
       "2 start           Gene Start (bp)\n",
       "3 end             Gene End (bp)  \n",
       "4 band_start      Band Start     \n",
       "5 band_end        Band End       "
      ]
     },
     "metadata": {},
     "output_type": "display_data"
    },
    {
     "data": {
      "text/html": [
       "<table>\n",
       "<thead><tr><th scope=col>name</th><th scope=col>description</th><th scope=col>page</th></tr></thead>\n",
       "<tbody>\n",
       "\t<tr><td>ensembl_gene_id      </td><td>Ensembl Gene ID      </td><td>feature_page         </td></tr>\n",
       "\t<tr><td>ensembl_transcript_id</td><td>Ensembl Transcript ID</td><td>feature_page         </td></tr>\n",
       "\t<tr><td>ensembl_peptide_id   </td><td>Ensembl Protein ID   </td><td>feature_page         </td></tr>\n",
       "\t<tr><td>ensembl_exon_id      </td><td>Ensembl Exon ID      </td><td>feature_page         </td></tr>\n",
       "\t<tr><td>description          </td><td>Description          </td><td>feature_page         </td></tr>\n",
       "</tbody>\n",
       "</table>\n"
      ],
      "text/latex": [
       "\\begin{tabular}{r|lll}\n",
       " name & description & page\\\\\n",
       "\\hline\n",
       "\t ensembl\\_gene\\_id       & Ensembl Gene ID           & feature\\_page           \\\\\n",
       "\t ensembl\\_transcript\\_id & Ensembl Transcript ID     & feature\\_page           \\\\\n",
       "\t ensembl\\_peptide\\_id    & Ensembl Protein ID        & feature\\_page           \\\\\n",
       "\t ensembl\\_exon\\_id       & Ensembl Exon ID           & feature\\_page           \\\\\n",
       "\t description           & Description           & feature\\_page       \\\\\n",
       "\\end{tabular}\n"
      ],
      "text/markdown": [
       "\n",
       "name | description | page | \n",
       "|---|---|---|---|---|\n",
       "| ensembl_gene_id       | Ensembl Gene ID       | feature_page          | \n",
       "| ensembl_transcript_id | Ensembl Transcript ID | feature_page          | \n",
       "| ensembl_peptide_id    | Ensembl Protein ID    | feature_page          | \n",
       "| ensembl_exon_id       | Ensembl Exon ID       | feature_page          | \n",
       "| description           | Description           | feature_page          | \n",
       "\n",
       "\n"
      ],
      "text/plain": [
       "  name                  description           page        \n",
       "1 ensembl_gene_id       Ensembl Gene ID       feature_page\n",
       "2 ensembl_transcript_id Ensembl Transcript ID feature_page\n",
       "3 ensembl_peptide_id    Ensembl Protein ID    feature_page\n",
       "4 ensembl_exon_id       Ensembl Exon ID       feature_page\n",
       "5 description           Description           feature_page"
      ]
     },
     "metadata": {},
     "output_type": "display_data"
    },
    {
     "data": {
      "text/html": [
       "5"
      ],
      "text/latex": [
       "5"
      ],
      "text/markdown": [
       "5"
      ],
      "text/plain": [
       "[1] 5"
      ]
     },
     "metadata": {},
     "output_type": "display_data"
    },
    {
     "data": {
      "text/html": [
       "<ol class=list-inline>\n",
       "\t<li>2737</li>\n",
       "\t<li>5</li>\n",
       "</ol>\n"
      ],
      "text/latex": [
       "\\begin{enumerate*}\n",
       "\\item 2737\n",
       "\\item 5\n",
       "\\end{enumerate*}\n"
      ],
      "text/markdown": [
       "1. 2737\n",
       "2. 5\n",
       "\n",
       "\n"
      ],
      "text/plain": [
       "[1] 2737    5"
      ]
     },
     "metadata": {},
     "output_type": "display_data"
    },
    {
     "data": {
      "text/html": [
       "'data.frame'"
      ],
      "text/latex": [
       "'data.frame'"
      ],
      "text/markdown": [
       "'data.frame'"
      ],
      "text/plain": [
       "[1] \"data.frame\""
      ]
     },
     "metadata": {},
     "output_type": "display_data"
    },
    {
     "data": {
      "text/html": [
       "<ol class=list-inline>\n",
       "\t<li>2302</li>\n",
       "\t<li>5</li>\n",
       "</ol>\n"
      ],
      "text/latex": [
       "\\begin{enumerate*}\n",
       "\\item 2302\n",
       "\\item 5\n",
       "\\end{enumerate*}\n"
      ],
      "text/markdown": [
       "1. 2302\n",
       "2. 5\n",
       "\n",
       "\n"
      ],
      "text/plain": [
       "[1] 2302    5"
      ]
     },
     "metadata": {},
     "output_type": "display_data"
    },
    {
     "data": {
      "text/html": [
       "<ol class=list-inline>\n",
       "\t<li>2302</li>\n",
       "\t<li>5</li>\n",
       "</ol>\n"
      ],
      "text/latex": [
       "\\begin{enumerate*}\n",
       "\\item 2302\n",
       "\\item 5\n",
       "\\end{enumerate*}\n"
      ],
      "text/markdown": [
       "1. 2302\n",
       "2. 5\n",
       "\n",
       "\n"
      ],
      "text/plain": [
       "[1] 2302    5"
      ]
     },
     "metadata": {},
     "output_type": "display_data"
    },
    {
     "data": {
      "text/html": [
       "'list'"
      ],
      "text/latex": [
       "'list'"
      ],
      "text/markdown": [
       "'list'"
      ],
      "text/plain": [
       "[1] \"list\""
      ]
     },
     "metadata": {},
     "output_type": "display_data"
    },
    {
     "data": {
      "text/html": [
       "592"
      ],
      "text/latex": [
       "592"
      ],
      "text/markdown": [
       "592"
      ],
      "text/plain": [
       "[1] 592"
      ]
     },
     "metadata": {},
     "output_type": "display_data"
    },
    {
     "data": {
      "text/html": [
       "<table>\n",
       "<thead><tr><th scope=col>ensembl_gene_id</th><th scope=col>hgnc_symbol</th><th scope=col>ensembl_peptide_id</th><th scope=col>entrezgene</th><th scope=col>uniprot_swissprot</th></tr></thead>\n",
       "<tbody>\n",
       "\t<tr><td>ENSG00000006451</td><td>RALA           </td><td>ENSP00000005257</td><td>     5898      </td><td>P11233         </td></tr>\n",
       "\t<tr><td>ENSG00000022355</td><td>GABRA1         </td><td>ENSP00000023897</td><td>     2554      </td><td>P14867         </td></tr>\n",
       "\t<tr><td>ENSG00000033122</td><td>LRRC7          </td><td>ENSP00000035383</td><td>    57554      </td><td>Q96NW7         </td></tr>\n",
       "\t<tr><td>ENSG00000054803</td><td>CBLN4          </td><td>ENSP00000064571</td><td>   140689      </td><td>Q9NTU7         </td></tr>\n",
       "\t<tr><td>ENSG00000013297</td><td>CLDN11         </td><td>ENSP00000064724</td><td>     5010      </td><td>O75508         </td></tr>\n",
       "\t<tr><td>ENSG00000059804</td><td>SLC2A3         </td><td>ENSP00000075120</td><td>     6515      </td><td>P11169         </td></tr>\n",
       "\t<tr><td>ENSG00000059804</td><td>SLC2A3         </td><td>ENSP00000075120</td><td>102723606      </td><td>P11169         </td></tr>\n",
       "\t<tr><td>ENSG00000088256</td><td>GNA11          </td><td>ENSP00000078429</td><td>     2767      </td><td>P29992         </td></tr>\n",
       "\t<tr><td>ENSG00000063177</td><td>RPL18          </td><td>ENSP00000084795</td><td>     6141      </td><td>               </td></tr>\n",
       "\t<tr><td>ENSG00000013275</td><td>PSMC4          </td><td>ENSP00000157812</td><td>     5704      </td><td>P43686         </td></tr>\n",
       "\t<tr><td>ENSG00000068976</td><td>PYGM           </td><td>ENSP00000164139</td><td>     5837      </td><td>P11217         </td></tr>\n",
       "\t<tr><td>ENSG00000068976</td><td>PYGM           </td><td>ENSP00000164139</td><td>102725405      </td><td>P11217         </td></tr>\n",
       "\t<tr><td>ENSG00000068976</td><td>PYGM           </td><td>ENSP00000164139</td><td>102725475      </td><td>P11217         </td></tr>\n",
       "\t<tr><td>ENSG00000072506</td><td>HSD17B10       </td><td>ENSP00000168216</td><td>     3028      </td><td>Q99714         </td></tr>\n",
       "\t<tr><td>ENSG00000075089</td><td>ACTR6          </td><td>ENSP00000188312</td><td>    64431      </td><td>Q9GZN1         </td></tr>\n",
       "\t<tr><td>ENSG00000065609</td><td>SNAP91         </td><td>ENSP00000195649</td><td>     9892      </td><td>               </td></tr>\n",
       "\t<tr><td>ENSG00000089009</td><td>RPL6           </td><td>ENSP00000202773</td><td>     6128      </td><td>Q02878         </td></tr>\n",
       "\t<tr><td>ENSG00000010256</td><td>UQCRC1         </td><td>ENSP00000203407</td><td>     7384      </td><td>P31930         </td></tr>\n",
       "\t<tr><td>ENSG00000089693</td><td>MLF2           </td><td>ENSP00000203630</td><td>     8079      </td><td>Q15773         </td></tr>\n",
       "\t<tr><td>ENSG00000092850</td><td>TEKT2          </td><td>ENSP00000207457</td><td>    27285      </td><td>Q9UIF3         </td></tr>\n",
       "\t<tr><td>ENSG00000096171</td><td>VARS           </td><td>ENSP00000211402</td><td>     7407      </td><td>P26640         </td></tr>\n",
       "\t<tr><td>ENSG00000099365</td><td>STX1B          </td><td>ENSP00000215095</td><td>   112755      </td><td>P61266         </td></tr>\n",
       "\t<tr><td>ENSG00000100028</td><td>SNRPD3         </td><td>ENSP00000215829</td><td>     6634      </td><td>P62318         </td></tr>\n",
       "\t<tr><td>ENSG00000100030</td><td>MAPK1          </td><td>ENSP00000215832</td><td>     5594      </td><td>P28482         </td></tr>\n",
       "\t<tr><td>ENSG00000100504</td><td>PYGL           </td><td>ENSP00000216392</td><td>     5836      </td><td>P06737         </td></tr>\n",
       "\t<tr><td>ENSG00000100554</td><td>ATP6V1D        </td><td>ENSP00000216442</td><td>    51382      </td><td>Q9Y5K8         </td></tr>\n",
       "\t<tr><td>ENSG00000100558</td><td>PLEK2          </td><td>ENSP00000216446</td><td>    26499      </td><td>Q9NYT0         </td></tr>\n",
       "\t<tr><td>ENSG00000100591</td><td>AHSA1          </td><td>ENSP00000216479</td><td>    10598      </td><td>O95433         </td></tr>\n",
       "\t<tr><td>ENSG00000100664</td><td>EIF5           </td><td>ENSP00000216554</td><td>     1983      </td><td>P55010         </td></tr>\n",
       "\t<tr><td>ENSG00000100714</td><td>MTHFD1         </td><td>ENSP00000216605</td><td>     4522      </td><td>P11586         </td></tr>\n",
       "\t<tr><td>...</td><td>...</td><td>...</td><td>...</td><td>...</td></tr>\n",
       "\t<tr><td>ENSG00000138814</td><td>PPP3CA         </td><td>ENSP00000378323</td><td>     5530      </td><td>Q08209         </td></tr>\n",
       "\t<tr><td>ENSG00000149925</td><td>ALDOA          </td><td>ENSP00000378669</td><td>      226      </td><td>P04075         </td></tr>\n",
       "\t<tr><td>ENSG00000058404</td><td>CAMK2B         </td><td>ENSP00000379098</td><td>      816      </td><td>Q13554         </td></tr>\n",
       "\t<tr><td>ENSG00000155097</td><td>ATP6V1C1       </td><td>ENSP00000379203</td><td>      528      </td><td>P21283         </td></tr>\n",
       "\t<tr><td>ENSG00000164924</td><td>YWHAZ          </td><td>ENSP00000379287</td><td>     7534      </td><td>P63104         </td></tr>\n",
       "\t<tr><td>ENSG00000111716</td><td>LDHB           </td><td>ENSP00000379386</td><td>     3945      </td><td>P07195         </td></tr>\n",
       "\t<tr><td>ENSG00000133392</td><td>MYH11          </td><td>ENSP00000379616</td><td>     4629      </td><td>P35749         </td></tr>\n",
       "\t<tr><td>ENSG00000183454</td><td>GRIN2A         </td><td>ENSP00000379818</td><td>     2903      </td><td>Q12879         </td></tr>\n",
       "\t<tr><td>ENSG00000204655</td><td>MOG            </td><td>ENSP00000379932</td><td>     4340      </td><td>Q16653         </td></tr>\n",
       "\t<tr><td>ENSG00000157379</td><td>DHRS1          </td><td>ENSP00000380027</td><td>   115817      </td><td>Q96LJ7         </td></tr>\n",
       "\t<tr><td>ENSG00000100884</td><td>CPNE6          </td><td>ENSP00000380211</td><td>     9362      </td><td>O95741         </td></tr>\n",
       "\t<tr><td>ENSG00000074370</td><td>ATP2A3         </td><td>ENSP00000380229</td><td>      489      </td><td>Q93084         </td></tr>\n",
       "\t<tr><td>ENSG00000120899</td><td>PTK2B          </td><td>ENSP00000380638</td><td>     2185      </td><td>Q14289         </td></tr>\n",
       "\t<tr><td>ENSG00000120910</td><td>PPP3CC         </td><td>ENSP00000380878</td><td>     5533      </td><td>P48454         </td></tr>\n",
       "\t<tr><td>ENSG00000141959</td><td>PFKL           </td><td>ENSP00000381052</td><td>     5211      </td><td>               </td></tr>\n",
       "\t<tr><td>ENSG00000073969</td><td>NSF            </td><td>ENSP00000381293</td><td>     4905      </td><td>P46459         </td></tr>\n",
       "\t<tr><td>ENSG00000073969</td><td>NSF            </td><td>ENSP00000381293</td><td>101930324      </td><td>P46459         </td></tr>\n",
       "\t<tr><td>ENSG00000070808</td><td>CAMK2A         </td><td>ENSP00000381412</td><td>      815      </td><td>Q9UQM7         </td></tr>\n",
       "\t<tr><td>ENSG00000067900</td><td>ROCK1          </td><td>ENSP00000382697</td><td>     6093      </td><td>Q13464         </td></tr>\n",
       "\t<tr><td>ENSG00000182902</td><td>SLC25A18       </td><td>ENSP00000382710</td><td>    83733      </td><td>Q9H1K4         </td></tr>\n",
       "\t<tr><td>ENSG00000198053</td><td>SIRPA          </td><td>ENSP00000382941</td><td>   140885      </td><td>P78324         </td></tr>\n",
       "\t<tr><td>ENSG00000009724</td><td>MASP2          </td><td>ENSP00000383690</td><td>    10747      </td><td>O00187         </td></tr>\n",
       "\t<tr><td>ENSG00000130294</td><td>KIF1A          </td><td>ENSP00000384231</td><td>      547      </td><td>               </td></tr>\n",
       "\t<tr><td>ENSG00000068796</td><td>KIF2A          </td><td>ENSP00000385000</td><td>     3796      </td><td>O00139         </td></tr>\n",
       "\t<tr><td>ENSG00000115155</td><td>OTOF           </td><td>ENSP00000385255</td><td>     9381      </td><td>Q9HC10         </td></tr>\n",
       "\t<tr><td>ENSG00000168036</td><td>CTNNB1         </td><td>ENSP00000385604</td><td>     1499      </td><td>P35222         </td></tr>\n",
       "\t<tr><td>ENSG00000072518</td><td>MARK2          </td><td>ENSP00000385751</td><td>     2011      </td><td>Q7KZI7         </td></tr>\n",
       "\t<tr><td>ENSG00000196504</td><td>PRPF40A        </td><td>ENSP00000386458</td><td>    55660      </td><td>O75400         </td></tr>\n",
       "\t<tr><td>ENSG00000135624</td><td>CCT7           </td><td>ENSP00000386978</td><td>    10574      </td><td>               </td></tr>\n",
       "\t<tr><td>ENSG00000144278</td><td>GALNT13        </td><td>ENSP00000387239</td><td>   114805      </td><td>Q8IUC8         </td></tr>\n",
       "</tbody>\n",
       "</table>\n"
      ],
      "text/latex": [
       "\\begin{tabular}{r|lllll}\n",
       " ensembl\\_gene\\_id & hgnc\\_symbol & ensembl\\_peptide\\_id & entrezgene & uniprot\\_swissprot\\\\\n",
       "\\hline\n",
       "\t ENSG00000006451 & RALA            & ENSP00000005257 &      5898       & P11233         \\\\\n",
       "\t ENSG00000022355 & GABRA1          & ENSP00000023897 &      2554       & P14867         \\\\\n",
       "\t ENSG00000033122 & LRRC7           & ENSP00000035383 &     57554       & Q96NW7         \\\\\n",
       "\t ENSG00000054803 & CBLN4           & ENSP00000064571 &    140689       & Q9NTU7         \\\\\n",
       "\t ENSG00000013297 & CLDN11          & ENSP00000064724 &      5010       & O75508         \\\\\n",
       "\t ENSG00000059804 & SLC2A3          & ENSP00000075120 &      6515       & P11169         \\\\\n",
       "\t ENSG00000059804 & SLC2A3          & ENSP00000075120 & 102723606       & P11169         \\\\\n",
       "\t ENSG00000088256 & GNA11           & ENSP00000078429 &      2767       & P29992         \\\\\n",
       "\t ENSG00000063177 & RPL18           & ENSP00000084795 &      6141       &                \\\\\n",
       "\t ENSG00000013275 & PSMC4           & ENSP00000157812 &      5704       & P43686         \\\\\n",
       "\t ENSG00000068976 & PYGM            & ENSP00000164139 &      5837       & P11217         \\\\\n",
       "\t ENSG00000068976 & PYGM            & ENSP00000164139 & 102725405       & P11217         \\\\\n",
       "\t ENSG00000068976 & PYGM            & ENSP00000164139 & 102725475       & P11217         \\\\\n",
       "\t ENSG00000072506 & HSD17B10        & ENSP00000168216 &      3028       & Q99714         \\\\\n",
       "\t ENSG00000075089 & ACTR6           & ENSP00000188312 &     64431       & Q9GZN1         \\\\\n",
       "\t ENSG00000065609 & SNAP91          & ENSP00000195649 &      9892       &                \\\\\n",
       "\t ENSG00000089009 & RPL6            & ENSP00000202773 &      6128       & Q02878         \\\\\n",
       "\t ENSG00000010256 & UQCRC1          & ENSP00000203407 &      7384       & P31930         \\\\\n",
       "\t ENSG00000089693 & MLF2            & ENSP00000203630 &      8079       & Q15773         \\\\\n",
       "\t ENSG00000092850 & TEKT2           & ENSP00000207457 &     27285       & Q9UIF3         \\\\\n",
       "\t ENSG00000096171 & VARS            & ENSP00000211402 &      7407       & P26640         \\\\\n",
       "\t ENSG00000099365 & STX1B           & ENSP00000215095 &    112755       & P61266         \\\\\n",
       "\t ENSG00000100028 & SNRPD3          & ENSP00000215829 &      6634       & P62318         \\\\\n",
       "\t ENSG00000100030 & MAPK1           & ENSP00000215832 &      5594       & P28482         \\\\\n",
       "\t ENSG00000100504 & PYGL            & ENSP00000216392 &      5836       & P06737         \\\\\n",
       "\t ENSG00000100554 & ATP6V1D         & ENSP00000216442 &     51382       & Q9Y5K8         \\\\\n",
       "\t ENSG00000100558 & PLEK2           & ENSP00000216446 &     26499       & Q9NYT0         \\\\\n",
       "\t ENSG00000100591 & AHSA1           & ENSP00000216479 &     10598       & O95433         \\\\\n",
       "\t ENSG00000100664 & EIF5            & ENSP00000216554 &      1983       & P55010         \\\\\n",
       "\t ENSG00000100714 & MTHFD1          & ENSP00000216605 &      4522       & P11586         \\\\\n",
       "\t ... & ... & ... & ... & ...\\\\\n",
       "\t ENSG00000138814 & PPP3CA          & ENSP00000378323 &      5530       & Q08209         \\\\\n",
       "\t ENSG00000149925 & ALDOA           & ENSP00000378669 &       226       & P04075         \\\\\n",
       "\t ENSG00000058404 & CAMK2B          & ENSP00000379098 &       816       & Q13554         \\\\\n",
       "\t ENSG00000155097 & ATP6V1C1        & ENSP00000379203 &       528       & P21283         \\\\\n",
       "\t ENSG00000164924 & YWHAZ           & ENSP00000379287 &      7534       & P63104         \\\\\n",
       "\t ENSG00000111716 & LDHB            & ENSP00000379386 &      3945       & P07195         \\\\\n",
       "\t ENSG00000133392 & MYH11           & ENSP00000379616 &      4629       & P35749         \\\\\n",
       "\t ENSG00000183454 & GRIN2A          & ENSP00000379818 &      2903       & Q12879         \\\\\n",
       "\t ENSG00000204655 & MOG             & ENSP00000379932 &      4340       & Q16653         \\\\\n",
       "\t ENSG00000157379 & DHRS1           & ENSP00000380027 &    115817       & Q96LJ7         \\\\\n",
       "\t ENSG00000100884 & CPNE6           & ENSP00000380211 &      9362       & O95741         \\\\\n",
       "\t ENSG00000074370 & ATP2A3          & ENSP00000380229 &       489       & Q93084         \\\\\n",
       "\t ENSG00000120899 & PTK2B           & ENSP00000380638 &      2185       & Q14289         \\\\\n",
       "\t ENSG00000120910 & PPP3CC          & ENSP00000380878 &      5533       & P48454         \\\\\n",
       "\t ENSG00000141959 & PFKL            & ENSP00000381052 &      5211       &                \\\\\n",
       "\t ENSG00000073969 & NSF             & ENSP00000381293 &      4905       & P46459         \\\\\n",
       "\t ENSG00000073969 & NSF             & ENSP00000381293 & 101930324       & P46459         \\\\\n",
       "\t ENSG00000070808 & CAMK2A          & ENSP00000381412 &       815       & Q9UQM7         \\\\\n",
       "\t ENSG00000067900 & ROCK1           & ENSP00000382697 &      6093       & Q13464         \\\\\n",
       "\t ENSG00000182902 & SLC25A18        & ENSP00000382710 &     83733       & Q9H1K4         \\\\\n",
       "\t ENSG00000198053 & SIRPA           & ENSP00000382941 &    140885       & P78324         \\\\\n",
       "\t ENSG00000009724 & MASP2           & ENSP00000383690 &     10747       & O00187         \\\\\n",
       "\t ENSG00000130294 & KIF1A           & ENSP00000384231 &       547       &                \\\\\n",
       "\t ENSG00000068796 & KIF2A           & ENSP00000385000 &      3796       & O00139         \\\\\n",
       "\t ENSG00000115155 & OTOF            & ENSP00000385255 &      9381       & Q9HC10         \\\\\n",
       "\t ENSG00000168036 & CTNNB1          & ENSP00000385604 &      1499       & P35222         \\\\\n",
       "\t ENSG00000072518 & MARK2           & ENSP00000385751 &      2011       & Q7KZI7         \\\\\n",
       "\t ENSG00000196504 & PRPF40A         & ENSP00000386458 &     55660       & O75400         \\\\\n",
       "\t ENSG00000135624 & CCT7            & ENSP00000386978 &     10574       &                \\\\\n",
       "\t ENSG00000144278 & GALNT13         & ENSP00000387239 &    114805       & Q8IUC8         \\\\\n",
       "\\end{tabular}\n"
      ],
      "text/markdown": [
       "\n",
       "ensembl_gene_id | hgnc_symbol | ensembl_peptide_id | entrezgene | uniprot_swissprot | \n",
       "|---|---|---|---|---|---|---|---|---|---|---|---|---|---|---|---|---|---|---|---|---|---|---|---|---|---|---|---|---|---|---|---|---|---|---|---|---|---|---|---|---|---|---|---|---|---|---|---|---|---|---|---|---|---|---|---|---|---|---|---|---|\n",
       "| ENSG00000006451 | RALA            | ENSP00000005257 |      5898       | P11233          | \n",
       "| ENSG00000022355 | GABRA1          | ENSP00000023897 |      2554       | P14867          | \n",
       "| ENSG00000033122 | LRRC7           | ENSP00000035383 |     57554       | Q96NW7          | \n",
       "| ENSG00000054803 | CBLN4           | ENSP00000064571 |    140689       | Q9NTU7          | \n",
       "| ENSG00000013297 | CLDN11          | ENSP00000064724 |      5010       | O75508          | \n",
       "| ENSG00000059804 | SLC2A3          | ENSP00000075120 |      6515       | P11169          | \n",
       "| ENSG00000059804 | SLC2A3          | ENSP00000075120 | 102723606       | P11169          | \n",
       "| ENSG00000088256 | GNA11           | ENSP00000078429 |      2767       | P29992          | \n",
       "| ENSG00000063177 | RPL18           | ENSP00000084795 |      6141       |                 | \n",
       "| ENSG00000013275 | PSMC4           | ENSP00000157812 |      5704       | P43686          | \n",
       "| ENSG00000068976 | PYGM            | ENSP00000164139 |      5837       | P11217          | \n",
       "| ENSG00000068976 | PYGM            | ENSP00000164139 | 102725405       | P11217          | \n",
       "| ENSG00000068976 | PYGM            | ENSP00000164139 | 102725475       | P11217          | \n",
       "| ENSG00000072506 | HSD17B10        | ENSP00000168216 |      3028       | Q99714          | \n",
       "| ENSG00000075089 | ACTR6           | ENSP00000188312 |     64431       | Q9GZN1          | \n",
       "| ENSG00000065609 | SNAP91          | ENSP00000195649 |      9892       |                 | \n",
       "| ENSG00000089009 | RPL6            | ENSP00000202773 |      6128       | Q02878          | \n",
       "| ENSG00000010256 | UQCRC1          | ENSP00000203407 |      7384       | P31930          | \n",
       "| ENSG00000089693 | MLF2            | ENSP00000203630 |      8079       | Q15773          | \n",
       "| ENSG00000092850 | TEKT2           | ENSP00000207457 |     27285       | Q9UIF3          | \n",
       "| ENSG00000096171 | VARS            | ENSP00000211402 |      7407       | P26640          | \n",
       "| ENSG00000099365 | STX1B           | ENSP00000215095 |    112755       | P61266          | \n",
       "| ENSG00000100028 | SNRPD3          | ENSP00000215829 |      6634       | P62318          | \n",
       "| ENSG00000100030 | MAPK1           | ENSP00000215832 |      5594       | P28482          | \n",
       "| ENSG00000100504 | PYGL            | ENSP00000216392 |      5836       | P06737          | \n",
       "| ENSG00000100554 | ATP6V1D         | ENSP00000216442 |     51382       | Q9Y5K8          | \n",
       "| ENSG00000100558 | PLEK2           | ENSP00000216446 |     26499       | Q9NYT0          | \n",
       "| ENSG00000100591 | AHSA1           | ENSP00000216479 |     10598       | O95433          | \n",
       "| ENSG00000100664 | EIF5            | ENSP00000216554 |      1983       | P55010          | \n",
       "| ENSG00000100714 | MTHFD1          | ENSP00000216605 |      4522       | P11586          | \n",
       "| ... | ... | ... | ... | ... | \n",
       "| ENSG00000138814 | PPP3CA          | ENSP00000378323 |      5530       | Q08209          | \n",
       "| ENSG00000149925 | ALDOA           | ENSP00000378669 |       226       | P04075          | \n",
       "| ENSG00000058404 | CAMK2B          | ENSP00000379098 |       816       | Q13554          | \n",
       "| ENSG00000155097 | ATP6V1C1        | ENSP00000379203 |       528       | P21283          | \n",
       "| ENSG00000164924 | YWHAZ           | ENSP00000379287 |      7534       | P63104          | \n",
       "| ENSG00000111716 | LDHB            | ENSP00000379386 |      3945       | P07195          | \n",
       "| ENSG00000133392 | MYH11           | ENSP00000379616 |      4629       | P35749          | \n",
       "| ENSG00000183454 | GRIN2A          | ENSP00000379818 |      2903       | Q12879          | \n",
       "| ENSG00000204655 | MOG             | ENSP00000379932 |      4340       | Q16653          | \n",
       "| ENSG00000157379 | DHRS1           | ENSP00000380027 |    115817       | Q96LJ7          | \n",
       "| ENSG00000100884 | CPNE6           | ENSP00000380211 |      9362       | O95741          | \n",
       "| ENSG00000074370 | ATP2A3          | ENSP00000380229 |       489       | Q93084          | \n",
       "| ENSG00000120899 | PTK2B           | ENSP00000380638 |      2185       | Q14289          | \n",
       "| ENSG00000120910 | PPP3CC          | ENSP00000380878 |      5533       | P48454          | \n",
       "| ENSG00000141959 | PFKL            | ENSP00000381052 |      5211       |                 | \n",
       "| ENSG00000073969 | NSF             | ENSP00000381293 |      4905       | P46459          | \n",
       "| ENSG00000073969 | NSF             | ENSP00000381293 | 101930324       | P46459          | \n",
       "| ENSG00000070808 | CAMK2A          | ENSP00000381412 |       815       | Q9UQM7          | \n",
       "| ENSG00000067900 | ROCK1           | ENSP00000382697 |      6093       | Q13464          | \n",
       "| ENSG00000182902 | SLC25A18        | ENSP00000382710 |     83733       | Q9H1K4          | \n",
       "| ENSG00000198053 | SIRPA           | ENSP00000382941 |    140885       | P78324          | \n",
       "| ENSG00000009724 | MASP2           | ENSP00000383690 |     10747       | O00187          | \n",
       "| ENSG00000130294 | KIF1A           | ENSP00000384231 |       547       |                 | \n",
       "| ENSG00000068796 | KIF2A           | ENSP00000385000 |      3796       | O00139          | \n",
       "| ENSG00000115155 | OTOF            | ENSP00000385255 |      9381       | Q9HC10          | \n",
       "| ENSG00000168036 | CTNNB1          | ENSP00000385604 |      1499       | P35222          | \n",
       "| ENSG00000072518 | MARK2           | ENSP00000385751 |      2011       | Q7KZI7          | \n",
       "| ENSG00000196504 | PRPF40A         | ENSP00000386458 |     55660       | O75400          | \n",
       "| ENSG00000135624 | CCT7            | ENSP00000386978 |     10574       |                 | \n",
       "| ENSG00000144278 | GALNT13         | ENSP00000387239 |    114805       | Q8IUC8          | \n",
       "\n",
       "\n"
      ],
      "text/plain": [
       "    ensembl_gene_id hgnc_symbol ensembl_peptide_id entrezgene uniprot_swissprot\n",
       "1   ENSG00000006451 RALA        ENSP00000005257         5898  P11233           \n",
       "2   ENSG00000022355 GABRA1      ENSP00000023897         2554  P14867           \n",
       "3   ENSG00000033122 LRRC7       ENSP00000035383        57554  Q96NW7           \n",
       "4   ENSG00000054803 CBLN4       ENSP00000064571       140689  Q9NTU7           \n",
       "5   ENSG00000013297 CLDN11      ENSP00000064724         5010  O75508           \n",
       "6   ENSG00000059804 SLC2A3      ENSP00000075120         6515  P11169           \n",
       "7   ENSG00000059804 SLC2A3      ENSP00000075120    102723606  P11169           \n",
       "8   ENSG00000088256 GNA11       ENSP00000078429         2767  P29992           \n",
       "9   ENSG00000063177 RPL18       ENSP00000084795         6141                   \n",
       "10  ENSG00000013275 PSMC4       ENSP00000157812         5704  P43686           \n",
       "11  ENSG00000068976 PYGM        ENSP00000164139         5837  P11217           \n",
       "12  ENSG00000068976 PYGM        ENSP00000164139    102725405  P11217           \n",
       "13  ENSG00000068976 PYGM        ENSP00000164139    102725475  P11217           \n",
       "14  ENSG00000072506 HSD17B10    ENSP00000168216         3028  Q99714           \n",
       "15  ENSG00000075089 ACTR6       ENSP00000188312        64431  Q9GZN1           \n",
       "16  ENSG00000065609 SNAP91      ENSP00000195649         9892                   \n",
       "17  ENSG00000089009 RPL6        ENSP00000202773         6128  Q02878           \n",
       "18  ENSG00000010256 UQCRC1      ENSP00000203407         7384  P31930           \n",
       "19  ENSG00000089693 MLF2        ENSP00000203630         8079  Q15773           \n",
       "20  ENSG00000092850 TEKT2       ENSP00000207457        27285  Q9UIF3           \n",
       "21  ENSG00000096171 VARS        ENSP00000211402         7407  P26640           \n",
       "22  ENSG00000099365 STX1B       ENSP00000215095       112755  P61266           \n",
       "23  ENSG00000100028 SNRPD3      ENSP00000215829         6634  P62318           \n",
       "24  ENSG00000100030 MAPK1       ENSP00000215832         5594  P28482           \n",
       "25  ENSG00000100504 PYGL        ENSP00000216392         5836  P06737           \n",
       "26  ENSG00000100554 ATP6V1D     ENSP00000216442        51382  Q9Y5K8           \n",
       "27  ENSG00000100558 PLEK2       ENSP00000216446        26499  Q9NYT0           \n",
       "28  ENSG00000100591 AHSA1       ENSP00000216479        10598  O95433           \n",
       "29  ENSG00000100664 EIF5        ENSP00000216554         1983  P55010           \n",
       "30  ENSG00000100714 MTHFD1      ENSP00000216605         4522  P11586           \n",
       "... ...             ...         ...                ...        ...              \n",
       "535 ENSG00000138814 PPP3CA      ENSP00000378323         5530  Q08209           \n",
       "536 ENSG00000149925 ALDOA       ENSP00000378669          226  P04075           \n",
       "537 ENSG00000058404 CAMK2B      ENSP00000379098          816  Q13554           \n",
       "538 ENSG00000155097 ATP6V1C1    ENSP00000379203          528  P21283           \n",
       "539 ENSG00000164924 YWHAZ       ENSP00000379287         7534  P63104           \n",
       "540 ENSG00000111716 LDHB        ENSP00000379386         3945  P07195           \n",
       "541 ENSG00000133392 MYH11       ENSP00000379616         4629  P35749           \n",
       "542 ENSG00000183454 GRIN2A      ENSP00000379818         2903  Q12879           \n",
       "543 ENSG00000204655 MOG         ENSP00000379932         4340  Q16653           \n",
       "544 ENSG00000157379 DHRS1       ENSP00000380027       115817  Q96LJ7           \n",
       "545 ENSG00000100884 CPNE6       ENSP00000380211         9362  O95741           \n",
       "546 ENSG00000074370 ATP2A3      ENSP00000380229          489  Q93084           \n",
       "547 ENSG00000120899 PTK2B       ENSP00000380638         2185  Q14289           \n",
       "548 ENSG00000120910 PPP3CC      ENSP00000380878         5533  P48454           \n",
       "549 ENSG00000141959 PFKL        ENSP00000381052         5211                   \n",
       "550 ENSG00000073969 NSF         ENSP00000381293         4905  P46459           \n",
       "551 ENSG00000073969 NSF         ENSP00000381293    101930324  P46459           \n",
       "552 ENSG00000070808 CAMK2A      ENSP00000381412          815  Q9UQM7           \n",
       "553 ENSG00000067900 ROCK1       ENSP00000382697         6093  Q13464           \n",
       "554 ENSG00000182902 SLC25A18    ENSP00000382710        83733  Q9H1K4           \n",
       "555 ENSG00000198053 SIRPA       ENSP00000382941       140885  P78324           \n",
       "556 ENSG00000009724 MASP2       ENSP00000383690        10747  O00187           \n",
       "557 ENSG00000130294 KIF1A       ENSP00000384231          547                   \n",
       "558 ENSG00000068796 KIF2A       ENSP00000385000         3796  O00139           \n",
       "559 ENSG00000115155 OTOF        ENSP00000385255         9381  Q9HC10           \n",
       "560 ENSG00000168036 CTNNB1      ENSP00000385604         1499  P35222           \n",
       "561 ENSG00000072518 MARK2       ENSP00000385751         2011  Q7KZI7           \n",
       "562 ENSG00000196504 PRPF40A     ENSP00000386458        55660  O75400           \n",
       "563 ENSG00000135624 CCT7        ENSP00000386978        10574                   \n",
       "564 ENSG00000144278 GALNT13     ENSP00000387239       114805  Q8IUC8           "
      ]
     },
     "metadata": {},
     "output_type": "display_data"
    },
    {
     "data": {
      "text/html": [
       "<ol class=list-inline>\n",
       "\t<li>564</li>\n",
       "\t<li>5</li>\n",
       "</ol>\n"
      ],
      "text/latex": [
       "\\begin{enumerate*}\n",
       "\\item 564\n",
       "\\item 5\n",
       "\\end{enumerate*}\n"
      ],
      "text/markdown": [
       "1. 564\n",
       "2. 5\n",
       "\n",
       "\n"
      ],
      "text/plain": [
       "[1] 564   5"
      ]
     },
     "metadata": {},
     "output_type": "display_data"
    },
    {
     "data": {
      "text/plain": [
       "R version 3.3.1 (2016-06-21)\n",
       "Platform: x86_64-w64-mingw32/x64 (64-bit)\n",
       "Running under: Windows 10 x64 (build 14393)\n",
       "\n",
       "locale:\n",
       "[1] LC_COLLATE=English_United States.1252 \n",
       "[2] LC_CTYPE=English_United States.1252   \n",
       "[3] LC_MONETARY=English_United States.1252\n",
       "[4] LC_NUMERIC=C                          \n",
       "[5] LC_TIME=English_United States.1252    \n",
       "\n",
       "attached base packages:\n",
       "[1] parallel  stats4    stats     graphics  grDevices utils     datasets \n",
       "[8] methods   base     \n",
       "\n",
       "other attached packages:\n",
       "[1] plyr_1.8.4           biomaRt_2.30.0       hom.Mm.inp.db_3.1.2 \n",
       "[4] AnnotationDbi_1.36.2 IRanges_2.8.2        S4Vectors_0.12.2    \n",
       "[7] Biobase_2.34.0       BiocGenerics_0.20.0  BiocInstaller_1.24.0\n",
       "\n",
       "loaded via a namespace (and not attached):\n",
       " [1] Rcpp_0.12.10        magrittr_1.5        uuid_0.1-2         \n",
       " [4] R6_2.2.0            stringr_1.2.0       tools_3.3.1        \n",
       " [7] DBI_0.6-1           digest_0.6.12       crayon_1.3.2       \n",
       "[10] IRdisplay_0.4.4     repr_0.12.0         bitops_1.0-6       \n",
       "[13] RCurl_1.95-4.8      IRkernel_0.8.6.9000 memoise_1.0.0      \n",
       "[16] evaluate_0.10       RSQLite_1.1-2       pbdZMQ_0.2-5       \n",
       "[19] stringi_1.1.5       XML_3.98-1.6        jsonlite_1.4       "
      ]
     },
     "metadata": {},
     "output_type": "display_data"
    }
   ],
   "source": [
    "path <- \"C:/Users/Sonali/Box Sync/Huntington Interactome/MutantHTT_Interactors/Mouse\"\n",
    "setwd(path)\n",
    "\n",
    "########################################\n",
    "###Biomart and Inparanoid package installation####\n",
    "#######################################\n",
    "source(\"http://bioconductor.org/biocLite.R\")\n",
    "biocLite(\"biomaRt\")\n",
    "# Install Homology information for Mus musculus from Inparanoid\n",
    "biocLite(\"hom.Mm.inp.db\")\n",
    "\n",
    "#####################################################\n",
    "### Get the required libararies\n",
    "#####################################################\n",
    "library(\"AnnotationDbi\")\n",
    "library(\"hom.Mm.inp.db\")\n",
    "library(\"biomaRt\")\n",
    "library (\"plyr\") \n",
    "\n",
    "\n",
    "# #########################################\n",
    "# ##To view documentation for the version of this package ###\n",
    "# ############################################################\n",
    "# browseVignettes(\"biomaRt\")\n",
    "# \n",
    "# ###################################################\n",
    "# ### code chunk number 2: biomaRt\n",
    "# ###################################################\n",
    "# library(\"biomaRt\")\n",
    "#listMarts(host = 'oct2014.archive.ensembl.org')\n",
    "# http://oct2014.archive.ensembl.org/index.html\n",
    "# \n",
    "# \n",
    "# ###################################################\n",
    "# ### code chunk number 4: listDatasets\n",
    "# ###################################################\n",
    "#ensembl=useMart(\"ensembl\")\n",
    "ensembl77 = useMart(host='dec2014.archive.ensembl.org', \n",
    "                    biomart='ENSEMBL_MART_ENSEMBL')\n",
    "#listDatasets(ensembl77)\n",
    "\n",
    "#############################################################\n",
    "### Read the file containing the gene symbols of the organism\n",
    "###############################################################\n",
    "\n",
    "mouseGenes <- read.table(file= \"R_Input_Shirasaki_etal2012.txt\", sep = \"\\t\", header = TRUE)\n",
    "\n",
    "# convert your Gene Symbols to ensemble gene id and ensembl protein id for your organism\n",
    "\n",
    "mouse = useMart(host='dec2014.archive.ensembl.org',biomart = 'ENSEMBL_MART_ENSEMBL' , dataset = \"mmusculus_gene_ensembl\") ### specify the dataset to use \n",
    "\n",
    "###################################################\n",
    "### filters for the mouse dataset\n",
    "###################################################\n",
    "filters = listFilters(mouse)\n",
    "filters[1:5,]\n",
    "#listFilters(mouse)\n",
    "\n",
    "###################################################\n",
    "### attributes for mouse dataset\n",
    "###################################################\n",
    "attributes = listAttributes(mouse)\n",
    "\n",
    "attributes[1:5,]\n",
    "#listAttributes(mouse, page=\"feature_page\")\n",
    "\n",
    "\n",
    "########################################\n",
    "## Get the attributes for mouse genes \n",
    "#######################################\n",
    "\n",
    "\n",
    "rawShirasakiENSProtIds <- getBM(c('ensembl_gene_id', 'hgnc_symbol','ensembl_peptide_id','hgnc_id','mgi_id'), filters= 'external_gene_name', values= mouseGenes$AssociatedGeneName, mart=mouse) # convert Gene Symbol to ensemble gene id and ensembl protein id for your organism\n",
    "\n",
    "length (rawShirasakiENSProtIds)\n",
    "dim (rawShirasakiENSProtIds)\n",
    "class(rawShirasakiENSProtIds)\n",
    "#rawShirasakiENSProtIds\n",
    "\n",
    "##################################################################################\n",
    "### clean your data - remove any empty strings in the column of Ensembl peptide id\n",
    "###################################################################################\n",
    "z <- rawShirasakiENSProtIds[!rawShirasakiENSProtIds$ensembl_peptide_id == \"\",] # remove rows from data frame where a row matches a string \n",
    "dim(z)\n",
    "\n",
    "#########################################\n",
    "# remove duplicate values from the ensembl protein id column\n",
    "#######################################\n",
    "ShirasakiENSProtIds <- z[!duplicated(z[,3]),]\n",
    "#ShirasakiENSProtIds\n",
    "dim(ShirasakiENSProtIds)\n",
    "\n",
    "\n",
    "##############################################\n",
    "# Using the Inparanoid function to find human orthologs in form of human ensembl protein IDs#\n",
    "##################################################\n",
    "\n",
    "rawHumanProtIds <- mget(unlist(ShirasakiENSProtIds$ensembl_peptide_id) ,hom.Mm.inpHOMSA,ifnotfound=NA)\n",
    "\n",
    "#rawHumanProtIds\n",
    "class(rawHumanProtIds)\n",
    "HumanProtIds <- rawHumanProtIds[!is.na(rawHumanProtIds)] ## remove all the NA values from the list\n",
    "#HumanProtIds\n",
    "length(HumanProtIds)\n",
    "\n",
    "##########################################################################\n",
    "## Find the ensembl gene id annd hgnc symbols for your human ensembl peptide id \n",
    "## using the getBM function and the human ensembl dataset\n",
    "#######################################################################\n",
    "\n",
    "human = useMart(host='dec2014.archive.ensembl.org',biomart = 'ENSEMBL_MART_ENSEMBL' , dataset = \"hsapiens_gene_ensembl\")\n",
    "#listAttributes(human, page=\"feature_page\")\n",
    "\n",
    "Humanorthologs <- getBM(c('ensembl_gene_id', 'hgnc_symbol', 'ensembl_peptide_id', 'entrezgene','uniprot_swissprot'), filters='ensembl_peptide_id', values=HumanProtIds, mart=human) # convert Gene Symbol to ensemble gene id and ensembl protein id for your organism\n",
    "Humanorthologs\n",
    "dim(Humanorthologs)\n",
    "\n",
    "# run the line below if you need output as a text file.\n",
    "# write.table(Humanorthologs, file=\"ShirasakiHumanOrthologs.txt\", sep=\"\\t\", col.names = NA) ### export file in text format to the folder.\n",
    "\n",
    "\n",
    "##############################################################################################\n",
    "##########END ################################################################################\n",
    "#############################################################################################\n",
    "\n",
    "sessionInfo()\n"
   ]
  },
  {
   "cell_type": "code",
   "execution_count": null,
   "metadata": {
    "collapsed": true
   },
   "outputs": [],
   "source": []
  }
 ],
 "metadata": {
  "kernelspec": {
   "display_name": "R",
   "language": "R",
   "name": "ir"
  },
  "language_info": {
   "codemirror_mode": "r",
   "file_extension": ".r",
   "mimetype": "text/x-r-source",
   "name": "R",
   "pygments_lexer": "r",
   "version": "3.3.1"
  }
 },
 "nbformat": 4,
 "nbformat_minor": 2
}
