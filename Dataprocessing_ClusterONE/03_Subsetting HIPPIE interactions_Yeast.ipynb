{
 "cells": [
  {
   "cell_type": "markdown",
   "metadata": {},
   "source": [
    "### Subsetting HIPPIE interactions with human orthologs of yeast genetic interactors of Htt protein\n",
    "#### Mason et al_2013"
   ]
  },
  {
   "cell_type": "code",
   "execution_count": 1,
   "metadata": {
    "collapsed": false
   },
   "outputs": [
    {
     "data": {
      "text/html": [
       "<table>\n",
       "<thead><tr><th scope=col>ID.Interactor.A</th><th scope=col>ID.Interactor.B</th><th scope=col>Alt.IDs.Interactor.A</th><th scope=col>Alt.IDs.Interactor.B</th></tr></thead>\n",
       "<tbody>\n",
       "\t<tr><td>  216      </td><td> 216       </td><td>AL1A1_HUMAN</td><td>AL1A1_HUMAN</td></tr>\n",
       "\t<tr><td> 3679      </td><td>1134       </td><td>ITA7_HUMAN </td><td>ACHA_HUMAN </td></tr>\n",
       "\t<tr><td>55607      </td><td>  71       </td><td>NEB1_HUMAN </td><td>ACTG_HUMAN </td></tr>\n",
       "\t<tr><td> 5552      </td><td> 960       </td><td>SRGN_HUMAN </td><td>CD44_HUMAN </td></tr>\n",
       "\t<tr><td> 2886      </td><td>2064       </td><td>GRB7_HUMAN </td><td>ERBB2_HUMAN</td></tr>\n",
       "\t<tr><td> 5058      </td><td>2064       </td><td>PAK1_HUMAN </td><td>ERBB2_HUMAN</td></tr>\n",
       "\t<tr><td> 1742      </td><td>2064       </td><td>DLG4_HUMAN </td><td>ERBB2_HUMAN</td></tr>\n",
       "\t<tr><td> 5296      </td><td>2064       </td><td>P85B_HUMAN </td><td>ERBB2_HUMAN</td></tr>\n",
       "\t<tr><td>26469      </td><td>2064       </td><td>PTN18_HUMAN</td><td>ERBB2_HUMAN</td></tr>\n",
       "\t<tr><td>55914      </td><td>2064       </td><td>LAP2_HUMAN </td><td>ERBB2_HUMAN</td></tr>\n",
       "</tbody>\n",
       "</table>\n"
      ],
      "text/latex": [
       "\\begin{tabular}{r|llll}\n",
       " ID.Interactor.A & ID.Interactor.B & Alt.IDs.Interactor.A & Alt.IDs.Interactor.B\\\\\n",
       "\\hline\n",
       "\t   216         &  216          & AL1A1\\_HUMAN & AL1A1\\_HUMAN\\\\\n",
       "\t  3679         & 1134          & ITA7\\_HUMAN  & ACHA\\_HUMAN \\\\\n",
       "\t 55607         &   71          & NEB1\\_HUMAN  & ACTG\\_HUMAN \\\\\n",
       "\t  5552         &  960          & SRGN\\_HUMAN  & CD44\\_HUMAN \\\\\n",
       "\t  2886         & 2064          & GRB7\\_HUMAN  & ERBB2\\_HUMAN\\\\\n",
       "\t  5058         & 2064          & PAK1\\_HUMAN  & ERBB2\\_HUMAN\\\\\n",
       "\t  1742         & 2064          & DLG4\\_HUMAN  & ERBB2\\_HUMAN\\\\\n",
       "\t  5296         & 2064          & P85B\\_HUMAN  & ERBB2\\_HUMAN\\\\\n",
       "\t 26469         & 2064          & PTN18\\_HUMAN & ERBB2\\_HUMAN\\\\\n",
       "\t 55914         & 2064          & LAP2\\_HUMAN  & ERBB2\\_HUMAN\\\\\n",
       "\\end{tabular}\n"
      ],
      "text/markdown": [
       "\n",
       "ID.Interactor.A | ID.Interactor.B | Alt.IDs.Interactor.A | Alt.IDs.Interactor.B | \n",
       "|---|---|---|---|---|---|---|---|---|---|\n",
       "|   216       |  216        | AL1A1_HUMAN | AL1A1_HUMAN | \n",
       "|  3679       | 1134        | ITA7_HUMAN  | ACHA_HUMAN  | \n",
       "| 55607       |   71        | NEB1_HUMAN  | ACTG_HUMAN  | \n",
       "|  5552       |  960        | SRGN_HUMAN  | CD44_HUMAN  | \n",
       "|  2886       | 2064        | GRB7_HUMAN  | ERBB2_HUMAN | \n",
       "|  5058       | 2064        | PAK1_HUMAN  | ERBB2_HUMAN | \n",
       "|  1742       | 2064        | DLG4_HUMAN  | ERBB2_HUMAN | \n",
       "|  5296       | 2064        | P85B_HUMAN  | ERBB2_HUMAN | \n",
       "| 26469       | 2064        | PTN18_HUMAN | ERBB2_HUMAN | \n",
       "| 55914       | 2064        | LAP2_HUMAN  | ERBB2_HUMAN | \n",
       "\n",
       "\n"
      ],
      "text/plain": [
       "   ID.Interactor.A ID.Interactor.B Alt.IDs.Interactor.A Alt.IDs.Interactor.B\n",
       "1    216            216            AL1A1_HUMAN          AL1A1_HUMAN         \n",
       "2   3679           1134            ITA7_HUMAN           ACHA_HUMAN          \n",
       "3  55607             71            NEB1_HUMAN           ACTG_HUMAN          \n",
       "4   5552            960            SRGN_HUMAN           CD44_HUMAN          \n",
       "5   2886           2064            GRB7_HUMAN           ERBB2_HUMAN         \n",
       "6   5058           2064            PAK1_HUMAN           ERBB2_HUMAN         \n",
       "7   1742           2064            DLG4_HUMAN           ERBB2_HUMAN         \n",
       "8   5296           2064            P85B_HUMAN           ERBB2_HUMAN         \n",
       "9  26469           2064            PTN18_HUMAN          ERBB2_HUMAN         \n",
       "10 55914           2064            LAP2_HUMAN           ERBB2_HUMAN         "
      ]
     },
     "metadata": {},
     "output_type": "display_data"
    },
    {
     "data": {
      "text/html": [
       "<ol class=list-inline>\n",
       "\t<li>161735</li>\n",
       "\t<li>20</li>\n",
       "</ol>\n"
      ],
      "text/latex": [
       "\\begin{enumerate*}\n",
       "\\item 161735\n",
       "\\item 20\n",
       "\\end{enumerate*}\n"
      ],
      "text/markdown": [
       "1. 161735\n",
       "2. 20\n",
       "\n",
       "\n"
      ],
      "text/plain": [
       "[1] 161735     20"
      ]
     },
     "metadata": {},
     "output_type": "display_data"
    },
    {
     "data": {
      "text/html": [
       "<ol class=list-inline>\n",
       "\t<li>62</li>\n",
       "\t<li>5</li>\n",
       "</ol>\n"
      ],
      "text/latex": [
       "\\begin{enumerate*}\n",
       "\\item 62\n",
       "\\item 5\n",
       "\\end{enumerate*}\n"
      ],
      "text/markdown": [
       "1. 62\n",
       "2. 5\n",
       "\n",
       "\n"
      ],
      "text/plain": [
       "[1] 62  5"
      ]
     },
     "metadata": {},
     "output_type": "display_data"
    },
    {
     "data": {
      "text/html": [
       "<ol class=list-inline>\n",
       "\t<li>2047</li>\n",
       "\t<li>20</li>\n",
       "</ol>\n"
      ],
      "text/latex": [
       "\\begin{enumerate*}\n",
       "\\item 2047\n",
       "\\item 20\n",
       "\\end{enumerate*}\n"
      ],
      "text/markdown": [
       "1. 2047\n",
       "2. 20\n",
       "\n",
       "\n"
      ],
      "text/plain": [
       "[1] 2047   20"
      ]
     },
     "metadata": {},
     "output_type": "display_data"
    },
    {
     "data": {
      "text/html": [
       "<table>\n",
       "<thead><tr><th></th><th scope=col>ID.Interactor.A</th><th scope=col>ID.Interactor.B</th><th scope=col>Alt.IDs.Interactor.A</th><th scope=col>Alt.IDs.Interactor.B</th></tr></thead>\n",
       "<tbody>\n",
       "\t<tr><th scope=row>893</th><td>  6517     </td><td> 3418      </td><td>GTR4_HUMAN </td><td>IDHP_HUMAN </td></tr>\n",
       "\t<tr><th scope=row>2236</th><td> 56915     </td><td> 5315      </td><td>EXOS5_HUMAN</td><td>KPYM_HUMAN </td></tr>\n",
       "\t<tr><th scope=row>2469</th><td> 11144     </td><td> 5888      </td><td>DMC1_HUMAN </td><td>RAD51_HUMAN</td></tr>\n",
       "\t<tr><th scope=row>2757</th><td> 51194     </td><td> 6136      </td><td>IPO11_HUMAN</td><td>RL12_HUMAN </td></tr>\n",
       "\t<tr><th scope=row>3399</th><td> 56897     </td><td> 5425      </td><td>WRIP1_HUMAN</td><td>DPOD2_HUMAN</td></tr>\n",
       "\t<tr><th scope=row>3404</th><td> 56897     </td><td> 5424      </td><td>WRIP1_HUMAN</td><td>DPOD1_HUMAN</td></tr>\n",
       "\t<tr><th scope=row>3405</th><td> 56897     </td><td>57804      </td><td>WRIP1_HUMAN</td><td>DPOD4_HUMAN</td></tr>\n",
       "\t<tr><th scope=row>4484</th><td>112858     </td><td> 7157      </td><td>PRPK_HUMAN </td><td>P53_HUMAN  </td></tr>\n",
       "\t<tr><th scope=row>4985</th><td>   475     </td><td>  538      </td><td>ATOX1_HUMAN</td><td>ATP7A_HUMAN</td></tr>\n",
       "\t<tr><th scope=row>5105</th><td>  6654     </td><td>  529      </td><td>SOS1_HUMAN </td><td>VATE1_HUMAN</td></tr>\n",
       "</tbody>\n",
       "</table>\n"
      ],
      "text/latex": [
       "\\begin{tabular}{r|llll}\n",
       "  & ID.Interactor.A & ID.Interactor.B & Alt.IDs.Interactor.A & Alt.IDs.Interactor.B\\\\\n",
       "\\hline\n",
       "\t893 &   6517        &  3418         & GTR4\\_HUMAN  & IDHP\\_HUMAN \\\\\n",
       "\t2236 &  56915        &  5315         & EXOS5\\_HUMAN & KPYM\\_HUMAN \\\\\n",
       "\t2469 &  11144        &  5888         & DMC1\\_HUMAN  & RAD51\\_HUMAN\\\\\n",
       "\t2757 &  51194        &  6136         & IPO11\\_HUMAN & RL12\\_HUMAN \\\\\n",
       "\t3399 &  56897        &  5425         & WRIP1\\_HUMAN & DPOD2\\_HUMAN\\\\\n",
       "\t3404 &  56897        &  5424         & WRIP1\\_HUMAN & DPOD1\\_HUMAN\\\\\n",
       "\t3405 &  56897        & 57804         & WRIP1\\_HUMAN & DPOD4\\_HUMAN\\\\\n",
       "\t4484 & 112858        &  7157         & PRPK\\_HUMAN  & P53\\_HUMAN  \\\\\n",
       "\t4985 &    475        &   538         & ATOX1\\_HUMAN & ATP7A\\_HUMAN\\\\\n",
       "\t5105 &   6654        &   529         & SOS1\\_HUMAN  & VATE1\\_HUMAN\\\\\n",
       "\\end{tabular}\n"
      ],
      "text/markdown": [
       "\n",
       "| <!--/--> | ID.Interactor.A | ID.Interactor.B | Alt.IDs.Interactor.A | Alt.IDs.Interactor.B | \n",
       "|---|---|---|---|---|---|---|---|---|---|\n",
       "| 893 |   6517      |  3418       | GTR4_HUMAN  | IDHP_HUMAN  | \n",
       "| 2236 |  56915      |  5315       | EXOS5_HUMAN | KPYM_HUMAN  | \n",
       "| 2469 |  11144      |  5888       | DMC1_HUMAN  | RAD51_HUMAN | \n",
       "| 2757 |  51194      |  6136       | IPO11_HUMAN | RL12_HUMAN  | \n",
       "| 3399 |  56897      |  5425       | WRIP1_HUMAN | DPOD2_HUMAN | \n",
       "| 3404 |  56897      |  5424       | WRIP1_HUMAN | DPOD1_HUMAN | \n",
       "| 3405 |  56897      | 57804       | WRIP1_HUMAN | DPOD4_HUMAN | \n",
       "| 4484 | 112858      |  7157       | PRPK_HUMAN  | P53_HUMAN   | \n",
       "| 4985 |    475      |   538       | ATOX1_HUMAN | ATP7A_HUMAN | \n",
       "| 5105 |   6654      |   529       | SOS1_HUMAN  | VATE1_HUMAN | \n",
       "\n",
       "\n"
      ],
      "text/plain": [
       "     ID.Interactor.A ID.Interactor.B Alt.IDs.Interactor.A Alt.IDs.Interactor.B\n",
       "893    6517           3418           GTR4_HUMAN           IDHP_HUMAN          \n",
       "2236  56915           5315           EXOS5_HUMAN          KPYM_HUMAN          \n",
       "2469  11144           5888           DMC1_HUMAN           RAD51_HUMAN         \n",
       "2757  51194           6136           IPO11_HUMAN          RL12_HUMAN          \n",
       "3399  56897           5425           WRIP1_HUMAN          DPOD2_HUMAN         \n",
       "3404  56897           5424           WRIP1_HUMAN          DPOD1_HUMAN         \n",
       "3405  56897          57804           WRIP1_HUMAN          DPOD4_HUMAN         \n",
       "4484 112858           7157           PRPK_HUMAN           P53_HUMAN           \n",
       "4985    475            538           ATOX1_HUMAN          ATP7A_HUMAN         \n",
       "5105   6654            529           SOS1_HUMAN           VATE1_HUMAN         "
      ]
     },
     "metadata": {},
     "output_type": "display_data"
    },
    {
     "data": {
      "text/plain": [
       "R version 3.3.1 (2016-06-21)\n",
       "Platform: x86_64-w64-mingw32/x64 (64-bit)\n",
       "Running under: Windows 10 x64 (build 14393)\n",
       "\n",
       "locale:\n",
       "[1] LC_COLLATE=English_United States.1252 \n",
       "[2] LC_CTYPE=English_United States.1252   \n",
       "[3] LC_MONETARY=English_United States.1252\n",
       "[4] LC_NUMERIC=C                          \n",
       "[5] LC_TIME=English_United States.1252    \n",
       "\n",
       "attached base packages:\n",
       "[1] stats     graphics  grDevices utils     datasets  methods   base     \n",
       "\n",
       "loaded via a namespace (and not attached):\n",
       " [1] R6_2.2.0            magrittr_1.5        IRdisplay_0.4.4    \n",
       " [4] pbdZMQ_0.2-5        tools_3.3.1         crayon_1.3.2       \n",
       " [7] uuid_0.1-2          stringi_1.1.5       IRkernel_0.8.6.9000\n",
       "[10] jsonlite_1.4        stringr_1.2.0       digest_0.6.12      \n",
       "[13] repr_0.12.0         evaluate_0.10      "
      ]
     },
     "metadata": {},
     "output_type": "display_data"
    }
   ],
   "source": [
    "##################################################################\n",
    "## Hippie Dataset subset with Mason2013 - Human orthologs ###\n",
    "##################################################################\n",
    "\n",
    "####################################################################################\n",
    "### If you have query data (df2) and want to match it with entries \n",
    "## in both columns of your original data frame (foreg. df1$A and df2$B\n",
    "##############################################################################\n",
    "path <- \"C:/Users/Sonali/Box Sync/Huntington Interactome/MutantHTT_Interactors/Yeast/MutantHttSuppressors_green\"\n",
    "setwd(path)\n",
    "\n",
    "####################################################################################\n",
    "### Read the Hippie dataset ###\n",
    "### example: df1 <- data.frame(A=sample(1:10, 10), B=sample(1:10, 10)) ## sample data frame 1\n",
    "####################################################################################\n",
    "df1 <- read.delim(file= \"HIPPIE_lastupdated090514_cleaned.txt\", header = TRUE, sep= \"\\t\") ## Hippie Data set\n",
    "df1[1:10,1:4] ## the first 10 rows and 4 columns of your dataframe.\n",
    "# df1$ID.Interactor.A\n",
    "\n",
    "\n",
    "####################################################################################\n",
    "### Read the dataframe which contains the Entrez Gene IDs of the human orthologs\n",
    "### example:  df2 <- data.frame(C=1:5) # sample data frame 2\n",
    "####################################################################################\n",
    "df2 <- read.delim(file= \"MasonHumanOrthologs.txt\", header = TRUE, sep= \"\\t\") ## Data frame containing entrez gene IDs\n",
    "\n",
    "dim(df1)\n",
    "dim(df2)\n",
    "\n",
    "########################################################################################\n",
    "### Intersection function - main function doing the job!\n",
    "### WILL GIVE YOU THE INTERSECTION OF THE COLUMN A WITH YOUR DATA COLUMN C FROM YOUR QUERY DATA FRAME###\n",
    "### REMEMBER THIS IS A LOGICAL VECTOR.SO YOU WILL GET A BUNCH OF TRUE AND FALSE VALUES#######\n",
    "##########################################################################################\n",
    "selectedRows <- (df1$ID.Interactor.A %in% df2$entrezgene | df1$ID.Interactor.B %in% df2$entrezgene) ## the main function that does the work!! ###\n",
    "\n",
    "###################################################################################################################\n",
    "### Now get the resultant dataframe we are looking for with corresponding columns from your huge Hippie dataset!\n",
    "##################################################################################################################\n",
    "\n",
    "dfReduced <- df1[selectedRows,] ## dataframe containing your results.\n",
    "dim(dfReduced) # dimensions of the dataframe\n",
    "dfReduced[1:10,1:4] # view the first 10 and first 4 columns of the dataframe\n",
    "\n",
    "#dfReduced ## have a look at the result.\n",
    "## class(dfReduced)\n",
    "\n",
    "# write.table(dfReduced, file=\"Mason2013_Hip_Interactns.txt\", sep=\"\\t\", col.names = NA) ### export file in text format to the folder.\n",
    "\n",
    "sessionInfo()\n",
    "\n",
    "\n"
   ]
  },
  {
   "cell_type": "markdown",
   "metadata": {},
   "source": [
    "#### Giorgini et al_2005"
   ]
  },
  {
   "cell_type": "code",
   "execution_count": 2,
   "metadata": {
    "collapsed": false
   },
   "outputs": [
    {
     "data": {
      "text/html": [
       "<table>\n",
       "<thead><tr><th scope=col>ID.Interactor.A</th><th scope=col>ID.Interactor.B</th><th scope=col>Alt.IDs.Interactor.A</th><th scope=col>Alt.IDs.Interactor.B</th></tr></thead>\n",
       "<tbody>\n",
       "\t<tr><td>  216      </td><td> 216       </td><td>AL1A1_HUMAN</td><td>AL1A1_HUMAN</td></tr>\n",
       "\t<tr><td> 3679      </td><td>1134       </td><td>ITA7_HUMAN </td><td>ACHA_HUMAN </td></tr>\n",
       "\t<tr><td>55607      </td><td>  71       </td><td>NEB1_HUMAN </td><td>ACTG_HUMAN </td></tr>\n",
       "\t<tr><td> 5552      </td><td> 960       </td><td>SRGN_HUMAN </td><td>CD44_HUMAN </td></tr>\n",
       "\t<tr><td> 2886      </td><td>2064       </td><td>GRB7_HUMAN </td><td>ERBB2_HUMAN</td></tr>\n",
       "\t<tr><td> 5058      </td><td>2064       </td><td>PAK1_HUMAN </td><td>ERBB2_HUMAN</td></tr>\n",
       "\t<tr><td> 1742      </td><td>2064       </td><td>DLG4_HUMAN </td><td>ERBB2_HUMAN</td></tr>\n",
       "\t<tr><td> 5296      </td><td>2064       </td><td>P85B_HUMAN </td><td>ERBB2_HUMAN</td></tr>\n",
       "\t<tr><td>26469      </td><td>2064       </td><td>PTN18_HUMAN</td><td>ERBB2_HUMAN</td></tr>\n",
       "\t<tr><td>55914      </td><td>2064       </td><td>LAP2_HUMAN </td><td>ERBB2_HUMAN</td></tr>\n",
       "</tbody>\n",
       "</table>\n"
      ],
      "text/latex": [
       "\\begin{tabular}{r|llll}\n",
       " ID.Interactor.A & ID.Interactor.B & Alt.IDs.Interactor.A & Alt.IDs.Interactor.B\\\\\n",
       "\\hline\n",
       "\t   216         &  216          & AL1A1\\_HUMAN & AL1A1\\_HUMAN\\\\\n",
       "\t  3679         & 1134          & ITA7\\_HUMAN  & ACHA\\_HUMAN \\\\\n",
       "\t 55607         &   71          & NEB1\\_HUMAN  & ACTG\\_HUMAN \\\\\n",
       "\t  5552         &  960          & SRGN\\_HUMAN  & CD44\\_HUMAN \\\\\n",
       "\t  2886         & 2064          & GRB7\\_HUMAN  & ERBB2\\_HUMAN\\\\\n",
       "\t  5058         & 2064          & PAK1\\_HUMAN  & ERBB2\\_HUMAN\\\\\n",
       "\t  1742         & 2064          & DLG4\\_HUMAN  & ERBB2\\_HUMAN\\\\\n",
       "\t  5296         & 2064          & P85B\\_HUMAN  & ERBB2\\_HUMAN\\\\\n",
       "\t 26469         & 2064          & PTN18\\_HUMAN & ERBB2\\_HUMAN\\\\\n",
       "\t 55914         & 2064          & LAP2\\_HUMAN  & ERBB2\\_HUMAN\\\\\n",
       "\\end{tabular}\n"
      ],
      "text/markdown": [
       "\n",
       "ID.Interactor.A | ID.Interactor.B | Alt.IDs.Interactor.A | Alt.IDs.Interactor.B | \n",
       "|---|---|---|---|---|---|---|---|---|---|\n",
       "|   216       |  216        | AL1A1_HUMAN | AL1A1_HUMAN | \n",
       "|  3679       | 1134        | ITA7_HUMAN  | ACHA_HUMAN  | \n",
       "| 55607       |   71        | NEB1_HUMAN  | ACTG_HUMAN  | \n",
       "|  5552       |  960        | SRGN_HUMAN  | CD44_HUMAN  | \n",
       "|  2886       | 2064        | GRB7_HUMAN  | ERBB2_HUMAN | \n",
       "|  5058       | 2064        | PAK1_HUMAN  | ERBB2_HUMAN | \n",
       "|  1742       | 2064        | DLG4_HUMAN  | ERBB2_HUMAN | \n",
       "|  5296       | 2064        | P85B_HUMAN  | ERBB2_HUMAN | \n",
       "| 26469       | 2064        | PTN18_HUMAN | ERBB2_HUMAN | \n",
       "| 55914       | 2064        | LAP2_HUMAN  | ERBB2_HUMAN | \n",
       "\n",
       "\n"
      ],
      "text/plain": [
       "   ID.Interactor.A ID.Interactor.B Alt.IDs.Interactor.A Alt.IDs.Interactor.B\n",
       "1    216            216            AL1A1_HUMAN          AL1A1_HUMAN         \n",
       "2   3679           1134            ITA7_HUMAN           ACHA_HUMAN          \n",
       "3  55607             71            NEB1_HUMAN           ACTG_HUMAN          \n",
       "4   5552            960            SRGN_HUMAN           CD44_HUMAN          \n",
       "5   2886           2064            GRB7_HUMAN           ERBB2_HUMAN         \n",
       "6   5058           2064            PAK1_HUMAN           ERBB2_HUMAN         \n",
       "7   1742           2064            DLG4_HUMAN           ERBB2_HUMAN         \n",
       "8   5296           2064            P85B_HUMAN           ERBB2_HUMAN         \n",
       "9  26469           2064            PTN18_HUMAN          ERBB2_HUMAN         \n",
       "10 55914           2064            LAP2_HUMAN           ERBB2_HUMAN         "
      ]
     },
     "metadata": {},
     "output_type": "display_data"
    },
    {
     "data": {
      "text/html": [
       "<ol class=list-inline>\n",
       "\t<li>161735</li>\n",
       "\t<li>20</li>\n",
       "</ol>\n"
      ],
      "text/latex": [
       "\\begin{enumerate*}\n",
       "\\item 161735\n",
       "\\item 20\n",
       "\\end{enumerate*}\n"
      ],
      "text/markdown": [
       "1. 161735\n",
       "2. 20\n",
       "\n",
       "\n"
      ],
      "text/plain": [
       "[1] 161735     20"
      ]
     },
     "metadata": {},
     "output_type": "display_data"
    },
    {
     "data": {
      "text/html": [
       "<ol class=list-inline>\n",
       "\t<li>5</li>\n",
       "\t<li>5</li>\n",
       "</ol>\n"
      ],
      "text/latex": [
       "\\begin{enumerate*}\n",
       "\\item 5\n",
       "\\item 5\n",
       "\\end{enumerate*}\n"
      ],
      "text/markdown": [
       "1. 5\n",
       "2. 5\n",
       "\n",
       "\n"
      ],
      "text/plain": [
       "[1] 5 5"
      ]
     },
     "metadata": {},
     "output_type": "display_data"
    },
    {
     "data": {
      "text/html": [
       "<ol class=list-inline>\n",
       "\t<li>80</li>\n",
       "\t<li>20</li>\n",
       "</ol>\n"
      ],
      "text/latex": [
       "\\begin{enumerate*}\n",
       "\\item 80\n",
       "\\item 20\n",
       "\\end{enumerate*}\n"
      ],
      "text/markdown": [
       "1. 80\n",
       "2. 20\n",
       "\n",
       "\n"
      ],
      "text/plain": [
       "[1] 80 20"
      ]
     },
     "metadata": {},
     "output_type": "display_data"
    },
    {
     "data": {
      "text/html": [
       "<table>\n",
       "<thead><tr><th></th><th scope=col>ID.Interactor.A</th><th scope=col>ID.Interactor.B</th><th scope=col>Alt.IDs.Interactor.A</th><th scope=col>Alt.IDs.Interactor.B</th></tr></thead>\n",
       "<tbody>\n",
       "\t<tr><th scope=row>502</th><td> 1822      </td><td>64599      </td><td>ATN1_HUMAN </td><td>PERQ1_HUMAN</td></tr>\n",
       "\t<tr><th scope=row>1901</th><td> 5578      </td><td> 8721      </td><td>KPCA_HUMAN </td><td>EDF1_HUMAN </td></tr>\n",
       "\t<tr><th scope=row>2668</th><td> 8721      </td><td> 6256      </td><td>EDF1_HUMAN </td><td>RXRA_HUMAN </td></tr>\n",
       "\t<tr><th scope=row>3108</th><td> 8721      </td><td> 2516      </td><td>EDF1_HUMAN </td><td>STF1_HUMAN </td></tr>\n",
       "\t<tr><th scope=row>5780</th><td> 8721      </td><td> 6872      </td><td>EDF1_HUMAN </td><td>TAF1_HUMAN </td></tr>\n",
       "\t<tr><th scope=row>6096</th><td> 8721      </td><td> 6908      </td><td>EDF1_HUMAN </td><td>TBP_HUMAN  </td></tr>\n",
       "\t<tr><th scope=row>8958</th><td> 8721      </td><td> 5468      </td><td>EDF1_HUMAN </td><td>PPARG_HUMAN</td></tr>\n",
       "\t<tr><th scope=row>9003</th><td>64599      </td><td> 2887      </td><td>PERQ1_HUMAN</td><td>GRB10_HUMAN</td></tr>\n",
       "\t<tr><th scope=row>10923</th><td> 8721      </td><td>  801      </td><td>EDF1_HUMAN </td><td>CALM_HUMAN </td></tr>\n",
       "\t<tr><th scope=row>13969</th><td> 2494      </td><td> 8721      </td><td>NR5A2_HUMAN</td><td>EDF1_HUMAN </td></tr>\n",
       "</tbody>\n",
       "</table>\n"
      ],
      "text/latex": [
       "\\begin{tabular}{r|llll}\n",
       "  & ID.Interactor.A & ID.Interactor.B & Alt.IDs.Interactor.A & Alt.IDs.Interactor.B\\\\\n",
       "\\hline\n",
       "\t502 &  1822         & 64599         & ATN1\\_HUMAN  & PERQ1\\_HUMAN\\\\\n",
       "\t1901 &  5578         &  8721         & KPCA\\_HUMAN  & EDF1\\_HUMAN \\\\\n",
       "\t2668 &  8721         &  6256         & EDF1\\_HUMAN  & RXRA\\_HUMAN \\\\\n",
       "\t3108 &  8721         &  2516         & EDF1\\_HUMAN  & STF1\\_HUMAN \\\\\n",
       "\t5780 &  8721         &  6872         & EDF1\\_HUMAN  & TAF1\\_HUMAN \\\\\n",
       "\t6096 &  8721         &  6908         & EDF1\\_HUMAN  & TBP\\_HUMAN  \\\\\n",
       "\t8958 &  8721         &  5468         & EDF1\\_HUMAN  & PPARG\\_HUMAN\\\\\n",
       "\t9003 & 64599         &  2887         & PERQ1\\_HUMAN & GRB10\\_HUMAN\\\\\n",
       "\t10923 &  8721         &   801         & EDF1\\_HUMAN  & CALM\\_HUMAN \\\\\n",
       "\t13969 &  2494         &  8721         & NR5A2\\_HUMAN & EDF1\\_HUMAN \\\\\n",
       "\\end{tabular}\n"
      ],
      "text/markdown": [
       "\n",
       "| <!--/--> | ID.Interactor.A | ID.Interactor.B | Alt.IDs.Interactor.A | Alt.IDs.Interactor.B | \n",
       "|---|---|---|---|---|---|---|---|---|---|\n",
       "| 502 |  1822       | 64599       | ATN1_HUMAN  | PERQ1_HUMAN | \n",
       "| 1901 |  5578       |  8721       | KPCA_HUMAN  | EDF1_HUMAN  | \n",
       "| 2668 |  8721       |  6256       | EDF1_HUMAN  | RXRA_HUMAN  | \n",
       "| 3108 |  8721       |  2516       | EDF1_HUMAN  | STF1_HUMAN  | \n",
       "| 5780 |  8721       |  6872       | EDF1_HUMAN  | TAF1_HUMAN  | \n",
       "| 6096 |  8721       |  6908       | EDF1_HUMAN  | TBP_HUMAN   | \n",
       "| 8958 |  8721       |  5468       | EDF1_HUMAN  | PPARG_HUMAN | \n",
       "| 9003 | 64599       |  2887       | PERQ1_HUMAN | GRB10_HUMAN | \n",
       "| 10923 |  8721       |   801       | EDF1_HUMAN  | CALM_HUMAN  | \n",
       "| 13969 |  2494       |  8721       | NR5A2_HUMAN | EDF1_HUMAN  | \n",
       "\n",
       "\n"
      ],
      "text/plain": [
       "      ID.Interactor.A ID.Interactor.B Alt.IDs.Interactor.A Alt.IDs.Interactor.B\n",
       "502    1822           64599           ATN1_HUMAN           PERQ1_HUMAN         \n",
       "1901   5578            8721           KPCA_HUMAN           EDF1_HUMAN          \n",
       "2668   8721            6256           EDF1_HUMAN           RXRA_HUMAN          \n",
       "3108   8721            2516           EDF1_HUMAN           STF1_HUMAN          \n",
       "5780   8721            6872           EDF1_HUMAN           TAF1_HUMAN          \n",
       "6096   8721            6908           EDF1_HUMAN           TBP_HUMAN           \n",
       "8958   8721            5468           EDF1_HUMAN           PPARG_HUMAN         \n",
       "9003  64599            2887           PERQ1_HUMAN          GRB10_HUMAN         \n",
       "10923  8721             801           EDF1_HUMAN           CALM_HUMAN          \n",
       "13969  2494            8721           NR5A2_HUMAN          EDF1_HUMAN          "
      ]
     },
     "metadata": {},
     "output_type": "display_data"
    },
    {
     "data": {
      "text/plain": [
       "R version 3.3.1 (2016-06-21)\n",
       "Platform: x86_64-w64-mingw32/x64 (64-bit)\n",
       "Running under: Windows 10 x64 (build 14393)\n",
       "\n",
       "locale:\n",
       "[1] LC_COLLATE=English_United States.1252 \n",
       "[2] LC_CTYPE=English_United States.1252   \n",
       "[3] LC_MONETARY=English_United States.1252\n",
       "[4] LC_NUMERIC=C                          \n",
       "[5] LC_TIME=English_United States.1252    \n",
       "\n",
       "attached base packages:\n",
       "[1] stats     graphics  grDevices utils     datasets  methods   base     \n",
       "\n",
       "loaded via a namespace (and not attached):\n",
       " [1] R6_2.2.0            magrittr_1.5        IRdisplay_0.4.4    \n",
       " [4] pbdZMQ_0.2-5        tools_3.3.1         crayon_1.3.2       \n",
       " [7] uuid_0.1-2          stringi_1.1.5       IRkernel_0.8.6.9000\n",
       "[10] jsonlite_1.4        stringr_1.2.0       digest_0.6.12      \n",
       "[13] repr_0.12.0         evaluate_0.10      "
      ]
     },
     "metadata": {},
     "output_type": "display_data"
    }
   ],
   "source": [
    "##################################################################\n",
    "## Hippie Dataset subset with Giorgini2005 - Human orthologs ###\n",
    "##################################################################\n",
    "\n",
    "####################################################################################\n",
    "### If you have query data (df2) and want to match it with entries \n",
    "## in both columns of your original data frame (foreg. df1$A and df2$B\n",
    "##############################################################################\n",
    "path <- \"C:/Users/Sonali/Box Sync/Huntington Interactome/MutantHTT_Interactors/Yeast/MutantHttSuppressors_green\"\n",
    "setwd(path)\n",
    "\n",
    "####################################################################################\n",
    "### Read the Hippie dataset ###\n",
    "### example: df1 <- data.frame(A=sample(1:10, 10), B=sample(1:10, 10)) ## sample data frame 1\n",
    "####################################################################################\n",
    "df1 <- read.delim(file= \"HIPPIE_lastupdated090514_cleaned.txt\", header = TRUE, sep= \"\\t\") ## Hippie Data set\n",
    "df1[1:10,1:4] ## the first 10 rows and 4 columns of your dataframe.\n",
    "# df1$ID.Interactor.A\n",
    "\n",
    "\n",
    "####################################################################################\n",
    "### Read the dataframe which contains the Entrez Gene IDs of the human orthologs\n",
    "### example:  df2 <- data.frame(C=1:5) # sample data frame 2\n",
    "####################################################################################\n",
    "df2 <- read.delim(file= \"GiorginiHumanOrthologs.txt\", header = TRUE, sep= \"\\t\") ## Data frame containing entrez gene IDs\n",
    "\n",
    "dim(df1)\n",
    "dim(df2)\n",
    "\n",
    "########################################################################################\n",
    "### Intersection function - main function doing the job!\n",
    "### WILL GIVE YOU THE INTERSECTION OF THE COLUMN A WITH YOUR DATA COLUMN C FROM YOUR QUERY DATA FRAME###\n",
    "### REMEMBER THIS IS A LOGICAL VECTOR.SO YOU WILL GET A BUNCH OF TRUE AND FALSE VALUES#######\n",
    "##########################################################################################\n",
    "selectedRows <- (df1$ID.Interactor.A %in% df2$entrezgene | df1$ID.Interactor.B %in% df2$entrezgene) ## the main function that does the work!! ###\n",
    "\n",
    "###################################################################################################################\n",
    "### Now get the resultant dataframe we are looking for with corresponding columns from your huge Hippie dataset!\n",
    "##################################################################################################################\n",
    "\n",
    "dfReduced <- df1[selectedRows,] ## dataframe containing your results.\n",
    "dim(dfReduced) # dimensions of the dataframe\n",
    "dfReduced[1:10,1:4] # view the first 10 and first 4 columns of the dataframe\n",
    "\n",
    "#dfReduced ## have a look at the result.\n",
    "## class(dfReduced)\n",
    "\n",
    "#write.table(dfReduced, file=\"Giorgini2005_Hip_Interactns.txt\", sep=\"\\t\", col.names = NA) ### export file in text format to the folder.\n",
    "\n",
    "sessionInfo()\n",
    "\n",
    "\n"
   ]
  },
  {
   "cell_type": "markdown",
   "metadata": {},
   "source": [
    "#### Chatterjee et al_2013"
   ]
  },
  {
   "cell_type": "code",
   "execution_count": 3,
   "metadata": {
    "collapsed": false
   },
   "outputs": [
    {
     "data": {
      "text/html": [
       "<table>\n",
       "<thead><tr><th scope=col>ID.Interactor.A</th><th scope=col>ID.Interactor.B</th><th scope=col>Alt.IDs.Interactor.A</th><th scope=col>Alt.IDs.Interactor.B</th></tr></thead>\n",
       "<tbody>\n",
       "\t<tr><td>  216      </td><td> 216       </td><td>AL1A1_HUMAN</td><td>AL1A1_HUMAN</td></tr>\n",
       "\t<tr><td> 3679      </td><td>1134       </td><td>ITA7_HUMAN </td><td>ACHA_HUMAN </td></tr>\n",
       "\t<tr><td>55607      </td><td>  71       </td><td>NEB1_HUMAN </td><td>ACTG_HUMAN </td></tr>\n",
       "\t<tr><td> 5552      </td><td> 960       </td><td>SRGN_HUMAN </td><td>CD44_HUMAN </td></tr>\n",
       "\t<tr><td> 2886      </td><td>2064       </td><td>GRB7_HUMAN </td><td>ERBB2_HUMAN</td></tr>\n",
       "\t<tr><td> 5058      </td><td>2064       </td><td>PAK1_HUMAN </td><td>ERBB2_HUMAN</td></tr>\n",
       "\t<tr><td> 1742      </td><td>2064       </td><td>DLG4_HUMAN </td><td>ERBB2_HUMAN</td></tr>\n",
       "\t<tr><td> 5296      </td><td>2064       </td><td>P85B_HUMAN </td><td>ERBB2_HUMAN</td></tr>\n",
       "\t<tr><td>26469      </td><td>2064       </td><td>PTN18_HUMAN</td><td>ERBB2_HUMAN</td></tr>\n",
       "\t<tr><td>55914      </td><td>2064       </td><td>LAP2_HUMAN </td><td>ERBB2_HUMAN</td></tr>\n",
       "</tbody>\n",
       "</table>\n"
      ],
      "text/latex": [
       "\\begin{tabular}{r|llll}\n",
       " ID.Interactor.A & ID.Interactor.B & Alt.IDs.Interactor.A & Alt.IDs.Interactor.B\\\\\n",
       "\\hline\n",
       "\t   216         &  216          & AL1A1\\_HUMAN & AL1A1\\_HUMAN\\\\\n",
       "\t  3679         & 1134          & ITA7\\_HUMAN  & ACHA\\_HUMAN \\\\\n",
       "\t 55607         &   71          & NEB1\\_HUMAN  & ACTG\\_HUMAN \\\\\n",
       "\t  5552         &  960          & SRGN\\_HUMAN  & CD44\\_HUMAN \\\\\n",
       "\t  2886         & 2064          & GRB7\\_HUMAN  & ERBB2\\_HUMAN\\\\\n",
       "\t  5058         & 2064          & PAK1\\_HUMAN  & ERBB2\\_HUMAN\\\\\n",
       "\t  1742         & 2064          & DLG4\\_HUMAN  & ERBB2\\_HUMAN\\\\\n",
       "\t  5296         & 2064          & P85B\\_HUMAN  & ERBB2\\_HUMAN\\\\\n",
       "\t 26469         & 2064          & PTN18\\_HUMAN & ERBB2\\_HUMAN\\\\\n",
       "\t 55914         & 2064          & LAP2\\_HUMAN  & ERBB2\\_HUMAN\\\\\n",
       "\\end{tabular}\n"
      ],
      "text/markdown": [
       "\n",
       "ID.Interactor.A | ID.Interactor.B | Alt.IDs.Interactor.A | Alt.IDs.Interactor.B | \n",
       "|---|---|---|---|---|---|---|---|---|---|\n",
       "|   216       |  216        | AL1A1_HUMAN | AL1A1_HUMAN | \n",
       "|  3679       | 1134        | ITA7_HUMAN  | ACHA_HUMAN  | \n",
       "| 55607       |   71        | NEB1_HUMAN  | ACTG_HUMAN  | \n",
       "|  5552       |  960        | SRGN_HUMAN  | CD44_HUMAN  | \n",
       "|  2886       | 2064        | GRB7_HUMAN  | ERBB2_HUMAN | \n",
       "|  5058       | 2064        | PAK1_HUMAN  | ERBB2_HUMAN | \n",
       "|  1742       | 2064        | DLG4_HUMAN  | ERBB2_HUMAN | \n",
       "|  5296       | 2064        | P85B_HUMAN  | ERBB2_HUMAN | \n",
       "| 26469       | 2064        | PTN18_HUMAN | ERBB2_HUMAN | \n",
       "| 55914       | 2064        | LAP2_HUMAN  | ERBB2_HUMAN | \n",
       "\n",
       "\n"
      ],
      "text/plain": [
       "   ID.Interactor.A ID.Interactor.B Alt.IDs.Interactor.A Alt.IDs.Interactor.B\n",
       "1    216            216            AL1A1_HUMAN          AL1A1_HUMAN         \n",
       "2   3679           1134            ITA7_HUMAN           ACHA_HUMAN          \n",
       "3  55607             71            NEB1_HUMAN           ACTG_HUMAN          \n",
       "4   5552            960            SRGN_HUMAN           CD44_HUMAN          \n",
       "5   2886           2064            GRB7_HUMAN           ERBB2_HUMAN         \n",
       "6   5058           2064            PAK1_HUMAN           ERBB2_HUMAN         \n",
       "7   1742           2064            DLG4_HUMAN           ERBB2_HUMAN         \n",
       "8   5296           2064            P85B_HUMAN           ERBB2_HUMAN         \n",
       "9  26469           2064            PTN18_HUMAN          ERBB2_HUMAN         \n",
       "10 55914           2064            LAP2_HUMAN           ERBB2_HUMAN         "
      ]
     },
     "metadata": {},
     "output_type": "display_data"
    },
    {
     "data": {
      "text/html": [
       "<ol class=list-inline>\n",
       "\t<li>161735</li>\n",
       "\t<li>20</li>\n",
       "</ol>\n"
      ],
      "text/latex": [
       "\\begin{enumerate*}\n",
       "\\item 161735\n",
       "\\item 20\n",
       "\\end{enumerate*}\n"
      ],
      "text/markdown": [
       "1. 161735\n",
       "2. 20\n",
       "\n",
       "\n"
      ],
      "text/plain": [
       "[1] 161735     20"
      ]
     },
     "metadata": {},
     "output_type": "display_data"
    },
    {
     "data": {
      "text/html": [
       "<ol class=list-inline>\n",
       "\t<li>19</li>\n",
       "\t<li>5</li>\n",
       "</ol>\n"
      ],
      "text/latex": [
       "\\begin{enumerate*}\n",
       "\\item 19\n",
       "\\item 5\n",
       "\\end{enumerate*}\n"
      ],
      "text/markdown": [
       "1. 19\n",
       "2. 5\n",
       "\n",
       "\n"
      ],
      "text/plain": [
       "[1] 19  5"
      ]
     },
     "metadata": {},
     "output_type": "display_data"
    },
    {
     "data": {
      "text/html": [
       "<ol class=list-inline>\n",
       "\t<li>1980</li>\n",
       "\t<li>20</li>\n",
       "</ol>\n"
      ],
      "text/latex": [
       "\\begin{enumerate*}\n",
       "\\item 1980\n",
       "\\item 20\n",
       "\\end{enumerate*}\n"
      ],
      "text/markdown": [
       "1. 1980\n",
       "2. 20\n",
       "\n",
       "\n"
      ],
      "text/plain": [
       "[1] 1980   20"
      ]
     },
     "metadata": {},
     "output_type": "display_data"
    },
    {
     "data": {
      "text/html": [
       "<table>\n",
       "<thead><tr><th></th><th scope=col>ID.Interactor.A</th><th scope=col>ID.Interactor.B</th><th scope=col>Alt.IDs.Interactor.A</th><th scope=col>Alt.IDs.Interactor.B</th></tr></thead>\n",
       "<tbody>\n",
       "\t<tr><th scope=row>2731</th><td> 6780      </td><td>6194       </td><td>STAU1_HUMAN</td><td>RS6_HUMAN  </td></tr>\n",
       "\t<tr><th scope=row>2732</th><td> 5062      </td><td>6194       </td><td>PAK2_HUMAN </td><td>RS6_HUMAN  </td></tr>\n",
       "\t<tr><th scope=row>2733</th><td> 6198      </td><td>6194       </td><td>KS6B1_HUMAN</td><td>RS6_HUMAN  </td></tr>\n",
       "\t<tr><th scope=row>2754</th><td>  817      </td><td>6222       </td><td>KCC2D_HUMAN</td><td>RS18_HUMAN </td></tr>\n",
       "\t<tr><th scope=row>2757</th><td>51194      </td><td>6136       </td><td>IPO11_HUMAN</td><td>RL12_HUMAN </td></tr>\n",
       "\t<tr><th scope=row>2773</th><td> 6780      </td><td>6175       </td><td>STAU1_HUMAN</td><td>RLA0_HUMAN </td></tr>\n",
       "\t<tr><th scope=row>9901</th><td> 6147      </td><td>3843       </td><td>RL23A_HUMAN</td><td>IPO5_HUMAN </td></tr>\n",
       "\t<tr><th scope=row>9902</th><td> 3843      </td><td>6137       </td><td>IPO5_HUMAN </td><td>RL13_HUMAN </td></tr>\n",
       "\t<tr><th scope=row>11340</th><td> 6147      </td><td>3842       </td><td>RL23A_HUMAN</td><td>TNPO1_HUMAN</td></tr>\n",
       "\t<tr><th scope=row>12156</th><td>11033      </td><td>6203       </td><td>ADAP1_HUMAN</td><td>RS9_HUMAN  </td></tr>\n",
       "</tbody>\n",
       "</table>\n"
      ],
      "text/latex": [
       "\\begin{tabular}{r|llll}\n",
       "  & ID.Interactor.A & ID.Interactor.B & Alt.IDs.Interactor.A & Alt.IDs.Interactor.B\\\\\n",
       "\\hline\n",
       "\t2731 &  6780         & 6194          & STAU1\\_HUMAN & RS6\\_HUMAN  \\\\\n",
       "\t2732 &  5062         & 6194          & PAK2\\_HUMAN  & RS6\\_HUMAN  \\\\\n",
       "\t2733 &  6198         & 6194          & KS6B1\\_HUMAN & RS6\\_HUMAN  \\\\\n",
       "\t2754 &   817         & 6222          & KCC2D\\_HUMAN & RS18\\_HUMAN \\\\\n",
       "\t2757 & 51194         & 6136          & IPO11\\_HUMAN & RL12\\_HUMAN \\\\\n",
       "\t2773 &  6780         & 6175          & STAU1\\_HUMAN & RLA0\\_HUMAN \\\\\n",
       "\t9901 &  6147         & 3843          & RL23A\\_HUMAN & IPO5\\_HUMAN \\\\\n",
       "\t9902 &  3843         & 6137          & IPO5\\_HUMAN  & RL13\\_HUMAN \\\\\n",
       "\t11340 &  6147         & 3842          & RL23A\\_HUMAN & TNPO1\\_HUMAN\\\\\n",
       "\t12156 & 11033         & 6203          & ADAP1\\_HUMAN & RS9\\_HUMAN  \\\\\n",
       "\\end{tabular}\n"
      ],
      "text/markdown": [
       "\n",
       "| <!--/--> | ID.Interactor.A | ID.Interactor.B | Alt.IDs.Interactor.A | Alt.IDs.Interactor.B | \n",
       "|---|---|---|---|---|---|---|---|---|---|\n",
       "| 2731 |  6780       | 6194        | STAU1_HUMAN | RS6_HUMAN   | \n",
       "| 2732 |  5062       | 6194        | PAK2_HUMAN  | RS6_HUMAN   | \n",
       "| 2733 |  6198       | 6194        | KS6B1_HUMAN | RS6_HUMAN   | \n",
       "| 2754 |   817       | 6222        | KCC2D_HUMAN | RS18_HUMAN  | \n",
       "| 2757 | 51194       | 6136        | IPO11_HUMAN | RL12_HUMAN  | \n",
       "| 2773 |  6780       | 6175        | STAU1_HUMAN | RLA0_HUMAN  | \n",
       "| 9901 |  6147       | 3843        | RL23A_HUMAN | IPO5_HUMAN  | \n",
       "| 9902 |  3843       | 6137        | IPO5_HUMAN  | RL13_HUMAN  | \n",
       "| 11340 |  6147       | 3842        | RL23A_HUMAN | TNPO1_HUMAN | \n",
       "| 12156 | 11033       | 6203        | ADAP1_HUMAN | RS9_HUMAN   | \n",
       "\n",
       "\n"
      ],
      "text/plain": [
       "      ID.Interactor.A ID.Interactor.B Alt.IDs.Interactor.A Alt.IDs.Interactor.B\n",
       "2731   6780           6194            STAU1_HUMAN          RS6_HUMAN           \n",
       "2732   5062           6194            PAK2_HUMAN           RS6_HUMAN           \n",
       "2733   6198           6194            KS6B1_HUMAN          RS6_HUMAN           \n",
       "2754    817           6222            KCC2D_HUMAN          RS18_HUMAN          \n",
       "2757  51194           6136            IPO11_HUMAN          RL12_HUMAN          \n",
       "2773   6780           6175            STAU1_HUMAN          RLA0_HUMAN          \n",
       "9901   6147           3843            RL23A_HUMAN          IPO5_HUMAN          \n",
       "9902   3843           6137            IPO5_HUMAN           RL13_HUMAN          \n",
       "11340  6147           3842            RL23A_HUMAN          TNPO1_HUMAN         \n",
       "12156 11033           6203            ADAP1_HUMAN          RS9_HUMAN           "
      ]
     },
     "metadata": {},
     "output_type": "display_data"
    },
    {
     "data": {
      "text/plain": [
       "R version 3.3.1 (2016-06-21)\n",
       "Platform: x86_64-w64-mingw32/x64 (64-bit)\n",
       "Running under: Windows 10 x64 (build 14393)\n",
       "\n",
       "locale:\n",
       "[1] LC_COLLATE=English_United States.1252 \n",
       "[2] LC_CTYPE=English_United States.1252   \n",
       "[3] LC_MONETARY=English_United States.1252\n",
       "[4] LC_NUMERIC=C                          \n",
       "[5] LC_TIME=English_United States.1252    \n",
       "\n",
       "attached base packages:\n",
       "[1] stats     graphics  grDevices utils     datasets  methods   base     \n",
       "\n",
       "loaded via a namespace (and not attached):\n",
       " [1] R6_2.2.0            magrittr_1.5        IRdisplay_0.4.4    \n",
       " [4] pbdZMQ_0.2-5        tools_3.3.1         crayon_1.3.2       \n",
       " [7] uuid_0.1-2          stringi_1.1.5       IRkernel_0.8.6.9000\n",
       "[10] jsonlite_1.4        stringr_1.2.0       digest_0.6.12      \n",
       "[13] repr_0.12.0         evaluate_0.10      "
      ]
     },
     "metadata": {},
     "output_type": "display_data"
    }
   ],
   "source": [
    "##################################################################\n",
    "## Hippie Dataset subset with Chatterjee2013 - Human orthologs ###\n",
    "##################################################################\n",
    "\n",
    "####################################################################################\n",
    "### If you have query data (df2) and want to match it with entries \n",
    "## in both columns of your original data frame (foreg. df1$A and df2$B\n",
    "##############################################################################\n",
    "path <- \"C:/Users/Sonali/Box Sync/Huntington Interactome/MutantHTT_Interactors/Yeast/MutantHttSuppressors_green\"\n",
    "setwd(path)\n",
    "\n",
    "\n",
    "####################################################################################\n",
    "### Read the Hippie dataset ###\n",
    "### example: df1 <- data.frame(A=sample(1:10, 10), B=sample(1:10, 10)) ## sample data frame 1\n",
    "####################################################################################\n",
    "df1 <- read.delim(file= \"HIPPIE_lastupdated090514_cleaned.txt\", header = TRUE, sep= \"\\t\") ## Hippie Data set\n",
    "df1[1:10,1:4] ## the first 10 rows and 4 columns of your dataframe.\n",
    "# df1$ID.Interactor.A\n",
    "\n",
    "\n",
    "####################################################################################\n",
    "### Read the dataframe which contains the Entrez Gene IDs of the human orthologs\n",
    "### example:  df2 <- data.frame(C=1:5) # sample data frame 2\n",
    "####################################################################################\n",
    "df2 <- read.delim(file= \"ChatterjeeHumanOrthologs.txt\", header = TRUE, sep= \"\\t\") ## Data frame containing entrez gene IDs\n",
    "\n",
    "dim(df1)\n",
    "dim(df2)\n",
    "\n",
    "########################################################################################\n",
    "### Intersection function - main function doing the job!\n",
    "### WILL GIVE YOU THE INTERSECTION OF THE COLUMN A WITH YOUR DATA COLUMN C FROM YOUR QUERY DATA FRAME###\n",
    "### REMEMBER THIS IS A LOGICAL VECTOR.SO YOU WILL GET A BUNCH OF TRUE AND FALSE VALUES#######\n",
    "##########################################################################################\n",
    "selectedRows <- (df1$ID.Interactor.A %in% df2$entrezgene | df1$ID.Interactor.B %in% df2$entrezgene) ## the main function that does the work!! ###\n",
    "\n",
    "###################################################################################################################\n",
    "### Now get the resultant dataframe we are looking for with corresponding columns from your huge Hippie dataset!\n",
    "##################################################################################################################\n",
    "\n",
    "dfReduced <- df1[selectedRows,] ## dataframe containing your results.\n",
    "dim(dfReduced) # dimensions of the dataframe\n",
    "dfReduced[1:10,1:4] # view the first 10 and first 4 columns of the dataframe\n",
    "\n",
    "#dfReduced ## have a look at the result.\n",
    "## class(dfReduced)\n",
    "\n",
    "#write.table(dfReduced, file=\"Chatterjee2013_Hip_Interactns.txt\", sep=\"\\t\", col.names = NA) ### export file in text format to the folder.\n",
    "\n",
    "sessionInfo()\n",
    "\n",
    "\n"
   ]
  },
  {
   "cell_type": "markdown",
   "metadata": {},
   "source": [
    "#### Willingham etal_2003\n",
    "Please note the working directory change"
   ]
  },
  {
   "cell_type": "code",
   "execution_count": 4,
   "metadata": {
    "collapsed": false
   },
   "outputs": [
    {
     "data": {
      "text/html": [
       "<table>\n",
       "<thead><tr><th scope=col>ID.Interactor.A</th><th scope=col>ID.Interactor.B</th><th scope=col>Alt.IDs.Interactor.A</th><th scope=col>Alt.IDs.Interactor.B</th></tr></thead>\n",
       "<tbody>\n",
       "\t<tr><td>  216      </td><td> 216       </td><td>AL1A1_HUMAN</td><td>AL1A1_HUMAN</td></tr>\n",
       "\t<tr><td> 3679      </td><td>1134       </td><td>ITA7_HUMAN </td><td>ACHA_HUMAN </td></tr>\n",
       "\t<tr><td>55607      </td><td>  71       </td><td>NEB1_HUMAN </td><td>ACTG_HUMAN </td></tr>\n",
       "\t<tr><td> 5552      </td><td> 960       </td><td>SRGN_HUMAN </td><td>CD44_HUMAN </td></tr>\n",
       "\t<tr><td> 2886      </td><td>2064       </td><td>GRB7_HUMAN </td><td>ERBB2_HUMAN</td></tr>\n",
       "\t<tr><td> 5058      </td><td>2064       </td><td>PAK1_HUMAN </td><td>ERBB2_HUMAN</td></tr>\n",
       "\t<tr><td> 1742      </td><td>2064       </td><td>DLG4_HUMAN </td><td>ERBB2_HUMAN</td></tr>\n",
       "\t<tr><td> 5296      </td><td>2064       </td><td>P85B_HUMAN </td><td>ERBB2_HUMAN</td></tr>\n",
       "\t<tr><td>26469      </td><td>2064       </td><td>PTN18_HUMAN</td><td>ERBB2_HUMAN</td></tr>\n",
       "\t<tr><td>55914      </td><td>2064       </td><td>LAP2_HUMAN </td><td>ERBB2_HUMAN</td></tr>\n",
       "</tbody>\n",
       "</table>\n"
      ],
      "text/latex": [
       "\\begin{tabular}{r|llll}\n",
       " ID.Interactor.A & ID.Interactor.B & Alt.IDs.Interactor.A & Alt.IDs.Interactor.B\\\\\n",
       "\\hline\n",
       "\t   216         &  216          & AL1A1\\_HUMAN & AL1A1\\_HUMAN\\\\\n",
       "\t  3679         & 1134          & ITA7\\_HUMAN  & ACHA\\_HUMAN \\\\\n",
       "\t 55607         &   71          & NEB1\\_HUMAN  & ACTG\\_HUMAN \\\\\n",
       "\t  5552         &  960          & SRGN\\_HUMAN  & CD44\\_HUMAN \\\\\n",
       "\t  2886         & 2064          & GRB7\\_HUMAN  & ERBB2\\_HUMAN\\\\\n",
       "\t  5058         & 2064          & PAK1\\_HUMAN  & ERBB2\\_HUMAN\\\\\n",
       "\t  1742         & 2064          & DLG4\\_HUMAN  & ERBB2\\_HUMAN\\\\\n",
       "\t  5296         & 2064          & P85B\\_HUMAN  & ERBB2\\_HUMAN\\\\\n",
       "\t 26469         & 2064          & PTN18\\_HUMAN & ERBB2\\_HUMAN\\\\\n",
       "\t 55914         & 2064          & LAP2\\_HUMAN  & ERBB2\\_HUMAN\\\\\n",
       "\\end{tabular}\n"
      ],
      "text/markdown": [
       "\n",
       "ID.Interactor.A | ID.Interactor.B | Alt.IDs.Interactor.A | Alt.IDs.Interactor.B | \n",
       "|---|---|---|---|---|---|---|---|---|---|\n",
       "|   216       |  216        | AL1A1_HUMAN | AL1A1_HUMAN | \n",
       "|  3679       | 1134        | ITA7_HUMAN  | ACHA_HUMAN  | \n",
       "| 55607       |   71        | NEB1_HUMAN  | ACTG_HUMAN  | \n",
       "|  5552       |  960        | SRGN_HUMAN  | CD44_HUMAN  | \n",
       "|  2886       | 2064        | GRB7_HUMAN  | ERBB2_HUMAN | \n",
       "|  5058       | 2064        | PAK1_HUMAN  | ERBB2_HUMAN | \n",
       "|  1742       | 2064        | DLG4_HUMAN  | ERBB2_HUMAN | \n",
       "|  5296       | 2064        | P85B_HUMAN  | ERBB2_HUMAN | \n",
       "| 26469       | 2064        | PTN18_HUMAN | ERBB2_HUMAN | \n",
       "| 55914       | 2064        | LAP2_HUMAN  | ERBB2_HUMAN | \n",
       "\n",
       "\n"
      ],
      "text/plain": [
       "   ID.Interactor.A ID.Interactor.B Alt.IDs.Interactor.A Alt.IDs.Interactor.B\n",
       "1    216            216            AL1A1_HUMAN          AL1A1_HUMAN         \n",
       "2   3679           1134            ITA7_HUMAN           ACHA_HUMAN          \n",
       "3  55607             71            NEB1_HUMAN           ACTG_HUMAN          \n",
       "4   5552            960            SRGN_HUMAN           CD44_HUMAN          \n",
       "5   2886           2064            GRB7_HUMAN           ERBB2_HUMAN         \n",
       "6   5058           2064            PAK1_HUMAN           ERBB2_HUMAN         \n",
       "7   1742           2064            DLG4_HUMAN           ERBB2_HUMAN         \n",
       "8   5296           2064            P85B_HUMAN           ERBB2_HUMAN         \n",
       "9  26469           2064            PTN18_HUMAN          ERBB2_HUMAN         \n",
       "10 55914           2064            LAP2_HUMAN           ERBB2_HUMAN         "
      ]
     },
     "metadata": {},
     "output_type": "display_data"
    },
    {
     "data": {
      "text/html": [
       "<ol class=list-inline>\n",
       "\t<li>161735</li>\n",
       "\t<li>20</li>\n",
       "</ol>\n"
      ],
      "text/latex": [
       "\\begin{enumerate*}\n",
       "\\item 161735\n",
       "\\item 20\n",
       "\\end{enumerate*}\n"
      ],
      "text/markdown": [
       "1. 161735\n",
       "2. 20\n",
       "\n",
       "\n"
      ],
      "text/plain": [
       "[1] 161735     20"
      ]
     },
     "metadata": {},
     "output_type": "display_data"
    },
    {
     "data": {
      "text/html": [
       "<ol class=list-inline>\n",
       "\t<li>3</li>\n",
       "\t<li>5</li>\n",
       "</ol>\n"
      ],
      "text/latex": [
       "\\begin{enumerate*}\n",
       "\\item 3\n",
       "\\item 5\n",
       "\\end{enumerate*}\n"
      ],
      "text/markdown": [
       "1. 3\n",
       "2. 5\n",
       "\n",
       "\n"
      ],
      "text/plain": [
       "[1] 3 5"
      ]
     },
     "metadata": {},
     "output_type": "display_data"
    },
    {
     "data": {
      "text/html": [
       "<ol class=list-inline>\n",
       "\t<li>31</li>\n",
       "\t<li>20</li>\n",
       "</ol>\n"
      ],
      "text/latex": [
       "\\begin{enumerate*}\n",
       "\\item 31\n",
       "\\item 20\n",
       "\\end{enumerate*}\n"
      ],
      "text/markdown": [
       "1. 31\n",
       "2. 20\n",
       "\n",
       "\n"
      ],
      "text/plain": [
       "[1] 31 20"
      ]
     },
     "metadata": {},
     "output_type": "display_data"
    },
    {
     "data": {
      "text/html": [
       "<table>\n",
       "<thead><tr><th></th><th scope=col>ID.Interactor.A</th><th scope=col>ID.Interactor.B</th><th scope=col>Alt.IDs.Interactor.A</th><th scope=col>Alt.IDs.Interactor.B</th></tr></thead>\n",
       "<tbody>\n",
       "\t<tr><th scope=row>19161</th><td> 2937      </td><td> 2937      </td><td>GSHB_HUMAN </td><td>GSHB_HUMAN </td></tr>\n",
       "\t<tr><th scope=row>26002</th><td> 2954      </td><td> 2937      </td><td>MAAI_HUMAN </td><td>GSHB_HUMAN </td></tr>\n",
       "\t<tr><th scope=row>59532</th><td> 2597      </td><td> 2937      </td><td>G3P_HUMAN  </td><td>GSHB_HUMAN </td></tr>\n",
       "\t<tr><th scope=row>60616</th><td> 3661      </td><td> 2937      </td><td>IRF3_HUMAN </td><td>GSHB_HUMAN </td></tr>\n",
       "\t<tr><th scope=row>73670</th><td>27161      </td><td>11136      </td><td>AGO2_HUMAN </td><td>BAT1_HUMAN </td></tr>\n",
       "\t<tr><th scope=row>77390</th><td>11136      </td><td> 7052      </td><td>BAT1_HUMAN </td><td>TGM2_HUMAN </td></tr>\n",
       "\t<tr><th scope=row>119413</th><td> 8454      </td><td>11136      </td><td>CUL1_HUMAN </td><td>BAT1_HUMAN </td></tr>\n",
       "\t<tr><th scope=row>119781</th><td> 7013      </td><td> 2937      </td><td>TERF1_HUMAN</td><td>GSHB_HUMAN </td></tr>\n",
       "\t<tr><th scope=row>129361</th><td> 2937      </td><td> 9601      </td><td>GSHB_HUMAN </td><td>PDIA4_HUMAN</td></tr>\n",
       "\t<tr><th scope=row>129394</th><td> 2937      </td><td> 1155      </td><td>GSHB_HUMAN </td><td>TBCB_HUMAN </td></tr>\n",
       "</tbody>\n",
       "</table>\n"
      ],
      "text/latex": [
       "\\begin{tabular}{r|llll}\n",
       "  & ID.Interactor.A & ID.Interactor.B & Alt.IDs.Interactor.A & Alt.IDs.Interactor.B\\\\\n",
       "\\hline\n",
       "\t19161 &  2937         &  2937         & GSHB\\_HUMAN  & GSHB\\_HUMAN \\\\\n",
       "\t26002 &  2954         &  2937         & MAAI\\_HUMAN  & GSHB\\_HUMAN \\\\\n",
       "\t59532 &  2597         &  2937         & G3P\\_HUMAN   & GSHB\\_HUMAN \\\\\n",
       "\t60616 &  3661         &  2937         & IRF3\\_HUMAN  & GSHB\\_HUMAN \\\\\n",
       "\t73670 & 27161         & 11136         & AGO2\\_HUMAN  & BAT1\\_HUMAN \\\\\n",
       "\t77390 & 11136         &  7052         & BAT1\\_HUMAN  & TGM2\\_HUMAN \\\\\n",
       "\t119413 &  8454         & 11136         & CUL1\\_HUMAN  & BAT1\\_HUMAN \\\\\n",
       "\t119781 &  7013         &  2937         & TERF1\\_HUMAN & GSHB\\_HUMAN \\\\\n",
       "\t129361 &  2937         &  9601         & GSHB\\_HUMAN  & PDIA4\\_HUMAN\\\\\n",
       "\t129394 &  2937         &  1155         & GSHB\\_HUMAN  & TBCB\\_HUMAN \\\\\n",
       "\\end{tabular}\n"
      ],
      "text/markdown": [
       "\n",
       "| <!--/--> | ID.Interactor.A | ID.Interactor.B | Alt.IDs.Interactor.A | Alt.IDs.Interactor.B | \n",
       "|---|---|---|---|---|---|---|---|---|---|\n",
       "| 19161 |  2937       |  2937       | GSHB_HUMAN  | GSHB_HUMAN  | \n",
       "| 26002 |  2954       |  2937       | MAAI_HUMAN  | GSHB_HUMAN  | \n",
       "| 59532 |  2597       |  2937       | G3P_HUMAN   | GSHB_HUMAN  | \n",
       "| 60616 |  3661       |  2937       | IRF3_HUMAN  | GSHB_HUMAN  | \n",
       "| 73670 | 27161       | 11136       | AGO2_HUMAN  | BAT1_HUMAN  | \n",
       "| 77390 | 11136       |  7052       | BAT1_HUMAN  | TGM2_HUMAN  | \n",
       "| 119413 |  8454       | 11136       | CUL1_HUMAN  | BAT1_HUMAN  | \n",
       "| 119781 |  7013       |  2937       | TERF1_HUMAN | GSHB_HUMAN  | \n",
       "| 129361 |  2937       |  9601       | GSHB_HUMAN  | PDIA4_HUMAN | \n",
       "| 129394 |  2937       |  1155       | GSHB_HUMAN  | TBCB_HUMAN  | \n",
       "\n",
       "\n"
      ],
      "text/plain": [
       "       ID.Interactor.A ID.Interactor.B Alt.IDs.Interactor.A\n",
       "19161   2937            2937           GSHB_HUMAN          \n",
       "26002   2954            2937           MAAI_HUMAN          \n",
       "59532   2597            2937           G3P_HUMAN           \n",
       "60616   3661            2937           IRF3_HUMAN          \n",
       "73670  27161           11136           AGO2_HUMAN          \n",
       "77390  11136            7052           BAT1_HUMAN          \n",
       "119413  8454           11136           CUL1_HUMAN          \n",
       "119781  7013            2937           TERF1_HUMAN         \n",
       "129361  2937            9601           GSHB_HUMAN          \n",
       "129394  2937            1155           GSHB_HUMAN          \n",
       "       Alt.IDs.Interactor.B\n",
       "19161  GSHB_HUMAN          \n",
       "26002  GSHB_HUMAN          \n",
       "59532  GSHB_HUMAN          \n",
       "60616  GSHB_HUMAN          \n",
       "73670  BAT1_HUMAN          \n",
       "77390  TGM2_HUMAN          \n",
       "119413 BAT1_HUMAN          \n",
       "119781 GSHB_HUMAN          \n",
       "129361 PDIA4_HUMAN         \n",
       "129394 TBCB_HUMAN          "
      ]
     },
     "metadata": {},
     "output_type": "display_data"
    },
    {
     "data": {
      "text/plain": [
       "R version 3.3.1 (2016-06-21)\n",
       "Platform: x86_64-w64-mingw32/x64 (64-bit)\n",
       "Running under: Windows 10 x64 (build 14393)\n",
       "\n",
       "locale:\n",
       "[1] LC_COLLATE=English_United States.1252 \n",
       "[2] LC_CTYPE=English_United States.1252   \n",
       "[3] LC_MONETARY=English_United States.1252\n",
       "[4] LC_NUMERIC=C                          \n",
       "[5] LC_TIME=English_United States.1252    \n",
       "\n",
       "attached base packages:\n",
       "[1] stats     graphics  grDevices utils     datasets  methods   base     \n",
       "\n",
       "loaded via a namespace (and not attached):\n",
       " [1] R6_2.2.0            magrittr_1.5        IRdisplay_0.4.4    \n",
       " [4] pbdZMQ_0.2-5        tools_3.3.1         crayon_1.3.2       \n",
       " [7] uuid_0.1-2          stringi_1.1.5       IRkernel_0.8.6.9000\n",
       "[10] jsonlite_1.4        stringr_1.2.0       digest_0.6.12      \n",
       "[13] repr_0.12.0         evaluate_0.10      "
      ]
     },
     "metadata": {},
     "output_type": "display_data"
    }
   ],
   "source": [
    "##################################################################\n",
    "## Hippie Dataset subset with Chatterjee2013 - Human orthologs ###\n",
    "##################################################################\n",
    "\n",
    "####################################################################################\n",
    "### If you have query data (df2) and want to match it with entries \n",
    "## in both columns of your original data frame (foreg. df1$A and df2$B\n",
    "##############################################################################\n",
    "path <- \"C:/Users/Sonali/Box Sync/Huntington Interactome/MutantHTT_Interactors/Yeast/MutantHttEnhancers_red\"\n",
    "setwd(path)\n",
    "\n",
    "####################################################################################\n",
    "### Read the Hippie dataset ###\n",
    "### example: df1 <- data.frame(A=sample(1:10, 10), B=sample(1:10, 10)) ## sample data frame 1\n",
    "####################################################################################\n",
    "df1 <- read.delim(file= \"HIPPIE_lastupdated090514_cleaned.txt\", header = TRUE, sep= \"\\t\") ## Hippie Data set\n",
    "df1[1:10,1:4] ## the first 10 rows and 4 columns of your dataframe.\n",
    "# df1$ID.Interactor.A\n",
    "\n",
    "\n",
    "####################################################################################\n",
    "### Read the dataframe which contains the Entrez Gene IDs of the human orthologs\n",
    "### example:  df2 <- data.frame(C=1:5) # sample data frame 2\n",
    "####################################################################################\n",
    "df2 <- read.delim(file= \"WillinghamHumanOrthologs.txt\", header = TRUE, sep= \"\\t\") ## Data frame containing entrez gene IDs\n",
    "\n",
    "dim(df1)\n",
    "dim(df2)\n",
    "\n",
    "########################################################################################\n",
    "### Intersection function - main function doing the job!\n",
    "### WILL GIVE YOU THE INTERSECTION OF THE COLUMN A WITH YOUR DATA COLUMN C FROM YOUR QUERY DATA FRAME###\n",
    "### REMEMBER THIS IS A LOGICAL VECTOR.SO YOU WILL GET A BUNCH OF TRUE AND FALSE VALUES#######\n",
    "##########################################################################################\n",
    "selectedRows <- (df1$ID.Interactor.A %in% df2$entrezgene | df1$ID.Interactor.B %in% df2$entrezgene) ## the main function that does the work!! ###\n",
    "\n",
    "###################################################################################################################\n",
    "### Now get the resultant dataframe we are looking for with corresponding columns from your huge Hippie dataset!\n",
    "##################################################################################################################\n",
    "\n",
    "dfReduced <- df1[selectedRows,] ## dataframe containing your results.\n",
    "dim(dfReduced) # dimensions of the dataframe\n",
    "dfReduced[1:10,1:4] # view the first 10 and first 4 columns of the dataframe\n",
    "\n",
    "#dfReduced ## have a look at the result.\n",
    "## class(dfReduced)\n",
    "\n",
    "#write.table(dfReduced, file=\"Willingham2003_Hip_Interactns.txt\", sep=\"\\t\", col.names = NA) ### export file in text format to the folder.\n",
    "\n",
    "sessionInfo()\n",
    "\n"
   ]
  },
  {
   "cell_type": "code",
   "execution_count": null,
   "metadata": {
    "collapsed": true
   },
   "outputs": [],
   "source": []
  }
 ],
 "metadata": {
  "kernelspec": {
   "display_name": "R",
   "language": "R",
   "name": "ir"
  },
  "language_info": {
   "codemirror_mode": "r",
   "file_extension": ".r",
   "mimetype": "text/x-r-source",
   "name": "R",
   "pygments_lexer": "r",
   "version": "3.3.1"
  }
 },
 "nbformat": 4,
 "nbformat_minor": 2
}
