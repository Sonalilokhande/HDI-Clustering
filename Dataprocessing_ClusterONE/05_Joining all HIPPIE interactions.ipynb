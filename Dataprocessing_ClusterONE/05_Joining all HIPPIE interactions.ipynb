{
 "cells": [
  {
   "cell_type": "markdown",
   "metadata": {},
   "source": [
    "##### This script joins all the interactions obtained by subsetting the HIPPIE database with human orthologs of mouse and yeast physical/genetic interactor of Htt protein"
   ]
  },
  {
   "cell_type": "code",
   "execution_count": 2,
   "metadata": {
    "collapsed": false
   },
   "outputs": [
    {
     "name": "stderr",
     "output_type": "stream",
     "text": [
      "\n",
      "Attaching package: 'dplyr'\n",
      "\n",
      "The following objects are masked from 'package:stats':\n",
      "\n",
      "    filter, lag\n",
      "\n",
      "The following objects are masked from 'package:base':\n",
      "\n",
      "    intersect, setdiff, setequal, union\n",
      "\n"
     ]
    },
    {
     "data": {
      "text/html": [
       "<ol class=list-inline>\n",
       "\t<li>2047</li>\n",
       "\t<li>21</li>\n",
       "</ol>\n"
      ],
      "text/latex": [
       "\\begin{enumerate*}\n",
       "\\item 2047\n",
       "\\item 21\n",
       "\\end{enumerate*}\n"
      ],
      "text/markdown": [
       "1. 2047\n",
       "2. 21\n",
       "\n",
       "\n"
      ],
      "text/plain": [
       "[1] 2047   21"
      ]
     },
     "metadata": {},
     "output_type": "display_data"
    },
    {
     "data": {
      "text/html": [
       "<ol class=list-inline>\n",
       "\t<li>1980</li>\n",
       "\t<li>21</li>\n",
       "</ol>\n"
      ],
      "text/latex": [
       "\\begin{enumerate*}\n",
       "\\item 1980\n",
       "\\item 21\n",
       "\\end{enumerate*}\n"
      ],
      "text/markdown": [
       "1. 1980\n",
       "2. 21\n",
       "\n",
       "\n"
      ],
      "text/plain": [
       "[1] 1980   21"
      ]
     },
     "metadata": {},
     "output_type": "display_data"
    },
    {
     "data": {
      "text/html": [
       "<ol class=list-inline>\n",
       "\t<li>80</li>\n",
       "\t<li>21</li>\n",
       "</ol>\n"
      ],
      "text/latex": [
       "\\begin{enumerate*}\n",
       "\\item 80\n",
       "\\item 21\n",
       "\\end{enumerate*}\n"
      ],
      "text/markdown": [
       "1. 80\n",
       "2. 21\n",
       "\n",
       "\n"
      ],
      "text/plain": [
       "[1] 80 21"
      ]
     },
     "metadata": {},
     "output_type": "display_data"
    },
    {
     "data": {
      "text/html": [
       "<ol class=list-inline>\n",
       "\t<li>31</li>\n",
       "\t<li>21</li>\n",
       "</ol>\n"
      ],
      "text/latex": [
       "\\begin{enumerate*}\n",
       "\\item 31\n",
       "\\item 21\n",
       "\\end{enumerate*}\n"
      ],
      "text/markdown": [
       "1. 31\n",
       "2. 21\n",
       "\n",
       "\n"
      ],
      "text/plain": [
       "[1] 31 21"
      ]
     },
     "metadata": {},
     "output_type": "display_data"
    },
    {
     "data": {
      "text/html": [
       "<ol class=list-inline>\n",
       "\t<li>28226</li>\n",
       "\t<li>21</li>\n",
       "</ol>\n"
      ],
      "text/latex": [
       "\\begin{enumerate*}\n",
       "\\item 28226\n",
       "\\item 21\n",
       "\\end{enumerate*}\n"
      ],
      "text/markdown": [
       "1. 28226\n",
       "2. 21\n",
       "\n",
       "\n"
      ],
      "text/plain": [
       "[1] 28226    21"
      ]
     },
     "metadata": {},
     "output_type": "display_data"
    },
    {
     "data": {
      "text/html": [
       "<ol class=list-inline>\n",
       "\t<li>32364</li>\n",
       "\t<li>21</li>\n",
       "</ol>\n"
      ],
      "text/latex": [
       "\\begin{enumerate*}\n",
       "\\item 32364\n",
       "\\item 21\n",
       "\\end{enumerate*}\n"
      ],
      "text/markdown": [
       "1. 32364\n",
       "2. 21\n",
       "\n",
       "\n"
      ],
      "text/plain": [
       "[1] 32364    21"
      ]
     },
     "metadata": {},
     "output_type": "display_data"
    },
    {
     "data": {
      "text/html": [
       "<ol class=list-inline>\n",
       "\t<li>32364</li>\n",
       "\t<li>21</li>\n",
       "</ol>\n"
      ],
      "text/latex": [
       "\\begin{enumerate*}\n",
       "\\item 32364\n",
       "\\item 21\n",
       "\\end{enumerate*}\n"
      ],
      "text/markdown": [
       "1. 32364\n",
       "2. 21\n",
       "\n",
       "\n"
      ],
      "text/plain": [
       "[1] 32364    21"
      ]
     },
     "metadata": {},
     "output_type": "display_data"
    },
    {
     "data": {
      "text/html": [
       "'data.frame'"
      ],
      "text/latex": [
       "'data.frame'"
      ],
      "text/markdown": [
       "'data.frame'"
      ],
      "text/plain": [
       "[1] \"data.frame\""
      ]
     },
     "metadata": {},
     "output_type": "display_data"
    },
    {
     "data": {
      "text/plain": [
       "R version 3.3.1 (2016-06-21)\n",
       "Platform: x86_64-w64-mingw32/x64 (64-bit)\n",
       "Running under: Windows 10 x64 (build 14393)\n",
       "\n",
       "locale:\n",
       "[1] LC_COLLATE=English_United States.1252 \n",
       "[2] LC_CTYPE=English_United States.1252   \n",
       "[3] LC_MONETARY=English_United States.1252\n",
       "[4] LC_NUMERIC=C                          \n",
       "[5] LC_TIME=English_United States.1252    \n",
       "\n",
       "attached base packages:\n",
       "[1] stats     graphics  grDevices utils     datasets  methods   base     \n",
       "\n",
       "other attached packages:\n",
       "[1] dplyr_0.5.0\n",
       "\n",
       "loaded via a namespace (and not attached):\n",
       " [1] Rcpp_0.12.10        digest_0.6.12       crayon_1.3.2       \n",
       " [4] assertthat_0.1      IRdisplay_0.4.4     repr_0.12.0        \n",
       " [7] R6_2.2.0            jsonlite_1.4        DBI_0.6-1          \n",
       "[10] magrittr_1.5        evaluate_0.10       stringi_1.1.5      \n",
       "[13] uuid_0.1-2          IRkernel_0.8.6.9000 tools_3.3.1        \n",
       "[16] stringr_1.2.0       pbdZMQ_0.2-5        tibble_1.3.0       "
      ]
     },
     "metadata": {},
     "output_type": "display_data"
    }
   ],
   "source": [
    "\n",
    "path <- \"C:/Users/Sonali/Box Sync/Huntington Interactome/MutantHTT_Interactors/Yeast/MutantHttSuppressors_green\"\n",
    "setwd(path)\n",
    "library(dplyr) # load required library\n",
    "\n",
    "###################################################################################\n",
    "### Joining all the Hippie interaction files (mouse and yeast) to a single dataframe##\n",
    "####################################################################################\n",
    "\n",
    "\n",
    "df1 <- read.delim(file= \"Mason2013_Hip_Interactns.txt\", header = TRUE, sep= \"\\t\") ## Mason2013 HIPPIE file (Yeast - suppressor)\n",
    "dim(df1)\n",
    "\n",
    "df2 <- read.delim(file= \"Chatterjee2013_Hip_Interactns.txt\", header = TRUE, sep= \"\\t\") ## Chatterjee2013 HIPPIE file (Yeast - suppressor)\n",
    "dim(df2)\n",
    "\n",
    "df3 <- read.delim(file= \"Giorgini2005_Hip_Interactns.txt\", header = TRUE, sep= \"\\t\") ## Giorgini2005 HIPPIE file (Yeast - suppressor)\n",
    "dim(df3)\n",
    "\n",
    "setwd(\"C:/Users/Sonali/Box Sync/Huntington Interactome/MutantHTT_Interactors/Yeast/MutantHttEnhancers_red\")\n",
    "\n",
    "df4 <- read.delim(file= \"Willingham2003_Hip_Interactns.txt\", header = TRUE, sep= \"\\t\") ## Willingham2003 HIPPIE file (Yeast - enhancer)\n",
    "dim(df4)\n",
    "\n",
    "setwd(\"C:/Users/Sonali/Box Sync/Huntington Interactome/MutantHTT_Interactors/Mouse\")\n",
    "df5 <- read.delim(file= \"Shirasaki_Hip_Interactns.txt\", header = TRUE, sep= \"\\t\") ## Shirasaki HIPPIE file (Mouse)\n",
    "dim(df5)\n",
    "\n",
    "#merge(df1, df2, by.x = \"title1\",by.y = \"title1\", all = TRUE)\n",
    "combndf <- rbind(df1,df2,df3, df4, df5) # works ! you could insert more that 2 dataframes if needed to bind together.\n",
    "dim(combndf)\n",
    "# Example for merging two data frames by common field.\n",
    "# Now to remove duplicate rows from the joined dataframe\n",
    "finalHippieInteracns <- unique(combndf) # this gives all the unique interactions in the dataframe-- based on all columns.\n",
    "dim(finalHippieInteracns)\n",
    "class(finalHippieInteracns)\n",
    "# finalHippieInteracns # watch your resultant dataframe\n",
    "\n",
    "#write.table(finalHippieInteracns, file=\"FinalHippieInteractns.txt\", sep=\"\\t\", col.names = NA) ### export file in text format to the folder.\n",
    "\n",
    "\n",
    "##############################################################################################\n",
    "##########END ################################################################################\n",
    "#############################################################################################\n",
    "\n",
    "sessionInfo()\n",
    "\n",
    "\n",
    "\n",
    "\n"
   ]
  },
  {
   "cell_type": "markdown",
   "metadata": {},
   "source": [
    "### IMPORTANT NOTE: Data pre-processing.\n",
    "The file \"FinalHippieInteractions.txt\" generated by joining all the Hippie interactions together for human orthologs of yeast and mouse interactors, was examined closely for any missing identifiers.\n",
    "It was found that some of the entries in the Alt.Interactor.A and B columns did not have their Uniprot IDs.\n",
    "We therefore used Uniprot database as a reference point for getting the missing uniprot ids. \n",
    "The database version, dated 6th May 2016 (UniProt Release 2016_04) was used to retreive the missing Uniprot IDs. Retrieve Id mapping tool on the website used.\n",
    "The resultant modified file of Final Hippie interactions with the retreived Uniprot IDs was saved as \"FinalHippieInteractions_UniprotNAsRemoved.txt\".\n",
    "This file will henceforth be used for processing and analysis."
   ]
  },
  {
   "cell_type": "code",
   "execution_count": null,
   "metadata": {
    "collapsed": true
   },
   "outputs": [],
   "source": []
  }
 ],
 "metadata": {
  "kernelspec": {
   "display_name": "R",
   "language": "R",
   "name": "ir"
  },
  "language_info": {
   "codemirror_mode": "r",
   "file_extension": ".r",
   "mimetype": "text/x-r-source",
   "name": "R",
   "pygments_lexer": "r",
   "version": "3.3.1"
  }
 },
 "nbformat": 4,
 "nbformat_minor": 2
}
