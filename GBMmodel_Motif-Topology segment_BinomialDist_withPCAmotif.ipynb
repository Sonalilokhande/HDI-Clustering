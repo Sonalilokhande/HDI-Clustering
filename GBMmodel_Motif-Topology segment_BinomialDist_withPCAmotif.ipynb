{
 "cells": [
  {
   "cell_type": "markdown",
   "metadata": {},
   "source": [
    "This notebook contains code that builds a GBM model on the Motif-Topology segment of the data.\n",
    "Classification: binomial.\n",
    "PCA reduction used to reduce motif variables.\n",
    "Note: We decided to pursue only group 1 and group 2 for prediction since Binary classification gives better prediction accuracy than a multinomial classification.\n",
    "\n",
    "\n",
    "## GBM model of Motif-Topology Segment\n",
    "### Data formating\n"
   ]
  },
  {
   "cell_type": "code",
   "execution_count": null,
   "metadata": {
    "collapsed": false
   },
   "outputs": [],
   "source": [
    "path <- \"C:/Users/Sonali/Box Sync/Rscripts\"\n",
    "setwd(path)\n",
    "\n",
    "library(dplyr)\n",
    "library(gbm)\n",
    "\n",
    "# .. data work from Sonali\n",
    "df2 <- read.delim(file = \"mergedMotifTop_withNA.txt\", header = T, sep = \"\\t\")\n",
    "df2[1:5, 55:61]\n",
    "rownames(df2) <- df2$X\n",
    "predictorX <- df2[,2:61] # identify the columns representing the variables and convert to matrix.\n",
    "dim(predictorX)\n",
    "predictorX[1:5,1:10]\n",
    "class(predictorX)\n",
    "\n",
    "# Linking the uniprot IDS with their respective group labels.\n",
    "predictorX$uniprot_swissprot <- row.names(predictorX) # create a column with uniprot IDs based on the row names.\n",
    "class(predictorX$uniprot_swissprot) # must be character\n",
    "\n",
    "dataf <- read.delim(file= \"all_uniprotIDs.txt\", header = TRUE, sep= \"\\t\") ## Data frame containing Uniprot Swiss ID\n",
    "\n",
    "dataf$uniprot_swissprot <- as.character(dataf$uniprot_swissprot) # convert factor to character.\n",
    "class(dataf$uniprot_swissprot)# must be \"character\"\n",
    "\n",
    "target <- left_join (predictorX,dataf,by=\"uniprot_swissprot\") # this function links the unique protein ids with their group labels\n",
    "\n",
    "mytarget <- target[,c(1:61,63)]\n",
    "mytargetvariable <- mytarget[,62] # the target variable"
   ]
  },
  {
   "cell_type": "markdown",
   "metadata": {},
   "source": [
    "### In-sample prediction with raw features Group 2\"Mutant Type\" Only"
   ]
  },
  {
   "cell_type": "code",
   "execution_count": null,
   "metadata": {
    "collapsed": true
   },
   "outputs": [],
   "source": [
    "x = predictorX[1:60] #dataframe of features\n",
    "y = mytargetvariable #dependent variable\n",
    "\n",
    "# recreate binary tags\n",
    "y.wtOnly <- ifelse(y==\"group1\", 1, 0)\n",
    "y.mtOnly <- ifelse(y==\"group2\", 1, 0)\n",
    "table(y.wtOnly,y)\n",
    "table(y.mtOnly,y)\n",
    "\n",
    "train5 <- data.frame(y.mtOnly, x)\n",
    "\n",
    "# binary classification\n",
    "set.seed(1344)\n",
    "fit2.gbm <- gbm(y.mtOnly~., data=train5, distribution = \"bernoulli\",\n",
    "                n.trees = 5000, \n",
    "                interaction.depth = 1,\n",
    "                n.minobsinnode = 1,\n",
    "                shrinkage = 0.001,\n",
    "                cv.folds = 5\n",
    ")\n",
    "\n",
    "gbm.perf(fit2.gbm)\n",
    "summary(fit2.gbm)\n",
    "\n",
    "# in-sample scoring\n",
    "pred2.gbm.train5 = predict(fit2.gbm, newdata=train5, gbm.perf(fit2.gbm,plot.it=F),type=\"response\")\n",
    "summary(pred2.gbm.train5)\n",
    "table(y.mtOnly)/length(y.mtOnly)\n",
    "\n",
    "# in-sample ROC\n",
    "library(pROC)\n",
    "roc(train5$y.mtOnly, pred2.gbm.train5, plot= TRUE, \n",
    "    legacy.axes = TRUE, grid=c(0.1, 0.2), print.auc = T, \n",
    "    main = \"GBM | Binary Target=MT Only | In-Sample\")\n"
   ]
  },
  {
   "cell_type": "markdown",
   "metadata": {},
   "source": [
    "### In-sample prediction with raw features Group 1 \"Wild Type\" Only"
   ]
  },
  {
   "cell_type": "code",
   "execution_count": null,
   "metadata": {
    "collapsed": true
   },
   "outputs": [],
   "source": [
    "x = predictorX[1:60] #dataframe of features\n",
    "y = mytargetvariable #dependent variable\n",
    "\n",
    "# recreate binary tags\n",
    "y.wtOnly <- ifelse(y==\"group1\", 1, 0)\n",
    "y.mtOnly <- ifelse(y==\"group2\", 1, 0)\n",
    "table(y.wtOnly,y)\n",
    "table(y.mtOnly,y)\n",
    "\n",
    "train6 <- data.frame(y.wtOnly, x)\n",
    "\n",
    "# binary classification\n",
    "set.seed(1344)\n",
    "fit2.gbm <- gbm(y.wtOnly~., data=train6, distribution = \"bernoulli\",\n",
    "                n.trees = 5000, \n",
    "                interaction.depth = 1,\n",
    "                n.minobsinnode = 1,\n",
    "                shrinkage = 0.001,\n",
    "                cv.folds = 5\n",
    ")\n",
    "\n",
    "gbm.perf(fit2.gbm)\n",
    "summary(fit2.gbm)\n",
    "\n",
    "# in-sample scoring\n",
    "pred2.gbm.train6 = predict(fit2.gbm, newdata=train6, gbm.perf(fit2.gbm,plot.it=F),type=\"response\")\n",
    "summary(pred2.gbm.train6)\n",
    "table(y.wtOnly)/length(y.wtOnly)\n",
    "\n",
    "# in-sample ROC\n",
    "library(pROC)\n",
    "roc(train6$y.wtOnly, pred2.gbm.train6, plot= TRUE, \n",
    "    legacy.axes = TRUE, grid=c(0.1, 0.2), print.auc = T, \n",
    "    main = \"GBM | Binary Target=WT Only | In-Sample\")\n"
   ]
  },
  {
   "cell_type": "markdown",
   "metadata": {},
   "source": [
    "### PCA analysis on Motif variables"
   ]
  },
  {
   "cell_type": "code",
   "execution_count": null,
   "metadata": {
    "collapsed": true
   },
   "outputs": [],
   "source": [
    "# .. PCA analysis to reduce motif variables\n",
    "pc.motif <- prcomp(train5[,12:61])\n",
    "summary(pc.motif)\n",
    "plot(pc.motif, type='l') # .. scree plot ==> keep top 7\n",
    "\n",
    "# check R's PCA list object\n",
    "names(pc.motif)\n",
    "dim(train5[,12:61]) # raw motif data = [48, 50]\n",
    "\n",
    "# variable loadings: projections of the original variable onto the PC-space\n",
    "class(pc.motif$rotation)\n",
    "dim(pc.motif$rotation) # [50, 48]: loading of each of 50 variables to 48 PCs\n",
    "head(pc.motif$rotation)\n",
    "\n",
    "# data used in PCA: original 35 records now in 35 PC-space\n",
    "class(pc.motif$x)\n",
    "dim(pc.motif$x) # [48, 48]: 48 records onto 48 PCs, instead of the original 50 variables\n",
    "head(pc.motif$x)\n",
    "\n",
    "# variance explained by top PCs\n",
    "pc.motif$sdev/sum(pc.motif$sdev)*100\n",
    "cumsum(pc.motif$sdev/sum(pc.motif$sdev)*100)\n",
    "plot(pc.motif$sdev/sum(pc.motif$sdev)*100) # .. full scree plot\n",
    "\n",
    "# keep only top 12 PCs\n",
    "pcs <- pc.motif$x\n",
    "pcs12 <- pcs[,1:12]\n",
    "head(pcs12)\n",
    "\n",
    "# .. motif PC7 features - association with the tag\n",
    "for (i in 1:12) {\n",
    "  print(colnames(pcs12)[i])\n",
    "  sid <- split(pcs12[,i],y)\n",
    "  print(sapply(sid, summary, na.rm=T))\n",
    "  cat(\"\\n\")\n",
    "}\n",
    "\n",
    "pcs12 <- pcs[,1:12]"
   ]
  },
  {
   "cell_type": "markdown",
   "metadata": {},
   "source": [
    "### In-sample prediction with Motif PCA and topology-Group 1 - wild type Only"
   ]
  },
  {
   "cell_type": "code",
   "execution_count": null,
   "metadata": {
    "collapsed": true
   },
   "outputs": [],
   "source": [
    "x = cbind(predictorX[1:10], pcs12)\n",
    "y = mytargetvariable #dependent variable\n",
    "\n",
    "# recreate binary tags\n",
    "y.wtOnly <- ifelse(y==\"group1\", 1, 0)\n",
    "y.mtOnly <- ifelse(y==\"group2\", 1, 0)\n",
    "table(y.wtOnly,y)\n",
    "table(y.mtOnly,y)\n",
    "\n",
    "# GBM binary classification for Group 1 - wild type Only\n",
    "train1 <- data.frame(y.wtOnly, x)\n",
    "\n",
    "# binary classification\n",
    "set.seed(1344)\n",
    "fit1.gbm <- gbm(y.wtOnly~., data=train1, distribution = \"bernoulli\",\n",
    "                n.trees = 5000, \n",
    "                interaction.depth = 1,\n",
    "                n.minobsinnode = 1,\n",
    "                shrinkage = 0.001,\n",
    "                cv.folds = 10\n",
    ")\n",
    "\n",
    "gbm.perf(fit1.gbm)\n",
    "summary(fit1.gbm)\n",
    "class(summary(fit1.gbm))\n",
    "as.character(summary(fit1.gbm)$var)\n",
    "list1 <- as.data.frame(summary(fit1.gbm))\n",
    "list <- as.data.frame(summary(fit1.gbm))\n",
    "finallist <- do.call(rbind,list); finallist\n",
    "\n",
    "\n",
    "# in-sample scoring\n",
    "pred1.gbm.train1 = predict(fit1.gbm, newdata=train1, gbm.perf(fit1.gbm,plot.it=F),type=\"response\")\n",
    "summary(pred1.gbm.train1)\n",
    "table(y.wtOnly)/length(y.wtOnly)\n",
    "\n",
    "# in-sample ROC\n",
    "library(pROC)\n",
    "roc(train1$y.wtOnly, pred1.gbm.train1, plot= TRUE, \n",
    "    legacy.axes = TRUE, grid=c(0.1, 0.2), print.auc = T, \n",
    "    main = \"GBM | Binary Target=WT Only with PCA | In-Sample\")\n",
    "```\n",
    "###In-sample prediction with Motif PCA and topology-Group 2 - Mutant type Only\n",
    "```{r In-sample prediction with Motif PCA and Topology - Group 2}\n",
    "x = cbind(predictorX[1:10], pcs12)\n",
    "y = mytargetvariable #dependent variable\n",
    "\n",
    "# recreate binary tags\n",
    "y.wtOnly <- ifelse(y==\"group1\", 1, 0)\n",
    "y.mtOnly <- ifelse(y==\"group2\", 1, 0)\n",
    "table(y.wtOnly,y)\n",
    "table(y.mtOnly,y)\n",
    "\n",
    "train2 <- data.frame(y.mtOnly, x)\n",
    "\n",
    "# binary classification\n",
    "set.seed(1344)\n",
    "fit2.gbm <- gbm(y.mtOnly~., data=train2, distribution = \"bernoulli\",\n",
    "                n.trees = 5000, \n",
    "                interaction.depth = 1,\n",
    "                n.minobsinnode = 1,\n",
    "                shrinkage = 0.001,\n",
    "                cv.folds = 10\n",
    ")\n",
    "\n",
    "gbm.perf(fit2.gbm)\n",
    "summary(fit2.gbm)\n",
    "\n",
    "# in-sample scoring\n",
    "pred2.gbm.train2 = predict(fit2.gbm, newdata=train2, gbm.perf(fit2.gbm,plot.it=F),type=\"response\")\n",
    "summary(pred2.gbm.train2)\n",
    "table(y.mtOnly)/length(y.mtOnly)\n",
    "\n",
    "# in-sample ROC\n",
    "library(pROC)\n",
    "roc(train2$y.mtOnly, pred2.gbm.train2, plot= TRUE, \n",
    "    legacy.axes = TRUE, grid=c(0.1, 0.2), print.auc = T, \n",
    "    main = \"GBM | Binary Target=MT Only with PCA | In-Sample\")"
   ]
  },
  {
   "cell_type": "markdown",
   "metadata": {},
   "source": [
    "### 10-fold cross-validation\n",
    "10-fold cross-validation gave large performance variations in the AUC due to k-fold random seeds\n",
    "AUC = 0.812, 0.7722, 0.7454, ..."
   ]
  },
  {
   "cell_type": "code",
   "execution_count": null,
   "metadata": {
    "collapsed": true
   },
   "outputs": [],
   "source": [
    "library(cvTools) #run the above line if you don't have this library\n",
    "library(gbm)\n",
    "\n",
    "k <- 10 #the number of folds\n",
    "\n",
    "x = cbind(predictorX[1:10], pcs12)\n",
    "y <- y.mtOnly\n",
    "dataset <- data.frame(y,x) # create training dataset\n",
    "\n",
    "set.seed(1234)\n",
    "#set.seed(2345)\n",
    "#set.seed(3456)\n",
    "folds <- cvFolds(NROW(x), K=k)\n",
    "\n",
    "kfoldpred <- rep(0,nrow(x))\n",
    "\n",
    "for(i in 1:k){\n",
    "  \n",
    "  train <- x[folds$subsets[folds$which != i], ] #Set the training set \n",
    "  train_response <- y[folds$subsets[folds$which != i]] # set the training set response\n",
    "  \n",
    "  table(train_response)\n",
    "  \n",
    "  validation <- x[folds$subsets[folds$which == i], ] #Set the validation set\n",
    "  \n",
    "  randomseed = 7842 + (i-1)*10\n",
    "  set.seed(randomseed)\n",
    "  \n",
    "  new_gbm.fit <- gbm(train_response~., data=train, distribution = \"bernoulli\",\n",
    "                     n.trees = 5000,\n",
    "                     interaction.depth = 1,\n",
    "                     n.minobsinnode = 1,\n",
    "                     shrinkage = 0.001,\n",
    "                     cv.folds = 10)\n",
    "  #Get your new GBM model (just fit on the train data)\n",
    "  \n",
    "  \n",
    "  #gbm.perf(new_gbm.fit)\n",
    "  new_gbmpred <- predict(new_gbm.fit, newdata=validation, \n",
    "                         gbm.perf(new_gbm.fit,plot.it=F),\n",
    "                         type=\"response\") #Get the predicitons for the validation set (from the model just fit on the train data)\n",
    "  \n",
    "  print(gbm.perf(new_gbm.fit,plot.it=F))\n",
    "  kfoldpred[folds$subsets[folds$which == i]] <- new_gbmpred #Put the hold out prediction in the data set for later use\n",
    "} \n",
    "\n",
    "kfoldpred# predictions for all proteins using k-fold validation !\n",
    "\n",
    "# k-fold validated ROC\n",
    "library(pROC)\n",
    "roc(y.mtOnly, kfoldpred, plot= TRUE, \n",
    "    legacy.axes = TRUE, grid=c(0.1, 0.2), print.auc = T, \n",
    "    main = \"GBM | Binary Target=MT Only | 10-Fold CV\")"
   ]
  },
  {
   "cell_type": "markdown",
   "metadata": {},
   "source": [
    "We therefore moved on to perform a repeated 10-fold cross validation for both the groups but changed the random seed 100 times\n",
    "### Repeated 10-fold cross-validation using motifPCA and topology - Group 1 wild type only\n",
    "##### NOTE: this loop takes a long time to run !"
   ]
  },
  {
   "cell_type": "code",
   "execution_count": null,
   "metadata": {
    "collapsed": true
   },
   "outputs": [],
   "source": [
    "library (gbm)\n",
    "library(cvTools)\n",
    "library(ROCR)\n",
    "library(pROC)\n",
    "# create empty roc plot to plot roc curves \n",
    "plot.roc(0:1, 0:1, type = \"n\", legacy.axes = TRUE,  main = \"GBM | Binary Target=WT Only with PCA | repeated 10-Fold CV\")\n",
    "\n",
    "\n",
    "k <- 10 #the number of folds\n",
    "\n",
    "x = cbind(predictorX[1:10], pcs12)\n",
    "y <- y.wtOnly\n",
    "#dataset <- data.frame(y,x) # create training dataset\n",
    "\n",
    "set.seed(1234)\n",
    "#set.seed(2345)\n",
    "#set.seed(3456)\n",
    "folds <- cvFolds(NROW(x), K=k)\n",
    "\n",
    "nsim <- 1 # number of repetitions\n",
    "myauc <- rep(0, nsim)\n",
    "\n",
    "mypreds <- data.frame(matrix(0, nrow(x),ncol = 100)) # create a dataframe to store results of all 100 nsim repetitions\n",
    "row.names(mypreds) <- row.names(x) # row names for the dataframe\n",
    "names(mypreds) <- paste(\"K\", (1:100), sep = \"\") # column names\n",
    "\n",
    "j <- 1\n",
    "\n",
    "x$kfoldlpred <- rep(0,nrow(x)) # append a column to original dataframe to temporarily store results of each k-fold\n",
    "\n",
    "# Start the clock!\n",
    "ptm <- proc.time()\n",
    "\n",
    "repeatcv <- function(){\n",
    "  while (j <= nsim){\n",
    "    for(i in 1:k){\n",
    "      \n",
    "      train <- x[folds$subsets[folds$which != i], -23] #Set the training set \n",
    "      train_response <- y[folds$subsets[folds$which != i]] # set the training set response\n",
    "      \n",
    "      #table(train_response)\n",
    "      \n",
    "      validation <- x[folds$subsets[folds$which == i], -23] #Set the validation set\n",
    "      \n",
    "      randomseed = 7842 + (i-1)*10 +j\n",
    "      set.seed(randomseed)\n",
    "      \n",
    "      new_gbm.fit <- gbm(train_response~., data=train, distribution = \"bernoulli\",\n",
    "                         n.trees = 5000,\n",
    "                         interaction.depth = 1,\n",
    "                         n.minobsinnode = 1,\n",
    "                         shrinkage = 0.001,\n",
    "                         cv.folds = 10)\n",
    "      #Get your new GBM model (just fit on the train data)\n",
    "      \n",
    "      #gbm.perf(new_gbm.fit)\n",
    "      new_gbmpred <- predict(new_gbm.fit, newdata=validation, \n",
    "                             gbm.perf(new_gbm.fit,plot.it=F),\n",
    "                             type=\"response\") #Get the predicitons for the validation set (from the model just fit on the train data)\n",
    "      \n",
    "      #print(gbm.perf(new_gbm.fit,plot.it=F))\n",
    "      x[folds$subsets[folds$which == i],]$kfoldlpred <- new_gbmpred #Put the hold out prediction in the data set for later use\n",
    "    } \n",
    "    mypreds[,j] <- x$kfoldlpred\n",
    "    rocobj2 <- roc(y.wtOnly, as.numeric(mypreds[,j]))\n",
    "    myauc[j] <- rocobj2$auc # assign auc value to the jth item of your numeric vector 'myauc'\n",
    "    plot.roc(rocobj2,add = TRUE)\n",
    "    gbmsummary <- as.data.frame(summary(new_gbm.fit))\n",
    "    j <- j+1\n",
    "  }\n",
    "  predictions <- as.data.frame(mypreds[,1],row.names = row.names(mypreds))\n",
    "  returnlist = list(gbmsummary, predictions,myauc,mean(myauc), sd(myauc))\n",
    "  returnlist\n",
    "}\n",
    "\n",
    "repeatcv()\n",
    "\n",
    "proc.time() - ptm"
   ]
  },
  {
   "cell_type": "markdown",
   "metadata": {},
   "source": [
    "### Repeated 10-fold cross-validation using motifPCA and topology - Group 2 mutant type only\n",
    "#### NOTE: this loop takes a long time to run!"
   ]
  },
  {
   "cell_type": "code",
   "execution_count": null,
   "metadata": {
    "collapsed": true
   },
   "outputs": [],
   "source": [
    "library (gbm)\n",
    "library(cvTools)\n",
    "library(ROCR)\n",
    "library(pROC)\n",
    "# create empty roc plot to plot roc curves \n",
    "plot.roc(0:1, 0:1, type = \"n\", legacy.axes = TRUE,  main = \"GBM | Binary Target=MT Only with PCA | repeated 10-Fold CV\")\n",
    "\n",
    "\n",
    "k <- 10 #the number of folds\n",
    "\n",
    "x = cbind(predictorX[1:10], pcs12)\n",
    "y <- y.mtOnly\n",
    "#dataset <- data.frame(y,x) # create training dataset\n",
    "\n",
    "set.seed(1234)\n",
    "#set.seed(2345)\n",
    "#set.seed(3456)\n",
    "folds <- cvFolds(NROW(x), K=k)\n",
    "\n",
    "nsim <- 1 # number of repetitions\n",
    "myauc <- rep(0, nsim)\n",
    "\n",
    "mypreds <- data.frame(matrix(0, nrow(x),ncol = 100)) # create a dataframe to store results of all 100 nsim repetitions\n",
    "row.names(mypreds) <- row.names(x) # row names for the dataframe\n",
    "names(mypreds) <- paste(\"K\", (1:100), sep = \"\") # column names\n",
    "\n",
    "j <- 1\n",
    "\n",
    "x$kfoldlpred <- rep(0,nrow(x)) # append a column to original dataframe to temporarily store results of each k-fold\n",
    "\n",
    "# Start the clock!\n",
    "ptm <- proc.time()\n",
    "\n",
    "repeatcv <- function(){\n",
    "  while (j <= nsim){\n",
    "    for(i in 1:k){\n",
    "  \n",
    "  train <- x[folds$subsets[folds$which != i], -23] #Set the training set \n",
    "  train_response <- y[folds$subsets[folds$which != i]] # set the training set response\n",
    "  \n",
    "  #table(train_response)\n",
    "  \n",
    "  validation <- x[folds$subsets[folds$which == i], -23] #Set the validation set\n",
    "  \n",
    "  randomseed = 7842 + (i-1)*10 +j\n",
    "  set.seed(randomseed)\n",
    "  \n",
    "  new_gbm.fit <- gbm(train_response~., data=train, distribution = \"bernoulli\",\n",
    "                     n.trees = 5000,\n",
    "                     interaction.depth = 1,\n",
    "                     n.minobsinnode = 1,\n",
    "                     shrinkage = 0.001,\n",
    "                     cv.folds = 10)\n",
    "  #Get your new GBM model (just fit on the train data)\n",
    "  \n",
    "  \n",
    "  #gbm.perf(new_gbm.fit)\n",
    "  new_gbmpred <- predict(new_gbm.fit, newdata=validation, \n",
    "                         gbm.perf(new_gbm.fit,plot.it=F),\n",
    "                         type=\"response\") #Get the predicitons for the validation set (from the model just fit on the train data)\n",
    "  \n",
    "  #print(gbm.perf(new_gbm.fit,plot.it=F))\n",
    "  x[folds$subsets[folds$which == i],]$kfoldlpred <- new_gbmpred #Put the hold out prediction in the data set for later use\n",
    "    } \n",
    "    mypreds[,j] <- x$kfoldlpred\n",
    "    rocobj2 <- roc(y.mtOnly, as.numeric(mypreds[,j]))\n",
    "    myauc[j] <- rocobj2$auc # assign auc value to the jth item of your numeric vector 'myauc'\n",
    "    plot.roc(rocobj2,add = TRUE)\n",
    "    gbmsummary <- as.data.frame(summary(new_gbm.fit))\n",
    "    j <- j+1\n",
    "  }\n",
    "  predictions <- as.data.frame(mypreds[,1],row.names = row.names(mypreds))\n",
    "  returnlist = list(gbmsummary,predictions,myauc,mean(myauc), sd(myauc))\n",
    "  returnlist\n",
    "}\n",
    "\n",
    "repeatcv()\n",
    "\n",
    "proc.time() - ptm"
   ]
  },
  {
   "cell_type": "markdown",
   "metadata": {},
   "source": [
    "### PCA analysis of motif variables using prcomp "
   ]
  },
  {
   "cell_type": "code",
   "execution_count": null,
   "metadata": {
    "collapsed": true
   },
   "outputs": [],
   "source": [
    "res.pca <- prcomp(train5[,12:61])\n",
    "names(res.pca)\n",
    "#the standard deviations of the principal components (the square roots of the eigenvalues)\n",
    "head(res.pca$sdev) \n",
    "#rotation : the matrix of variable loadings (columns are eigenvectors)\n",
    "head(unclass(res.pca$rotation)[, 1:4])\n",
    "#Variances of the principal componenets\n",
    "#The variance retained by each principal component \n",
    "summary(res.pca)\n",
    "# Eigenvalues\n",
    "eig <- (res.pca$sdev)^2\n",
    "# Variances in percentage\n",
    "variance <- eig*100/sum(eig)\n",
    "# Cumulative variances\n",
    "cumvar <- cumsum(variance)\n",
    "eig.decathlon2.active <- data.frame(eig = eig, variance = variance,\n",
    "                     cumvariance = cumvar)\n",
    "head(eig.decathlon2.active)\n"
   ]
  },
  {
   "cell_type": "markdown",
   "metadata": {},
   "source": [
    "#### Eigenvalues of each PC"
   ]
  },
  {
   "cell_type": "code",
   "execution_count": null,
   "metadata": {
    "collapsed": true
   },
   "outputs": [],
   "source": [
    "#eigenvalues measures the variability retained by each PC\n",
    "#The importance of princpal components (PCs) can be visualized with a scree plot\n",
    "barplot(eig.decathlon2.active[, 2], names.arg=1:nrow(eig.decathlon2.active), \n",
    "       main = \"Variances\",\n",
    "       xlab = \"Principal Components\",\n",
    "       ylab = \"Percentage of variances\",\n",
    "       col =\"steelblue\")\n",
    "# Add connected line segments to the plot\n",
    "lines(x = 1:nrow(eig.decathlon2.active), \n",
    "      eig.decathlon2.active[, 2], \n",
    "      type=\"b\", pch=19, col = \"red\")\n",
    "\n",
    "library(factoextra) # load library\n",
    "fviz_screeplot(res.pca, ncp=10)# same plot using factoextra library\n",
    "\n",
    "fviz_screeplot(res.pca, ncp=10, choice=\"eigenvalue\") # can visualize eigenvalues instead of variances on Y-axis using factorextra"
   ]
  },
  {
   "cell_type": "markdown",
   "metadata": {},
   "source": [
    "#### Coordinates of variables on the principal components"
   ]
  },
  {
   "cell_type": "code",
   "execution_count": null,
   "metadata": {
    "collapsed": true
   },
   "outputs": [],
   "source": [
    "#The correlation between variables and principal components is used as coordinates\n",
    "# Helper function : \n",
    "# Correlation between variables and principal components\n",
    "var_cor_func <- function(var.loadings, comp.sdev){\n",
    "  var.loadings*comp.sdev\n",
    "  }\n",
    "# Variable correlation/coordinates\n",
    "loadings <- res.pca$rotation\n",
    "sdev <- res.pca$sdev\n",
    "var.coord <- var.cor <- t(apply(loadings, 1, var_cor_func, sdev))\n",
    "head(var.coord[, 1:4])\n",
    "\n",
    "# Plot the correlation circle\n",
    "a <- seq(0, 2*pi, length = 100)\n",
    "plot( cos(a), sin(a), type = 'l', col=\"gray\",\n",
    "      xlab = \"PC1\",  ylab = \"PC2\")\n",
    "abline(h = 0, v = 0, lty = 2)\n",
    "# Add active variables\n",
    "arrows(0, 0, var.coord[, 1], var.coord[, 2], \n",
    "      length = 0.1, angle = 15, code = 2)\n",
    "# Add labels\n",
    "text(var.coord, labels=rownames(var.coord), cex = 1, adj=1)"
   ]
  },
  {
   "cell_type": "markdown",
   "metadata": {},
   "source": [
    "#### Cos2 : quality of representation for variables on the factor map"
   ]
  },
  {
   "cell_type": "code",
   "execution_count": null,
   "metadata": {
    "collapsed": true
   },
   "outputs": [],
   "source": [
    "var.cos2 <- var.coord^2\n",
    "head(var.cos2[, 1:4])\n",
    "\n",
    "# use of factoextra package to illustrate quality of variables in color based on the value of their cos2\n",
    "fviz_pca_var(res.pca, col.var=\"contrib\")+\n",
    "scale_color_gradient2(low=\"white\", mid=\"blue\", \n",
    "      high=\"red\", midpoint=55) + theme_minimal()"
   ]
  },
  {
   "cell_type": "markdown",
   "metadata": {},
   "source": [
    "#### Contributions of the variables to the principal components"
   ]
  },
  {
   "cell_type": "code",
   "execution_count": null,
   "metadata": {
    "collapsed": true
   },
   "outputs": [],
   "source": [
    "comp.cos2 <- apply(var.cos2, 2, sum)\n",
    "contrib <- function(var.cos2, comp.cos2){var.cos2*100/comp.cos2}\n",
    "var.contrib <- t(apply(var.cos2,1, contrib, comp.cos2))\n",
    "head(var.contrib[, 1:4])\n",
    "\n",
    "# contribution of variables on PC1 - in a decreasing order.\n",
    "var.contrib_PC4 <- var.contrib[order(var.contrib[, \"PC4\"], decreasing = TRUE),]\n",
    "\n",
    "# Highlight the most important (i.e, contributing) variables :\n",
    "fviz_pca_var(res.pca, col.var=\"contrib\") +\n",
    "scale_color_gradient2(low=\"white\", mid=\"blue\", \n",
    "      high=\"red\", midpoint=50) + theme_minimal()"
   ]
  },
  {
   "cell_type": "markdown",
   "metadata": {},
   "source": [
    "### Group 1- wild type only - Contribution of variables and individuals on PCs"
   ]
  },
  {
   "cell_type": "code",
   "execution_count": null,
   "metadata": {
    "collapsed": true
   },
   "outputs": [],
   "source": [
    "# contribution of top 10 variables on PC 4\n",
    "fviz_contrib(res.pca, choice = \"var\", axes = 4, top = 5,xtickslab.rt = 90)\n",
    "# visualize contribution of top 10 individuals on PCs\n",
    "fviz_contrib(res.pca, choice = \"ind\", axes = 4, top = 5,xtickslab.rt = 90)\n",
    "\n",
    "# contribution of top 10 variables on PC 10\n",
    "fviz_contrib(res.pca, choice = \"var\", axes = 10, top = 5,xtickslab.rt = 90)\n",
    "# visualize contribution of top 10 individuals on PCs\n",
    "fviz_contrib(res.pca, choice = \"ind\", axes = 10, top = 5,xtickslab.rt = 90)\n",
    "\n",
    "# contribution of top 10 variables on PC 6\n",
    "fviz_contrib(res.pca, choice = \"var\", axes = 6, top = 5,xtickslab.rt = 90)\n",
    "# visualize contribution of top 10 individuals on PCs\n",
    "fviz_contrib(res.pca, choice = \"ind\", axes = 6, top = 5,xtickslab.rt = 90)"
   ]
  },
  {
   "cell_type": "markdown",
   "metadata": {},
   "source": [
    "### Group 2- mutant type only - Contribution of variables and individuals on PCs"
   ]
  },
  {
   "cell_type": "code",
   "execution_count": null,
   "metadata": {
    "collapsed": true
   },
   "outputs": [],
   "source": [
    "# contribution of top 10 variables on PC 5\n",
    "fviz_contrib(res.pca, choice = \"var\", axes = 5, top = 5,xtickslab.rt = 90)\n",
    "# visualize contribution of top 10 individuals on PCs\n",
    "fviz_contrib(res.pca, choice = \"ind\", axes = 5, top = 5,xtickslab.rt = 90)\n",
    "\n",
    "# contribution of top 10 variables on PC 11\n",
    "fviz_contrib(res.pca, choice = \"var\", axes = 11, top = 5,xtickslab.rt = 90)\n",
    "# visualize contribution of top 10 individuals on PCs\n",
    "fviz_contrib(res.pca, choice = \"ind\", axes = 11, top = 5,xtickslab.rt = 90)"
   ]
  }
 ],
 "metadata": {
  "kernelspec": {
   "display_name": "R",
   "language": "R",
   "name": "ir"
  },
  "language_info": {
   "codemirror_mode": "r",
   "file_extension": ".r",
   "mimetype": "text/x-r-source",
   "name": "R",
   "pygments_lexer": "r",
   "version": "3.3.1"
  }
 },
 "nbformat": 4,
 "nbformat_minor": 2
}
